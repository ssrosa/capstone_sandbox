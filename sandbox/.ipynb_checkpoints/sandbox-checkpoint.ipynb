{
 "cells": [
  {
   "cell_type": "markdown",
   "metadata": {},
   "source": [
    "# Capstone Project Sandbox"
   ]
  },
  {
   "cell_type": "code",
   "execution_count": 1,
   "metadata": {},
   "outputs": [
    {
     "name": "stderr",
     "output_type": "stream",
     "text": [
      "/Users/ssrosa/anaconda3/lib/python3.7/site-packages/tqdm/autonotebook/__init__.py:14: TqdmExperimentalWarning: Using `tqdm.autonotebook.tqdm` in notebook mode. Use `tqdm.tqdm` instead to force console mode (e.g. in jupyter console)\n",
      "  \" (e.g. in jupyter console)\", TqdmExperimentalWarning)\n"
     ]
    }
   ],
   "source": [
    "import numpy as np\n",
    "import matplotlib.pyplot as plt\n",
    "from tqdm.autonotebook import tqdm"
   ]
  },
  {
   "cell_type": "code",
   "execution_count": 22,
   "metadata": {},
   "outputs": [],
   "source": [
    "class Lot(object):\n",
    "    def __init__(self):\n",
    "        self.size = None\n",
    "        self.zoned_as = None\n",
    "        #Coords where lot is. Just for viz\n",
    "        self.loc = []\n",
    "        self.residences = [[]]\n",
    "\n",
    "class Developer(object):\n",
    "    def __init__(self):\n",
    "        self.residences_built = [[]]\n",
    "        #100sqft - about a 9X12 room\n",
    "        #Hard coded for now\n",
    "        self.min_res_size = 100\n",
    "    def build_on(self, lot):\n",
    "        #Remaining empty land on this lot:\n",
    "        avail_area = lot.size - sum([residence.size for residence in lot.residences[-1]])\n",
    "        #If avail area exceeds min residence size that this developer can build\n",
    "        if  avail_area > self.min_res_size:\n",
    "            #Distribution of possible sizes for a new residence\n",
    "            size_dist = np.arange(self.min_res_size, avail_area)\n",
    "            #Initialize new residence object\n",
    "            #Give residence a random size within the realm of possibility\n",
    "            size = np.random.choice(size_dist)\n",
    "            residence = Residence(size, lot.zoned_as)\n",
    "            #Add residence to last list of residences built on the lot\n",
    "            lot.residences[-1].append(residence)\n",
    "            #Add residence to last list of residence built by this developer\n",
    "            self.residences_built[-1].append(residence)\n",
    "\n",
    "class Residence(object):\n",
    "    def __init__(self, size, zoned_as):\n",
    "        self.size = size\n",
    "        self.zoned_as = zoned_as\n",
    "        #100sqft - about a 9X12 room\n",
    "        #Hard coded for now\n",
    "        self.min_unit_size = 100\n",
    "        \n",
    "        max_units = self.zoned_as // 8 #8 people per unit\n",
    "        # if zoned_as 8, can have 1 unit\n",
    "        # if zoned_as 16, can have 2 units\n",
    "        # if zoned_as 48, cah nave 6 units\n",
    "        # if zoned as 96, can have 12 units\n",
    "        self.units = [[]]\n",
    "        #Not clear at this point whether nested list will be necessary but am including it for now.\n",
    "        max_units = zoned_as / 8\n",
    "        #Units can be larger than 100 sqft\n",
    "        if size / max_units >= self.min_unit_size:\n",
    "            self.unit_size = size / max_units\n",
    "        #But cannot be smaller\n",
    "        else:\n",
    "            self.unit_size = self.min_unit_size\n",
    "        avail_area = self.size\n",
    "        while  avail_area >= self.unit_size:\n",
    "            #Create a new unit object\n",
    "            unit = Unit(self.unit_size)\n",
    "            #Add unit object to last item of Residence's units list.\n",
    "            self.units[-1].append(unit)\n",
    "            avail_area -= self.unit_size\n",
    "\n",
    "    #def demolish():\n",
    "    #check that all residents are moved out from units\n",
    "    #remove residence from lot\n",
    "\n",
    "class Unit(object):\n",
    "    def __init__(self, size):\n",
    "        self.size = size\n",
    "        #Value is a list. -1 is current value.\n",
    "        self.value = [(size * price_sqft)]\n",
    "        #Occupant is a list. -1 is current occupant.\n",
    "        self.occ = [False]\n",
    "\n",
    "class Household(object):\n",
    "    '''\n",
    "    '''\n",
    "    def __init__(self, has):\n",
    "        #List of whether the household is homeless or not\n",
    "        self.housed = [False]\n",
    "        #Hold income constant for now but still write as a list\n",
    "        self.has = [has]\n",
    "    \n",
    "    def move(self, unit):\n",
    "        '''\n",
    "        Extra checks to make sure household doesn't get assigned taken unit or mispriced unit.\n",
    "        Changes .housed[-1] to True and adds this household to the list of occupants in the unit.\n",
    "        '''\n",
    "        if not self.housed[-1] and not unit.occ[-1] and \\\n",
    "            (unit.value[-1] <= self.has[-1]):\n",
    "            #Confirm that household needs a place to live\n",
    "            #Confirm that unit not already taken by another household from this round\n",
    "            #Confirm household can afford unit\n",
    "            #Household becomes occupant of unit\n",
    "            unit.occ.append(self)\n",
    "            #Houshold gets marked as housed\n",
    "            self.housed[-1] = True\n",
    "            print(f'Family housed in unit with size {unit.size} and value {unit.value}')\n",
    "            return True\n",
    "        #Could not find a home in all available units, gets marked homeless for another time step\n",
    "        else:\n",
    "            return False\n",
    "\n",
    "def create_lots(self, land, lot_size_avg, lot_size_std, zon_avg, zon_std):\n",
    "    new_lots = []\n",
    "    #Create a distribution to simulate variety of lot sizes\n",
    "    lot_dist = np.random.normal(scale = lot_size_std, loc = lot_size_avg, size = num_lots)\n",
    "    #Create a distribution to simulate variety of zoning\n",
    "    #Empty for now\n",
    "    \n",
    "    while land > 0:\n",
    "        size = np.round(np.random.choice(lot_dist, replace = False), 0)\n",
    "        #Create a new lot only if the lot size will fit on the available land left\n",
    "        if size > land:\n",
    "            #Need to break the loop here otherwise it keeps running until a random size is\n",
    "            #drawn that fits the available remaining land.\n",
    "            break\n",
    "        else:\n",
    "            #Instantiate a lot with a random size\n",
    "            lot = Lot()\n",
    "            lot.size = size\n",
    "            #Reduce available land area by the size of this lot\n",
    "            land -= size\n",
    "            #Randomly zone the lot\n",
    "            lot.zoned_as = np.random.choice([8, 16, 48, 96], replace = True)\n",
    "            #Add this lot to the list of lots in the sim\n",
    "            new_lots.append(lot)\n",
    "    #Append this list to the list of lots as the last item        \n",
    "    self.lots.append(new_lots)\n",
    "        \n",
    "def create_developers(self):\n",
    "    '''\n",
    "    Instantiate some number of developer objects.\n",
    "    '''\n",
    "    developer = [Developer()]\n",
    "    self.developers.append(developer)\n",
    "                \n",
    "def round_of_developing(self, developers, lots):\n",
    "    '''\n",
    "    Iterate over list of developers and call each developer's develop method\n",
    "    '''\n",
    "    [developer.build_on(lot) for lot in lots for developer in developers]\n",
    "\n",
    "def create_households(self, pop_growth, has_avg, has_std):\n",
    "    '''\n",
    "    Create some number of households to come to the city.\n",
    "    '''\n",
    "    income_dist = np.random.normal(scale = has_std, loc = has_avg, size = pop_growth)\n",
    "    self.households[-1].extend([Household(i) for i in income_dist])\n",
    "        \n",
    "def print_stats(self, time_step):\n",
    "    print(f'Population at time step {time_step}: {len(self.households[-1])}')\n",
    "    print(f'{len(self.lots[-1])} lots on {land} sqft of land')\n",
    "    print(f'{len(self.developers)} developers')\n",
    "    #Get number of residences. FOr now there's no master list for some reason\n",
    "    num_residences = len(self.residences[-1])\n",
    "    num_units = len(self.units[-1])\n",
    "    print(f'{num_residences} residences and {num_units} units')\n",
    "    housing = [True if household.housed[-1] else False for household in self.households[-1]]\n",
    "    num_housed = sum(housing)\n",
    "    num_homeless = len(housing) - num_housed\n",
    "    print(f'{num_housed} households have housing and {num_homeless} households are homeless.')\n",
    "    \n",
    "class Simulation(object):\n",
    "    def __init__(self, \n",
    "                 #For creating lots\n",
    "                 land, num_lots, lot_size_avg, lot_size_std, zon_avg, zon_std,\n",
    "                 #For bringing people to the city\n",
    "                 pop_growth, has_avg, has_std, \n",
    "                 #For running the sim over time\n",
    "                 total_time_steps, inflation):\n",
    "        #Number of years to run sim\n",
    "        self.total_time_steps = total_time_steps\n",
    "        #List of increments by which to increase population\n",
    "        self.pop_growth = pop_growth\n",
    "        #Held as constant for now\n",
    "        self.has_avg = has_avg\n",
    "        #Held as constant for now\n",
    "        self.has_std = has_std\n",
    "        #Held as constant for now\n",
    "        self.inflation = inflation\n",
    "        \n",
    "        #STEP 1: \n",
    "        #Fill up land area with lots\n",
    "        self.lots = []\n",
    "        #Will return a list of lots. Becomes lots[-1]\n",
    "        self.create_lots(land, lot_size_avg, lot_size_std, zon_avg, zon_std)\n",
    "       \n",
    "        #STEP 2: Create developers to build residences\n",
    "        self.developers = []\n",
    "        self.create_developers()\n",
    "        self.round_of_developing(self.developers[-1], self.lots[-1])\n",
    "        \n",
    "        #Store residences in a list\n",
    "        self.residences = [[residence for lot in self.lots[-1] for residence in lot.residences[-1]]]\n",
    "        #Store units in a list\n",
    "        self.units = [[unit for residence in self.residences[-1] for unit in residence.units[-1]]]\n",
    "        \n",
    "        #STEP 3: Create people to come to the city and move in\n",
    "        self.households = [[]]\n",
    "        #Pop the last value of population growth\n",
    "        self.create_households(self.pop_growth.pop(), \n",
    "                               self.has_avg, \n",
    "                               self.has_std)\n",
    "        \n",
    "        #STEP 4: Let each household try to move into a house\n",
    "       # self.round_of_moving()\n",
    "        \n",
    "        #STEP 5: Print initial statistics\n",
    "        print('Simulation started.')\n",
    "        self.print_stats(0)\n",
    "        \n",
    "def time_step(self, step):\n",
    "    \n",
    "    #Demolish any old residences\n",
    "    #pass\n",
    "    #Kill off any old households\n",
    "    #pass\n",
    "    \n",
    "    #Update all lists of objects\n",
    "    self.lots.append(self.lots[-1])\n",
    "    self.developers.append(self.developers[-1])\n",
    "    #self.residences.append(self.residences[-1])\n",
    "    #self.units.append(self.units[-1])\n",
    "    self.households.append(self.households[-1])\n",
    "    \n",
    "    #Inflation increases values or something\n",
    "    \n",
    "    #New developers\n",
    "    #Leave out for now\n",
    "    #Will need to extend [-1] spot of developer list with any new developers\n",
    "    \n",
    "    #New households move to town\n",
    "    #Note to self: this should automatically extend the [-1] list of households\n",
    "    print('adding households')\n",
    "    self.create_households(self.pop_growth.pop(), self.has_avg, self.has_std)\n",
    "    print('building new residences')\n",
    "    #Build new residences on available land\n",
    "    self.round_of_developing(self.developers[-1], self.lots[-1])\n",
    "    #Manually append the list of all residences\n",
    "    #Not recording residences year by year for now\n",
    "    #althoguh they could be retrieved from the history in each developer\n",
    "    print('appending new residences to master list')\n",
    "    self.residences.append([residence for lot in self.lots[-1] for residence in lot.residences[-1]])\n",
    "    #Need to manually add units to list for sim\n",
    "    print('appending new units to master list')\n",
    "    self.units.append([unit for residence in self.residences[-1] for unit in residence.units[-1]])\n",
    "    #Have homeless try to move into new places\n",
    "    print('people moving')\n",
    "    self.round_of_moving()\n",
    "    \n",
    "def run(self):\n",
    "    pass\n",
    "    for _ in tqdm(range(self.total_time_steps)):\n",
    "        # Print out the current time step \n",
    "        print(f\"Time step {_}\")\n",
    "        self.time_step(_)\n",
    "        self.print_stats(_)\n",
    "        \n"
   ]
  },
  {
   "cell_type": "code",
   "execution_count": 181,
   "metadata": {},
   "outputs": [],
   "source": [
    "def get_bins(bin_by, num_bins):\n",
    "    '''\n",
    "    items (list): whole objects to sort\n",
    "    bin_by (list): list of bin_by attribute of all objects, in same order\n",
    "    '''\n",
    "\n",
    "    item_values = np.array(bin_by)\n",
    "    #Get min and max values of unit values\n",
    "    v_min, v_max = item_values.min(), item_values.max()\n",
    "    #Range of values\n",
    "    v_range = v_max - v_min\n",
    "    #percent of range of values from min to max\n",
    "    interval = v_range * (1 / num_bins)\n",
    "    #List of intervals from 100% of range to 0%\n",
    "    intervals = [v_max - (interval * i) for i in np.arange(num_bins + 1)]\n",
    "    #Manually add a zero as the smallest value\n",
    "    intervals.append(0)\n",
    "    #List of tuples defining the max and min of each bin, largest to smallest\n",
    "    bins = [(intervals[i], intervals[i + 1]) for i in np.arange(num_bins + 1)]\n",
    "    \n",
    "    return bins\n",
    "\n",
    "def to_bin(bins, items_with_values):\n",
    "    '''\n",
    "    Input a list of tuples of items plus their values by which to bin them.\n",
    "    Separates items from values to allow variety in choice of\n",
    "    attribute by which to bin the items. (e.g. unit.value, \n",
    "    household.has, &c.)\n",
    "    '''\n",
    "    items_with_values\n",
    "    #A dictionary of bins for all items by item_value\n",
    "    #Put each item in the bin if its value is less than/equal to the bin max and \n",
    "    #greater than the bin min\n",
    "    items_binned = {bins[i][0]: [v[0] for v in items_with_values if \\\n",
    "                                  ((v[1] <= bins[i][0]) and (v[1] > bins[i][1]))\n",
    "                                ] for i in np.arange(len(bins))}\n",
    "    return items_binned"
   ]
  },
  {
   "cell_type": "code",
   "execution_count": 182,
   "metadata": {},
   "outputs": [],
   "source": [
    "#Sort all units available\n",
    "ua_sorted = sorted([u for u in sim.units[-1] if not u.occ[-1]], \\\n",
    "                       key = lambda u: u.value[-1], reverse = True)\n",
    "#Sort all homeless households\n",
    "hh_sorted = sorted([h for h in sim.households[-1] if not h.housed[-1]], \\\n",
    "                       key = lambda h: h.has[-1], reverse = True)\n",
    "#Get bins based on ua\n",
    "bins = get_bins([u.value[-1] for u in ua_sorted], 10)\n",
    "#If max that hh can spend is higher than the highest value of the bins\n",
    "#Adjust the max value of the bin\n",
    "homeless_max = np.array([h.has[-1] for h in hh_sorted if not h.housed[-1]]).max()\n",
    "if homeless_max > bins[0][0]:\n",
    "    bins[0] = (homeless_max, bins[0][1])\n",
    "#Now put all units avail into these bins    \n",
    "ua_binned = to_bin(bins, [(u, u.value[-1]) for u in ua_sorted])\n",
    "#Put all homeless households into the same bins:\n",
    "hh_binned = to_bin(bins, [(h, h.has[-1]) for h in hh_sorted])"
   ]
  },
  {
   "cell_type": "code",
   "execution_count": 183,
   "metadata": {},
   "outputs": [],
   "source": [
    "#Shoudl give same result as ua_binned.keys or hh_binned.keys\n",
    "keys = [b[0] for b in bins]\n",
    "#Push households down into lower bins if no units avail in a given bin\n",
    "for i, key in enumerate(keys):\n",
    "    #If this ua key is empty and it's not the last key:f\n",
    "    #print('i, key', i, key)\n",
    "    if not ua_binned[key] and (keys[i] != keys[-1]):\n",
    "        #print(key, 'is empty in units avail list')\n",
    "        #Move households into next lowest key\n",
    "        #if this bin isn't empty in the hh list\n",
    "        if hh_binned[key]:\n",
    "            #Add this bin's keys onto the end of the next list whetehr it's empty or not\n",
    "            hh_binned[keys[i + 1]].extend(hh_binned[key])\n",
    "            #Sort the values in the bin to account for the new additions\n",
    "            hh_binned[keys[i + 1]] = sorted(hh_binned[keys[i + 1]], key = lambda h: h.has[-1], reverse = True)\n",
    "            #This bin gets emptied\n",
    "            hh_binned[key] = []"
   ]
  },
  {
   "cell_type": "code",
   "execution_count": 184,
   "metadata": {},
   "outputs": [
    {
     "name": "stdout",
     "output_type": "stream",
     "text": [
      "\n",
      "\n",
      "Key 2352.3216015212074 ( 0 out of 3 )\n",
      "ua_binned key 2352.3216015212074 has 1 units avail\n",
      "Trying unit 1915.0\n",
      "hh_binned key 2352.3216015212074 has 2 households avail\n",
      "Trying household 2352.3216015212074\n",
      "unit 1915.0 goes to 2352.3216015212074\n",
      "Moving on to next unit\n",
      "\n",
      "\n",
      "Iterated over every unit for 2352.3216015212074\n",
      "households in bin 2352.3216015212074 still has 1\n",
      "Moving these to 670.6333333333332 which had 6 househodls\n",
      "670.6333333333332 in hh now has 7 households\n",
      "\n",
      "\n",
      "Key 670.6333333333332 ( 1 out of 3 )\n",
      "ua_binned key 670.6333333333332 has 2 units avail\n",
      "Trying unit 519.0\n",
      "hh_binned key 670.6333333333332 has 7 households avail\n",
      "Trying household 2053.239133765906\n",
      "unit 519.0 goes to 2053.239133765906\n",
      "Moving on to next unit\n",
      "\n",
      "\n",
      "I might have a problem.\n",
      "Units remaining: [519.0]\n",
      "But I've decided to move on anyway.\n",
      "\n",
      "\n",
      "Key 315.0999999999999 ( 2 out of 3 )\n",
      "ua_binned key 315.0999999999999 has 11 units avail\n",
      "Trying unit 211.0\n",
      "hh_binned key 315.0999999999999 has 1 households avail\n",
      "Trying household 385.6928538057625\n",
      "unit 211.0 goes to 385.6928538057625\n",
      "Moving on to next unit\n",
      "\n",
      "\n",
      "ua_binned key 315.0999999999999 has 10 units avail\n",
      "Trying unit 211.0\n",
      "ua_binned key 315.0999999999999 has 10 units avail\n",
      "Trying unit 211.0\n",
      "ua_binned key 315.0999999999999 has 10 units avail\n",
      "Trying unit 211.0\n",
      "ua_binned key 315.0999999999999 has 10 units avail\n",
      "Trying unit 211.0\n",
      "ua_binned key 315.0999999999999 has 10 units avail\n",
      "Trying unit 137.33333333333334\n",
      "ua_binned key 315.0999999999999 has 10 units avail\n",
      "Trying unit 137.33333333333334\n",
      "ua_binned key 315.0999999999999 has 10 units avail\n",
      "Trying unit 137.33333333333334\n",
      "ua_binned key 315.0999999999999 has 10 units avail\n",
      "Trying unit 137.33333333333334\n",
      "ua_binned key 315.0999999999999 has 10 units avail\n",
      "Trying unit 137.33333333333334\n"
     ]
    }
   ],
   "source": [
    "#Only keys with units are called\n",
    "#At this point hh should have been moved into the same keys\n",
    "keys = [k for k in keys if ua_binned[k]]\n",
    "\n",
    "for x, key in enumerate(keys):\n",
    "    print('\\n')\n",
    "    print('Key', key, '(', x, 'out of', len(keys), ')')\n",
    "    #Iterate over units available in this bin\n",
    "    for i, unit in enumerate(ua_binned[key]):\n",
    "        print('ua_binned key', key, 'has', len(ua_binned[key]), 'units avail')\n",
    "        print('Trying unit', unit.value[-1])\n",
    "        #If this bin of households isn't empty\n",
    "        #if hh_binned[key]:\n",
    "        #Iterate over homeless households in this bin\n",
    "        for j, hh in enumerate(hh_binned[key]):\n",
    "            print('hh_binned key', key, 'has', len(hh_binned[key]), 'households avail')\n",
    "            print('Trying household', hh.has[-1])\n",
    "            #Change to 'can move here' later\n",
    "            if unit.value[-1] <= hh.has[-1]:\n",
    "                print('unit', unit.value[-1], 'goes to', hh.has[-1])\n",
    "                #Pop household from its list\n",
    "                hh_binned[key].pop(j)\n",
    "                #Pop unit from its list\n",
    "                ua_binned[key].pop(i)\n",
    "                #Reduce counter by 1\n",
    "                counter -= 1\n",
    "                #Stop the loop and move on to next unit\n",
    "                print('Moving on to next unit')\n",
    "                print('\\n')\n",
    "                break\n",
    "    #If, after iterating over every unit in the bin, there are still hh remaining\n",
    "    if hh_binned[key] and not ua_binned[key]:\n",
    "        print('Iterated over every unit for', key)\n",
    "        print('households in bin', key, 'still has', len(hh_binned[key]))\n",
    "        print('Moving these to', keys[x + 1], 'which had', len(hh_binned[keys[x + 1]]), 'househodls')\n",
    "        #Add this bin's keys onto the end of the next list whether it's empty or not\n",
    "        hh_binned[keys[x + 1]].extend(hh_binned[key])\n",
    "        #Sort the values in the bin to account for the new additions\n",
    "        hh_binned[keys[x + 1]] = sorted(hh_binned[keys[x + 1]], key = lambda h: h.has[-1], reverse = True)\n",
    "        print(keys[x + 1], 'in hh now has', len(hh_binned[keys[x + 1]]), 'households')\n",
    "    elif hh_binned[key]:\n",
    "        print('I might have a problem.')\n",
    "        print('Units remaining:', [u.value[-1] for u in ua_binned[key]])\n",
    "        print('But I\\'ve decided to move on anyway.')"
   ]
  },
  {
   "cell_type": "code",
   "execution_count": 159,
   "metadata": {},
   "outputs": [
    {
     "data": {
      "text/plain": [
       "[(2352.3216015212074, [1915.0]),\n",
       " (1737.2333333333333, []),\n",
       " (1559.4666666666667, []),\n",
       " (1381.6999999999998, []),\n",
       " (1203.9333333333334, []),\n",
       " (1026.1666666666665, []),\n",
       " (848.3999999999999, []),\n",
       " (670.6333333333332, [519.0, 519.0]),\n",
       " (492.86666666666656, []),\n",
       " (315.0999999999999,\n",
       "  [211.0,\n",
       "   211.0,\n",
       "   211.0,\n",
       "   211.0,\n",
       "   211.0,\n",
       "   211.0,\n",
       "   137.33333333333334,\n",
       "   137.33333333333334,\n",
       "   137.33333333333334,\n",
       "   137.33333333333334,\n",
       "   137.33333333333334]),\n",
       " (137.33333333333326, [])]"
      ]
     },
     "execution_count": 159,
     "metadata": {},
     "output_type": "execute_result"
    }
   ],
   "source": [
    "#binned_units\n",
    "[(key, [v.value[-1] for v in val]) for key, val in ua_binned.items()]"
   ]
  },
  {
   "cell_type": "code",
   "execution_count": 169,
   "metadata": {},
   "outputs": [
    {
     "data": {
      "text/plain": [
       "[(2352.3216015212074, []),\n",
       " (1737.2333333333333, []),\n",
       " (1559.4666666666667, []),\n",
       " (1381.6999999999998, []),\n",
       " (1203.9333333333334, []),\n",
       " (1026.1666666666665, []),\n",
       " (848.3999999999999, []),\n",
       " (670.6333333333332, [519.0]),\n",
       " (492.86666666666656, []),\n",
       " (315.0999999999999,\n",
       "  [211.0, 211.0, 211.0, 137.33333333333334, 137.33333333333334]),\n",
       " (137.33333333333326, [])]"
      ]
     },
     "execution_count": 169,
     "metadata": {},
     "output_type": "execute_result"
    }
   ],
   "source": [
    "#binned_units after loop has run\n",
    "[(key, [v.value[-1] for v in val]) for key, val in ua_binned.items()]"
   ]
  },
  {
   "cell_type": "code",
   "execution_count": 160,
   "metadata": {},
   "outputs": [
    {
     "data": {
      "text/plain": [
       "[(2352.3216015212074, [2352.3216015212074, 2053.239133765906]),\n",
       " (1737.2333333333333, [1686.7998241904722, 1627.9948851869844]),\n",
       " (1559.4666666666667, [1525.9849249035185]),\n",
       " (1381.6999999999998, [1212.626205873878]),\n",
       " (1203.9333333333334, [1159.285889527693]),\n",
       " (1026.1666666666665, []),\n",
       " (848.3999999999999, [748.0436543904457]),\n",
       " (670.6333333333332, []),\n",
       " (492.86666666666656, [385.6928538057625]),\n",
       " (315.0999999999999, []),\n",
       " (137.33333333333326, [34.334747201729215])]"
      ]
     },
     "execution_count": 160,
     "metadata": {},
     "output_type": "execute_result"
    }
   ],
   "source": [
    "#binned_hh\n",
    "[(key, [v.has[-1] for v in val]) for key, val in hh_binned.items()]"
   ]
  },
  {
   "cell_type": "code",
   "execution_count": 167,
   "metadata": {},
   "outputs": [
    {
     "data": {
      "text/plain": [
       "[(2352.3216015212074, [2352.3216015212074, 2053.239133765906]),\n",
       " (1737.2333333333333, []),\n",
       " (1559.4666666666667, []),\n",
       " (1381.6999999999998, []),\n",
       " (1203.9333333333334, []),\n",
       " (1026.1666666666665, []),\n",
       " (848.3999999999999, []),\n",
       " (670.6333333333332,\n",
       "  [1686.7998241904722,\n",
       "   1627.9948851869844,\n",
       "   1525.9849249035185,\n",
       "   1212.626205873878,\n",
       "   1159.285889527693,\n",
       "   748.0436543904457]),\n",
       " (492.86666666666656, []),\n",
       " (315.0999999999999, [385.6928538057625]),\n",
       " (137.33333333333326, [34.334747201729215])]"
      ]
     },
     "execution_count": 167,
     "metadata": {},
     "output_type": "execute_result"
    }
   ],
   "source": [
    "#binned_hh after reorganization \n",
    "[(key, [v.has[-1] for v in val]) for key, val in hh_binned.items()]"
   ]
  },
  {
   "cell_type": "code",
   "execution_count": 170,
   "metadata": {},
   "outputs": [
    {
     "data": {
      "text/plain": [
       "[(2352.3216015212074, [2053.239133765906]),\n",
       " (1737.2333333333333, []),\n",
       " (1559.4666666666667, []),\n",
       " (1381.6999999999998, []),\n",
       " (1203.9333333333334, []),\n",
       " (1026.1666666666665, []),\n",
       " (848.3999999999999, []),\n",
       " (670.6333333333332,\n",
       "  [1686.7998241904722,\n",
       "   1627.9948851869844,\n",
       "   1525.9849249035185,\n",
       "   1212.626205873878,\n",
       "   1159.285889527693,\n",
       "   748.0436543904457]),\n",
       " (492.86666666666656, []),\n",
       " (315.0999999999999, [385.6928538057625]),\n",
       " (137.33333333333326, [34.334747201729215])]"
      ]
     },
     "execution_count": 170,
     "metadata": {},
     "output_type": "execute_result"
    }
   ],
   "source": [
    "#binned_hh after loop is run\n",
    "[(key, [v.has[-1] for v in val]) for key, val in hh_binned.items()]"
   ]
  },
  {
   "cell_type": "code",
   "execution_count": 171,
   "metadata": {},
   "outputs": [],
   "source": [
    "#[k for k in hh_binned.keys()] == [k for k in ua_binned.keys()]"
   ]
  },
  {
   "cell_type": "markdown",
   "metadata": {},
   "source": [
    "# RESUME HERE. This code mostly works but seems to skip certain units randomly when it feels like it's finished. DOn't know how to debug."
   ]
  },
  {
   "cell_type": "code",
   "execution_count": null,
   "metadata": {},
   "outputs": [],
   "source": []
  },
  {
   "cell_type": "code",
   "execution_count": null,
   "metadata": {},
   "outputs": [],
   "source": []
  },
  {
   "cell_type": "code",
   "execution_count": null,
   "metadata": {},
   "outputs": [],
   "source": []
  },
  {
   "cell_type": "code",
   "execution_count": null,
   "metadata": {},
   "outputs": [],
   "source": []
  },
  {
   "cell_type": "code",
   "execution_count": null,
   "metadata": {},
   "outputs": [],
   "source": []
  },
  {
   "cell_type": "code",
   "execution_count": null,
   "metadata": {},
   "outputs": [],
   "source": []
  },
  {
   "cell_type": "code",
   "execution_count": null,
   "metadata": {},
   "outputs": [],
   "source": []
  },
  {
   "cell_type": "code",
   "execution_count": null,
   "metadata": {},
   "outputs": [],
   "source": [
    "#Test for bin_items: look at all binned items\n",
    "#[v.value[-1] for key, val in binned_items.items() for v in val]\n",
    "\n",
    "#Look at one bin\n",
    "#[v.value[-1] for v in binned_items[445.3666666666667]]"
   ]
  },
  {
   "cell_type": "code",
   "execution_count": null,
   "metadata": {},
   "outputs": [],
   "source": []
  },
  {
   "cell_type": "code",
   "execution_count": null,
   "metadata": {},
   "outputs": [],
   "source": []
  },
  {
   "cell_type": "code",
   "execution_count": null,
   "metadata": {},
   "outputs": [],
   "source": []
  },
  {
   "cell_type": "code",
   "execution_count": 24,
   "metadata": {
    "scrolled": true
   },
   "outputs": [],
   "source": [
    "def round_of_moving(self):\n",
    "    '''\n",
    "    Iterate over list of households and call each household's move method.\n",
    "    '''\n",
    "    #Copy each household's housed bool to the last value in its list\n",
    "    #Falses continue to be False; trues continue to be True\n",
    "    for h in self.households[-1]:\n",
    "        h.housed.append(h.housed[-1])\n",
    "    \n",
    "    units_for_rent = [unit for unit in self.units[-1] if not unit.occ[-1]]\n",
    "    ordered_u = sorted(units_for_rent, key = lambda u: u.value[-1], reverse = True)\n",
    "    \n",
    "    #List of all homeless househo,lds\n",
    "    hh = [h for h in self.households[-1] if not h.housed[-1]]\n",
    "    #Same list reordered big to small\n",
    "    ohh = sorted([h for h in hh if not h.housed[-1]], \\\n",
    "                       key = lambda h: h.has[-1], reverse = True)\n",
    "    \n",
    "#                 #Skip to next subbin.\n",
    "#                 else:\n",
    "#                     print('Household', ohh[0].has[-1], 'cannot afford sub bin', subbin)\n",
    "#                     break     \n",
    "        #If highest value homeless household cannot afford this bin, move down to next bin\n",
    "#         else:\n",
    "#             print('Household', ohh[0].has[-1], 'cannot afford bin', bin_max)\n",
    "            #continue\n",
    "\n",
    "    \n",
    "    \n",
    "Simulation.round_of_moving = round_of_moving"
   ]
  },
  {
   "cell_type": "code",
   "execution_count": 157,
   "metadata": {},
   "outputs": [
    {
     "name": "stdout",
     "output_type": "stream",
     "text": [
      "Simulation started.\n",
      "Population at time step 0: 10\n",
      "4 lots on 10000 sqft of land\n",
      "1 developers\n",
      "4 residences and 14 units\n",
      "0 households have housing and 10 households are homeless.\n"
     ]
    }
   ],
   "source": [
    "#Attach all these functions to the Simulation object\n",
    "Simulation.create_lots = create_lots\n",
    "Simulation.create_developers = create_developers\n",
    "Simulation.create_households = create_households\n",
    "Simulation.round_of_developing = round_of_developing        \n",
    "Simulation.round_of_moving = round_of_moving\n",
    "Simulation.print_stats = print_stats\n",
    "Simulation.time_step = time_step\n",
    "Simulation.run = run\n",
    "\n",
    "#CITY SETTINGS\n",
    "#Size of land area in sqft (for now)\n",
    "land = 10000 #one trillion sqft in SF\n",
    "num_lots = 10 #800,000 in SF\n",
    "lot_size_avg = 2000\n",
    "lot_size_std = 50\n",
    "zon_avg = None\n",
    "zon_std = None\n",
    "\n",
    "\n",
    "#Starting population\n",
    "pop_growth = [0, 0, 0, 0, 0, 0, 0, 0, 0, 0, 10]\n",
    "#[1000, 900, 800, 700, 600, 500, 400, 300, 200, 100, 1000,]\n",
    "            # 1000, 900, 800, 700, 600, 500, 400, 300, 200, 100, 1000]\n",
    "#[0, 0, 0, 0, 0, 0, 0, 0, 0, 0, 10]\n",
    "#[10, 9, 8, 7, 6, 5, 4, 3, 2, 1, 1, 100]\n",
    "             #,\n",
    "             ##1000, 900, 800, 700, 600, 500, 400, 300, 200, 100, 1000,\n",
    "             #1000, 900, 800, 700, 600, 500, 400, 300, 200, 100, 1000]\n",
    "has_avg = 1500\n",
    "has_std = 500\n",
    "\n",
    "#Time and money\n",
    "price_sqft = 1\n",
    "inflation = 0.02\n",
    "years = 10\n",
    "\n",
    "#Other\n",
    "bins = 10 #This is the number of bins in which to put objects\n",
    "\n",
    "#CREATE SIM\n",
    "sim = Simulation(land = land, \n",
    "                 num_lots = num_lots, \n",
    "                 lot_size_avg = lot_size_avg, \n",
    "                 lot_size_std = lot_size_std,\n",
    "                 zon_avg = zon_avg, \n",
    "                 zon_std = zon_std,\n",
    "                 pop_growth = pop_growth, \n",
    "                 has_avg = has_avg, \n",
    "                 has_std = has_std, \n",
    "                 total_time_steps = years,\n",
    "                 inflation = inflation\n",
    "                 )"
   ]
  },
  {
   "cell_type": "code",
   "execution_count": 7,
   "metadata": {},
   "outputs": [
    {
     "data": {
      "text/plain": [
       "[]"
      ]
     },
     "execution_count": 7,
     "metadata": {},
     "output_type": "execute_result"
    }
   ],
   "source": [
    "sim.residences[-1]"
   ]
  },
  {
   "cell_type": "code",
   "execution_count": null,
   "metadata": {},
   "outputs": [],
   "source": []
  },
  {
   "cell_type": "code",
   "execution_count": null,
   "metadata": {},
   "outputs": [],
   "source": []
  },
  {
   "cell_type": "code",
   "execution_count": null,
   "metadata": {},
   "outputs": [],
   "source": []
  },
  {
   "cell_type": "code",
   "execution_count": null,
   "metadata": {},
   "outputs": [],
   "source": []
  },
  {
   "cell_type": "code",
   "execution_count": null,
   "metadata": {},
   "outputs": [],
   "source": []
  },
  {
   "cell_type": "code",
   "execution_count": null,
   "metadata": {},
   "outputs": [],
   "source": []
  },
  {
   "cell_type": "code",
   "execution_count": null,
   "metadata": {},
   "outputs": [],
   "source": []
  },
  {
   "cell_type": "code",
   "execution_count": null,
   "metadata": {},
   "outputs": [],
   "source": []
  },
  {
   "cell_type": "code",
   "execution_count": null,
   "metadata": {},
   "outputs": [],
   "source": []
  },
  {
   "cell_type": "code",
   "execution_count": null,
   "metadata": {},
   "outputs": [],
   "source": []
  },
  {
   "cell_type": "code",
   "execution_count": null,
   "metadata": {},
   "outputs": [],
   "source": [
    "import pandas as pd\n",
    "pd.Series(unit_val_arr).value_counts()"
   ]
  },
  {
   "cell_type": "code",
   "execution_count": null,
   "metadata": {},
   "outputs": [],
   "source": [
    "plt.hist([u.value[-1] for u in sim.units[-1]])"
   ]
  },
  {
   "cell_type": "markdown",
   "metadata": {},
   "source": [
    "# Gather data for viz of sim run"
   ]
  },
  {
   "cell_type": "code",
   "execution_count": null,
   "metadata": {},
   "outputs": [],
   "source": [
    "#lots\n",
    "\n",
    "num_residences = [len(res) for res in sim.residences]\n",
    "\n",
    "residence_size_avg = [(sum([r.size for r in res]) / len(res)) for res in sim.residences]\n",
    "\n",
    "units_num = [len(uni) for uni in sim.units]\n",
    "\n",
    "unit_size_avg = [(sum([u.size for u in uni]) / len(uni)) for uni in sim.units]\n",
    "\n",
    "unit_value_avg = [(sum([u.value[-1] for u in uni]) / len(uni)) for uni in sim.units]\n",
    "\n",
    "#Problem in the recording of households\n",
    "households_num = [len(hou) for hou in sim.households]\n",
    "\n",
    "households_housed = [len([h for h in hou if h.housed[]]) for hou in sim.households]\n",
    "\n",
    "# households_homeless\n",
    "\n",
    "#For now is not a list\n",
    "# household_income_avg"
   ]
  },
  {
   "cell_type": "code",
   "execution_count": null,
   "metadata": {},
   "outputs": [],
   "source": [
    "sim.households[0][0].housed"
   ]
  },
  {
   "cell_type": "markdown",
   "metadata": {},
   "source": [
    "# RESUME HERE. Something with lambda to get only the housing bool that you want for a certain yeare"
   ]
  },
  {
   "cell_type": "code",
   "execution_count": null,
   "metadata": {},
   "outputs": [],
   "source": []
  },
  {
   "cell_type": "markdown",
   "metadata": {},
   "source": [
    "# VARIOUS CHECKS FOR OBJECTS IN SIM"
   ]
  },
  {
   "cell_type": "code",
   "execution_count": null,
   "metadata": {},
   "outputs": [],
   "source": [
    "#Check sizes of all lots\n",
    "#sum([lot.size for lot in sim.lots[-1]])"
   ]
  },
  {
   "cell_type": "code",
   "execution_count": null,
   "metadata": {
    "scrolled": false
   },
   "outputs": [],
   "source": [
    "#Check size of each residence\n",
    "#[residence.size for lot in sim.lots[-1] for residence in lot.residences[-1]]"
   ]
  },
  {
   "cell_type": "code",
   "execution_count": null,
   "metadata": {},
   "outputs": [],
   "source": [
    "#Check size of each unit\n",
    "unit_sizes = [unit.value for lot in sim.lots[-1] for residence in lot.residences[-1] for unit in residence.units[-1]]"
   ]
  },
  {
   "cell_type": "code",
   "execution_count": null,
   "metadata": {},
   "outputs": [],
   "source": [
    "len(unit_sizes)"
   ]
  },
  {
   "cell_type": "code",
   "execution_count": null,
   "metadata": {},
   "outputs": [],
   "source": [
    "set(unit_sizes)"
   ]
  },
  {
   "cell_type": "code",
   "execution_count": null,
   "metadata": {},
   "outputs": [],
   "source": [
    "plt.hist(unit_sizes, bins = 50)"
   ]
  },
  {
   "cell_type": "code",
   "execution_count": null,
   "metadata": {},
   "outputs": [],
   "source": [
    "#Test for bin_items: look at all binned items\n",
    "#[v.value[-1] for key, val in binned_items.items() for v in val]\n",
    "\n",
    "#Look at one bin\n",
    "#[v.value[-1] for v in binned_items[445.3666666666667]]"
   ]
  },
  {
   "cell_type": "code",
   "execution_count": null,
   "metadata": {},
   "outputs": [],
   "source": [
    "#Check area of each residence that isn't carved into units\n",
    "#[(residence.size - sum(unit.size for unit in residence.units[-1])) for lot in sim.lots[-1] for residence in lot.residences[-1]]"
   ]
  },
  {
   "cell_type": "code",
   "execution_count": null,
   "metadata": {},
   "outputs": [],
   "source": [
    "#Check unbuilt land of each lot\n",
    "#avail_area = [lot.size - sum([residence.size for residence in lot.residences[-1]]) for lot in sim.lots[-1]]\n",
    "#Avail area on each lot should be less than min_size for building a new residence\n",
    "#avail_area"
   ]
  },
  {
   "cell_type": "code",
   "execution_count": null,
   "metadata": {},
   "outputs": [],
   "source": [
    "#Check how many residences on each lot\n",
    "#[len(lot.residences[-1]) for lot in sim.lots[-1]]"
   ]
  },
  {
   "cell_type": "code",
   "execution_count": null,
   "metadata": {},
   "outputs": [],
   "source": [
    "#Check how many units in each residence\n",
    "#[len(residence.units[-1]) for lot in sim.lots[-1] for residence in lot.residences[-1]]"
   ]
  },
  {
   "cell_type": "code",
   "execution_count": null,
   "metadata": {},
   "outputs": [],
   "source": [
    "#Check a single lot\n",
    "#vars(sim.lots[-1][0])"
   ]
  },
  {
   "cell_type": "code",
   "execution_count": null,
   "metadata": {},
   "outputs": [],
   "source": [
    "#Check a single residence on a lot\n",
    "#vars(sim.lots[-1][0].residences[-1][0])"
   ]
  },
  {
   "cell_type": "code",
   "execution_count": null,
   "metadata": {},
   "outputs": [],
   "source": [
    "#Check a single unit in a residence\n",
    "#vars(sim.lots[-1][0].residences[-1][0].units[-1][0])"
   ]
  },
  {
   "cell_type": "code",
   "execution_count": null,
   "metadata": {},
   "outputs": [],
   "source": [
    "#THIS IS GREAT CODE DON'T DELETE\n",
    "#Check all unit values\n",
    "#How to quadruple nest a list comprehension:\n",
    "#smallest for biggest in biggest for second biggest in second biggest for third biggest in third biggest\n",
    "unit_values = [unit.value[-1] for lot in sim.lots[-1] for residence in lot.residences[-1] for unit in residence.units[-1]]\n",
    "#unit_values\n",
    "#plt.hist(unit_values)"
   ]
  },
  {
   "cell_type": "code",
   "execution_count": null,
   "metadata": {},
   "outputs": [],
   "source": [
    "#Get total number of units in all residences on all lots\n",
    "len([unit.value[-1] for lot in sim.lots[-1] for residence in lot.residences[-1] for unit in residence.units[-1]])"
   ]
  },
  {
   "cell_type": "code",
   "execution_count": null,
   "metadata": {},
   "outputs": [],
   "source": [
    "#Check incomes for all households\n",
    "#incomes = [household.has[-1] for household in sim.households[-1]]\n",
    "#plt.hist(incomes)"
   ]
  },
  {
   "cell_type": "code",
   "execution_count": null,
   "metadata": {},
   "outputs": [],
   "source": []
  },
  {
   "cell_type": "code",
   "execution_count": null,
   "metadata": {},
   "outputs": [],
   "source": [
    "#Check incomes for currently housed households\n",
    "#incomes_currently_housed = [household.has[-1] for household in sim.households[-1] if household.housed[-1]]\n",
    "#plt.hist(incomes_currently_housed)"
   ]
  },
  {
   "cell_type": "code",
   "execution_count": null,
   "metadata": {},
   "outputs": [],
   "source": [
    "#Check housing history for all households\n",
    "#housing_history = [household.housed for household in sim.households[-1]]\n",
    "#housing_history"
   ]
  },
  {
   "cell_type": "code",
   "execution_count": null,
   "metadata": {},
   "outputs": [],
   "source": []
  },
  {
   "cell_type": "code",
   "execution_count": null,
   "metadata": {},
   "outputs": [],
   "source": []
  },
  {
   "cell_type": "code",
   "execution_count": null,
   "metadata": {},
   "outputs": [],
   "source": []
  },
  {
   "cell_type": "code",
   "execution_count": null,
   "metadata": {},
   "outputs": [],
   "source": [
    "# #Test for instantiation of lots, residences built by developers, units per residence\n",
    "# for lot in sim.lots[-1]:\n",
    "#     print('Lot size:', lot.size)\n",
    "#     print('Number of buildings on lot:', len(lot.residences[-1]))\n",
    "#     for residence in lot.residences[-1]:\n",
    "#         print('Building size:', residence.size)\n",
    "#         print('Building zoned as:', residence.zoned_as)\n",
    "#         print('Units in building:', len(residence.units[-1]))\n",
    "#         print('Sqft per unit:', residence.size / len(residence.units[-1]))\n",
    "#         for unit in residence.units[-1]:\n",
    "#             print('Unit size:', unit.size)\n",
    "#             print('Unit initial value:', unit.value[0])\n",
    "#             print('Unit current value:', unit.value[-1])\n",
    "#             print('Household size:', unit.occ[-1].size)\n",
    "#             print('Household spending power:', unit.occ[-1].size)\n",
    "#     print('\\n')"
   ]
  },
  {
   "cell_type": "code",
   "execution_count": null,
   "metadata": {},
   "outputs": [],
   "source": []
  },
  {
   "cell_type": "code",
   "execution_count": null,
   "metadata": {},
   "outputs": [],
   "source": []
  },
  {
   "cell_type": "code",
   "execution_count": null,
   "metadata": {},
   "outputs": [],
   "source": []
  },
  {
   "cell_type": "code",
   "execution_count": null,
   "metadata": {},
   "outputs": [],
   "source": []
  },
  {
   "cell_type": "code",
   "execution_count": null,
   "metadata": {},
   "outputs": [],
   "source": []
  },
  {
   "cell_type": "code",
   "execution_count": null,
   "metadata": {},
   "outputs": [],
   "source": []
  },
  {
   "cell_type": "code",
   "execution_count": null,
   "metadata": {},
   "outputs": [],
   "source": []
  },
  {
   "cell_type": "code",
   "execution_count": null,
   "metadata": {},
   "outputs": [],
   "source": []
  },
  {
   "cell_type": "code",
   "execution_count": null,
   "metadata": {},
   "outputs": [],
   "source": []
  },
  {
   "cell_type": "code",
   "execution_count": null,
   "metadata": {},
   "outputs": [],
   "source": [
    "#CITY SETTINGS\n",
    "#Size of land area in sqft (for now)\n",
    "land = 1000000 #one trillion sqft in SF\n",
    "num_lots = 1000 #800,000 in SF\n",
    "lot_size_avg = 2000\n",
    "lot_size_std = 500\n",
    "\n",
    "#Starting population\n",
    "pop_start = 1000\n",
    "has_avg = 2000\n",
    "has_std = 500\n",
    "\n",
    "#Time and money\n",
    "inflation = 0.02\n",
    "years = 10\n",
    "\n",
    "#Probability distribution of house sizes\n",
    "#house_size_dist = np.random.normal(scale = house_size_std, loc = avg_house_size, size = households)\n",
    "\n",
    "\n",
    "sim = Simulation(total_time_steps = years, \n",
    "                 land = land, \n",
    "                 num_lots = num_lots, \n",
    "                 lot_size_avg = lot_size_avg, \n",
    "                 lot_size_std = lot_size_std,\n",
    "                 pop_start = pop_start, \n",
    "                 has_avg = has_avg, \n",
    "                 has_std = has_std, \n",
    "                 inflation = inflation,\n",
    "                 )"
   ]
  },
  {
   "cell_type": "code",
   "execution_count": null,
   "metadata": {},
   "outputs": [],
   "source": []
  },
  {
   "cell_type": "code",
   "execution_count": null,
   "metadata": {},
   "outputs": [],
   "source": []
  },
  {
   "cell_type": "markdown",
   "metadata": {},
   "source": [
    "# Viz: Assigning lots at start of sim (throws an error when top of grid is reached)"
   ]
  },
  {
   "cell_type": "code",
   "execution_count": null,
   "metadata": {},
   "outputs": [],
   "source": [
    "#VIZ\n",
    "def draw_land_grid(land):\n",
    "    '''Writes a dict of y values, each with a dict of x values.\n",
    "    Works as a grid of xes and yes.'''\n",
    "    root = int(np.round(np.sqrt(land), 0) + 3)\n",
    "    x_range = root\n",
    "    y_range = root\n",
    "    #Each point in the dict will get switched True when a house is drawn on it\n",
    "    grid = {y: {x: False for x in np.arange(x_range)} for y in np.arange(y_range)}\n",
    "    return grid\n",
    "\n",
    "def assign_loc(lot, x, y, frontage):\n",
    "    '''\n",
    "    Assign a location to a lot.\n",
    "    '''\n",
    "    xes = np.arange(x, x + frontage)\n",
    "    yes = np.arange(y, y + frontage)\n",
    "    loc = [(x, y) for y in yes for x in xes]\n",
    "    lot.loc = loc\n",
    "    \n",
    "def fill_coords(grid, loc):\n",
    "    '''\n",
    "    Fill the coords in the grid dict after assignment of previous lot.\n",
    "    '''\n",
    "    for coord in loc:\n",
    "        #Reset the point to True in the dict of grid\n",
    "        grid[coord[1]][coord[0]] = True\n",
    "\n",
    "def avail(grid, x_, y_, frontage):\n",
    "    #X adjusted to the left for padding\n",
    "    x = x_ - 1\n",
    "    #Y adjusted to the left for padding\n",
    "    y = y_ - 1\n",
    "    x_range = np.arange((x), (x + frontage + 2))\n",
    "    y_range = np.arange((y), (y + frontage + 2))\n",
    "    #List of bools returned from each point checked\n",
    "    bottom = [grid[y][x_i] for x_i in x_range[:-1]]\n",
    "    top = [grid[y + frontage][x_i] for x_i in x_range[1:]]\n",
    "    left = [grid[y_i][x] for y_i in y_range[1:]]\n",
    "    right = [grid[y_i][x + frontage] for y_i in y_range[:-1]]\n",
    "    \n",
    "    #Value of all bools\n",
    "    points = sum(bottom) + sum(top) + sum(left) + sum(right)\n",
    "    \n",
    "    #If even one point in the proposed lot is taken (points != 0)\n",
    "    if points:\n",
    "        return False\n",
    "    #If not a single point in the proposed lot is taken (points == 0)\n",
    "    else:\n",
    "        #print(x, y, 'is avail!')\n",
    "        return True\n",
    "\n",
    "#(Each row is a tuple of (x, bool))\n",
    "def find_loc(grid, lot, next_x, next_y):\n",
    "    '''\n",
    "    #Traverse each row in the land grid via grid dict\n",
    "    '''\n",
    "    #Padding -1 right side\n",
    "    x_range = len(grid[0]) - 1\n",
    "    #Padding -1 top\n",
    "    y_range = len(grid) - 1\n",
    "    \n",
    "    #One side of the square lot\n",
    "    frontage = int(np.round(np.sqrt(lot.size), 0))\n",
    "    \n",
    "     #Traverse the y rows in the grid dict\n",
    "    for y in np.arange(next_y, y_range):\n",
    "        #If row isn't too full for this lot\n",
    "        if x_range - sum([v for k, v in grid[y].items()]) > frontage:\n",
    "            #print('Looking in row', y)\n",
    "            #Traverse the row of x values\n",
    "            for x in np.arange(next_x, x_range):\n",
    "                #print('Looking in x', x)\n",
    "                #If the right side of the lot is at the right edge of the grid, \n",
    "                #and at or below the top, continue\n",
    "                if ((x + frontage) <= (x_range - 1)) and ((y + frontage) <= (y_range - 1)):\n",
    "                    #If all frontage points in the proposed lot return False\n",
    "                    if avail(grid, x, y, frontage):\n",
    "                        #print('Assigning lot at', x, y)\n",
    "                        #House gets assigned these coords\n",
    "                        assign_loc(lot, x, y, frontage)\n",
    "                        #Coords get changed to True in the grid dict\n",
    "                        fill_coords(grid, lot.loc)\n",
    "                        #Break the loop\n",
    "                        #print('Found lot for ', lot.size)\n",
    "                        #Return next x and next y to start on\n",
    "                        #print((x + frontage), y)\n",
    "                        return (x + frontage), y\n",
    "        #If spot isn't found, reset x to 0 before moving up to next y\n",
    "        #(Start at 1, not 0, for padding on left side)\n",
    "        next_x = 1\n"
   ]
  },
  {
   "cell_type": "code",
   "execution_count": null,
   "metadata": {
    "scrolled": true
   },
   "outputs": [],
   "source": [
    "#Draw grid for sim\n",
    "grid = draw_land_grid(land)\n",
    "\n",
    "counter = 0\n",
    "#Padding +1\n",
    "next_x = 1\n",
    "#Padding +1\n",
    "next_y = 1\n",
    "\n",
    "for _ in tqdm(range(len(sim.housing_stock))):\n",
    "    #Draw a lot on the grid\n",
    "    next_x, next_y = find_loc(grid, sim.housing_stock[_], next_x, next_y)\n",
    "    #counter += 1\n",
    "    #print(counter, 'out of', len(sim.housing_stock))"
   ]
  },
  {
   "cell_type": "code",
   "execution_count": null,
   "metadata": {},
   "outputs": [],
   "source": [
    "#What does the grid look like?\n",
    "grid[0]"
   ]
  },
  {
   "cell_type": "code",
   "execution_count": null,
   "metadata": {},
   "outputs": [],
   "source": [
    "  "
   ]
  },
  {
   "cell_type": "code",
   "execution_count": null,
   "metadata": {},
   "outputs": [],
   "source": [
    "sim.housing_stock[10].sold"
   ]
  },
  {
   "cell_type": "code",
   "execution_count": null,
   "metadata": {},
   "outputs": [],
   "source": [
    "sim.run()"
   ]
  },
  {
   "cell_type": "markdown",
   "metadata": {},
   "source": [
    "# Visualizing lots (some overlap)"
   ]
  },
  {
   "cell_type": "code",
   "execution_count": null,
   "metadata": {},
   "outputs": [],
   "source": [
    "#Draw viz of all lots\n",
    "fig = plt.figure(figsize = (14,14))\n",
    "for lot in sim.housing_stock:\n",
    "    if lot.sold:\n",
    "        color = 'blue'\n",
    "    else:\n",
    "        color = np.random.choice(['dimgray', 'darkgray', 'silver', 'slategray', 'powderblue', 'whitesmoke'])\n",
    "    x = [point[0] for point in lot.loc]\n",
    "    y = [point[1] for point in lot.loc]\n",
    "    #ADD IF STATEMENT FOR SALE OF LOT\n",
    "    plt.scatter(x, y, label = lot.size, marker = 's', color = color)\n",
    "plt.show()"
   ]
  },
  {
   "cell_type": "code",
   "execution_count": null,
   "metadata": {},
   "outputs": [],
   "source": [
    "#Draw viz of all lots\n",
    "fig = plt.figure(figsize = (14,14))\n",
    "for lot in sim.housing_stock:\n",
    "    if lot.sold:\n",
    "        color = 'blue'\n",
    "    else:\n",
    "        color = np.random.choice(['dimgray', 'darkgray', 'silver', 'slategray', 'powderblue', 'whitesmoke'])\n",
    "    x = [point[0] for point in lot.loc]\n",
    "    y = [point[1] for point in lot.loc]\n",
    "    #ADD IF STATEMENT FOR SALE OF LOT\n",
    "    plt.scatter(x, y, label = lot.size, marker = 's', color = color)\n",
    "plt.show()"
   ]
  },
  {
   "cell_type": "code",
   "execution_count": null,
   "metadata": {},
   "outputs": [],
   "source": []
  },
  {
   "cell_type": "code",
   "execution_count": null,
   "metadata": {},
   "outputs": [],
   "source": []
  },
  {
   "cell_type": "code",
   "execution_count": null,
   "metadata": {},
   "outputs": [],
   "source": []
  },
  {
   "cell_type": "code",
   "execution_count": null,
   "metadata": {},
   "outputs": [],
   "source": []
  },
  {
   "cell_type": "code",
   "execution_count": null,
   "metadata": {},
   "outputs": [],
   "source": []
  },
  {
   "cell_type": "code",
   "execution_count": null,
   "metadata": {},
   "outputs": [],
   "source": []
  },
  {
   "cell_type": "code",
   "execution_count": null,
   "metadata": {},
   "outputs": [],
   "source": []
  },
  {
   "cell_type": "code",
   "execution_count": null,
   "metadata": {},
   "outputs": [],
   "source": []
  },
  {
   "cell_type": "code",
   "execution_count": null,
   "metadata": {},
   "outputs": [],
   "source": []
  }
 ],
 "metadata": {
  "kernelspec": {
   "display_name": "Python 3",
   "language": "python",
   "name": "python3"
  },
  "language_info": {
   "codemirror_mode": {
    "name": "ipython",
    "version": 3
   },
   "file_extension": ".py",
   "mimetype": "text/x-python",
   "name": "python",
   "nbconvert_exporter": "python",
   "pygments_lexer": "ipython3",
   "version": "3.7.0"
  }
 },
 "nbformat": 4,
 "nbformat_minor": 2
}
