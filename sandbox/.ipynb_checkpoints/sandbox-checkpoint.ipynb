{
 "cells": [
  {
   "cell_type": "markdown",
   "metadata": {},
   "source": [
    "# Capstone Project Sandbox\n",
    "To do:\n",
    "\n",
    "- Create history object from a sim that has run to store data as callable attributes\n",
    "- Viz in base-12\n",
    "- districts"
   ]
  },
  {
   "cell_type": "code",
   "execution_count": 20,
   "metadata": {},
   "outputs": [
    {
     "name": "stderr",
     "output_type": "stream",
     "text": [
      "/Users/ssrosa/anaconda3/lib/python3.7/site-packages/tqdm/autonotebook/__init__.py:14: TqdmExperimentalWarning: Using `tqdm.autonotebook.tqdm` in notebook mode. Use `tqdm.tqdm` instead to force console mode (e.g. in jupyter console)\n",
      "  \" (e.g. in jupyter console)\", TqdmExperimentalWarning)\n"
     ]
    }
   ],
   "source": [
    "import numpy as np\n",
    "import matplotlib.pyplot as plt\n",
    "from tqdm.autonotebook import tqdm"
   ]
  },
  {
   "cell_type": "code",
   "execution_count": 88,
   "metadata": {},
   "outputs": [],
   "source": [
    "class Lot(object):\n",
    "    def __init__(self):\n",
    "        self.size = None\n",
    "        self.zoned_as = None\n",
    "        #Coords where lot is. Just for viz\n",
    "        self.loc = []\n",
    "        self.residences = [[]]\n",
    "\n",
    "class Developer(object):\n",
    "    def __init__(self):\n",
    "        self.residences_built = [[]]\n",
    "        #100sqft - about a 9X12 room\n",
    "        #Hard coded for now\n",
    "        self.min_res_size = 100\n",
    "    def build_on(self, lot):\n",
    "        #Remaining empty land on this lot:\n",
    "        avail_area = lot.size - sum([residence.size for residence in lot.residences[-1]])\n",
    "        #If avail area exceeds min residence size that this developer can build\n",
    "        if  avail_area > self.min_res_size:\n",
    "            #Distribution of possible sizes for a new residence\n",
    "            size_dist = np.arange(self.min_res_size, avail_area)\n",
    "            #Initialize new residence object\n",
    "            #Give residence a random size within the realm of possibility\n",
    "            size = np.random.choice(size_dist)\n",
    "            residence = Residence(size, lot.zoned_as)\n",
    "            #Add residence to last list of residences built on the lot\n",
    "            lot.residences[-1].append(residence)\n",
    "            #Add residence to last list of residence built by this developer\n",
    "            self.residences_built[-1].append(residence)\n",
    "\n",
    "class Residence(object):\n",
    "    def __init__(self, size, zoned_as):\n",
    "        self.size = size\n",
    "        self.zoned_as = zoned_as\n",
    "        #100sqft - about a 9X12 room\n",
    "        #Hard coded for now\n",
    "        self.min_unit_size = 100\n",
    "        \n",
    "        max_units = self.zoned_as // 8 #8 people per unit\n",
    "        # if zoned_as 8, can have 1 unit\n",
    "        # if zoned_as 16, can have 2 units\n",
    "        # if zoned_as 48, cah nave 6 units\n",
    "        # if zoned as 96, can have 12 units\n",
    "        self.units = [[]]\n",
    "        #Not clear at this point whether nested list will be necessary but am including it for now.\n",
    "        max_units = zoned_as / 8\n",
    "        #Units can be larger than 100 sqft\n",
    "        if size / max_units >= self.min_unit_size:\n",
    "            self.unit_size = size / max_units\n",
    "        #But cannot be smaller\n",
    "        else:\n",
    "            self.unit_size = self.min_unit_size\n",
    "        avail_area = self.size\n",
    "        while  avail_area >= self.unit_size:\n",
    "            #Create a new unit object\n",
    "            unit = Unit(self.unit_size)\n",
    "            #Add unit object to last item of Residence's units list.\n",
    "            self.units[-1].append(unit)\n",
    "            avail_area -= self.unit_size\n",
    "\n",
    "    #def demolish():\n",
    "    #check that all residents are moved out from units\n",
    "    #remove residence from lot\n",
    "\n",
    "class Unit(object):\n",
    "    def __init__(self, size):\n",
    "        self.size = size\n",
    "        #Value is a list. -1 is current value.\n",
    "        self.value = [(size * price_sqft)]\n",
    "        #Occupant is a list. -1 is current occupant.\n",
    "        self.occ = [False]\n",
    "    def update(self):\n",
    "        self.value.append(self.value[-1])\n",
    "        self.occ.append(self.occ[-1])\n",
    "\n",
    "class Household(object):\n",
    "    '''\n",
    "    '''\n",
    "    def __init__(self, has):\n",
    "        #List of whether the household is homeless or not\n",
    "        self.housed = [False]\n",
    "        #Hold income constant for now but still write as a list\n",
    "        self.has = [has]\n",
    "    \n",
    "    def update(self):\n",
    "        self.housed.append(self.housed[-1])\n",
    "        self.has.append(self.has[-1])\n",
    "    \n",
    "    def can_move_in(self, unit):\n",
    "        #household needs a place to live\n",
    "        #unit not already taken\n",
    "        # household can afford unit \n",
    "        if (not self.housed[-1]) \\\n",
    "        and (not unit.occ[-1]) \\\n",
    "        and (unit.value[-1] <= self.has[-1]):        \n",
    "            return True\n",
    "        else: \n",
    "            return False\n",
    "    def must_move_out(self):\n",
    "        #Household has a place to live\n",
    "        #buts its value has risen above\n",
    "        #household's spending power\n",
    "        #Other conditions can be added later\n",
    "        if (self.housed[-1]) \\\n",
    "        and self.has[-1] < self.housed[-1].value[-1]:\n",
    "            return True\n",
    "        else:\n",
    "            return False\n",
    "        \n",
    "        \n",
    "    def move_in(self, unit):\n",
    "        #Household becomes occupant of unit\n",
    "        unit.occ[-1] = self\n",
    "        #Houshold marks itself as housed\n",
    "        self.housed[-1] = unit\n",
    "        #print(f'Household {self.has[-1]} now lives in unit {unit.value[-1]}')\n",
    "    \n",
    "    def move_out(self):\n",
    "        #Unit loses occupant\n",
    "        self.housed[-1].occ[-1] = False\n",
    "        #Household marks itself as unhoused\n",
    "        self.housed[-1] = False\n",
    "        \n",
    "def create_lots(self, land, lot_size_avg, lot_size_std, zon_avg, zon_std):\n",
    "    new_lots = []\n",
    "    #Create a distribution to simulate variety of lot sizes\n",
    "    lot_dist = np.random.normal(scale = lot_size_std, loc = lot_size_avg, size = num_lots)\n",
    "    #Create a distribution to simulate variety of zoning\n",
    "    #Empty for now\n",
    "    \n",
    "    while land > 0:\n",
    "        size = np.round(np.random.choice(lot_dist, replace = False), 0)\n",
    "        #Create a new lot only if the lot size will fit on the available land left\n",
    "        if size > land:\n",
    "            #Need to break the loop here otherwise it keeps running until a random size is\n",
    "            #drawn that fits the available remaining land.\n",
    "            break\n",
    "        else:\n",
    "            #Instantiate a lot with a random size\n",
    "            lot = Lot()\n",
    "            lot.size = size\n",
    "            #Reduce available land area by the size of this lot\n",
    "            land -= size\n",
    "            #Randomly zone the lot\n",
    "            lot.zoned_as = np.random.choice([8, 16, 48, 96], replace = True)\n",
    "            #Add this lot to the list of lots in the sim\n",
    "            new_lots.append(lot)\n",
    "    #Append this list to the list of lots as the last item        \n",
    "    self.lots.append(new_lots)\n",
    "        \n",
    "def create_developers(self):\n",
    "    '''\n",
    "    Instantiate some number of developer objects.\n",
    "    '''\n",
    "    #For now it's just one developer. Coudl be a list\n",
    "    developer = Developer()\n",
    "    #Return one developer as a list to be stored\n",
    "    return [developer]\n",
    "                \n",
    "def round_of_developing(self, developers, lots):\n",
    "    '''\n",
    "    Iterate over list of developers and call each developer's develop method\n",
    "    '''\n",
    "    [developer.build_on(lot) for lot in lots for developer in developers]\n",
    "\n",
    "def create_households(self, pop_growth, has_avg, has_std):\n",
    "    '''\n",
    "    Create some number of households to come to the city.\n",
    "    '''\n",
    "    income_dist = np.random.normal(scale = has_std, loc = has_avg, size = pop_growth)\n",
    "    new_households = [Household(i) for i in income_dist]\n",
    "    #self.households[-1].extend(\n",
    "    #Return the new households as a list\n",
    "    return new_households\n",
    "\n",
    "def round_of_moving_in(self):\n",
    "    '''\n",
    "    Must be called after time_step() has updated unit and household lists,\n",
    "    and before round_of_moving_out.\n",
    "    Prepare lists of units available and unhoused households, then call match()\n",
    "    to iterate over units to place households in them.\n",
    "    (What could be a very slow for loop is optimized by preparing shorter lists\n",
    "    with only the relevant units and households.)\n",
    "    '''\n",
    "    print('#Prepare units and households for moving.')\n",
    "    #Prepare units and households for moving.\n",
    "    print('#Step 1: Get units available.')\n",
    "    #Step 1: Get units available.\n",
    "    ua = sorted([u for u in self.units[-1] if not u.occ[-1]], \\\n",
    "                        key = lambda u: u.value[-1], reverse = True)\n",
    "    print('#Step 2: Get households seeking unit.')\n",
    "    #Step 2: Get households seeking unit.\n",
    "    hh = sorted([h for h in self.households[-1] if not h.housed[-1]], \\\n",
    "                        key = lambda h: h.has[-1], reverse = True)\n",
    "    print('#Step 3: Exclude any units with value above the max spending power')\n",
    "    #Step 3: Exclude any units with value above the max spending power \n",
    "    #of the households. (Wouldn't be able to rent to anyone)\n",
    "    ua = [u for u in ua if u.value[-1] <= hh[0].has[-1]]\n",
    "    #If list is empty, meaning no units are affordable for the richest household\n",
    "    if not ua:\n",
    "        return\n",
    "    print('#Step 4: Exclude any households with spending power less than')\n",
    "    #Step 4: Exclude any households with spending power less than \n",
    "    #the lowest unit value. (Wouldn't be able to find a place.)\n",
    "    #Keep hh same length as or shorter than ua.\n",
    "    #(No unit can take more than household so there cannot be more hh than ua.)\n",
    "    hh = [h for i, h in enumerate(hh) if (h.has[-1] >= ua[-1].value[-1]) and \\\n",
    "                                                                    (i < len(ua))]\n",
    "    #If list is empty, mmeaning no households can afford what's available\n",
    "    #This should never happen under the above conditional, but leaving it in for now\n",
    "    if not hh:\n",
    "        return\n",
    "    print('#Step 5: call the match function to move households into units.')\n",
    "    #Step 5: call the match function to move households into units.\n",
    "    match(hh, ua)\n",
    "    \n",
    "    #These two numbers should be equal\n",
    "    num_hh_moved = sum([1 if h.housed[-1] else 0 for h in hh])\n",
    "    num_ua_moved_into = sum([1 if u.occ[-1] else 0 for u in ua])\n",
    "\n",
    "def match(hh_, ua):\n",
    "    '''\n",
    "    Helper function for round of moving. Does the work of matching \n",
    "    household to unit. Iterates over units, trying to match each \n",
    "    to the highest-value household in the list. If there's a match,\n",
    "    the household gets popped and the loop moves on to next unit.\n",
    "    If there's not a match, the loop just moves on to the next unit. \n",
    "    A household can take a unit that ncosts less than or equal to\n",
    "    its spending power. Some rich households may wind up getting \n",
    "    cheap units. Units may go untaken; households may go unhoused.\n",
    "\n",
    "    '''\n",
    "    #New list to avoid popping the original\n",
    "    hh = [h for h in hh_]\n",
    "    #For each unit in list \n",
    "    for u in ua:\n",
    "        #If there are households left in the list\n",
    "        if hh:\n",
    "            #If household can take the unit\n",
    "            if hh[0].can_move_in(u):\n",
    "                #Household gets unit\n",
    "                hh[0].move_in(u)\n",
    "                #Household gets removed from list\n",
    "                hh.pop(0)\n",
    "\n",
    "def round_of_moving_out(self):\n",
    "    '''\n",
    "    Must be called after round_of_moving_in().\n",
    "    A given household should only move_in and move_out once per time step.\n",
    "    '''\n",
    "    #Iterate over all households. If a household is housed but \n",
    "    #can no longer afford its unit, it moves out.\n",
    "    test = [h.move_out() for h in self.households[-1] if h.housed[-1] and \\\n",
    "                        h.must_move_out()]\n",
    "    \n",
    "    #Should be zero if no hh move out\n",
    "    print(len(test))                \n",
    "                \n",
    "def print_stats(self, time_step):\n",
    "    print(f'Population at time step {time_step}: {len(self.households[-1])}')\n",
    "    print(f'{len(self.lots[-1])} lots on {land} sqft of land')\n",
    "    print(f'{len(self.developers)} developers')\n",
    "    #Get number of residences. FOr now there's no master list for some reason\n",
    "    num_residences = len(self.residences[-1])\n",
    "    num_units = len(self.units[-1])\n",
    "    print(f'{num_residences} residences and {num_units} units')\n",
    "    housing = [True if household.housed[-1] else False for household in self.households[-1]]\n",
    "    num_housed = sum(housing)\n",
    "    num_homeless = len(housing) - num_housed\n",
    "    print(f'{num_housed} households have housing and {num_homeless} households are homeless.')\n",
    "    \n",
    "class Simulation(object):\n",
    "    def __init__(self, \n",
    "                 #For creating lots\n",
    "                 land, num_lots, lot_size_avg, lot_size_std, zon_avg, zon_std,\n",
    "                 #For bringing people to the city\n",
    "                 pop_growth, has_avg, has_std, \n",
    "                 #For running the sim over time\n",
    "                 total_time_steps, inflation):\n",
    "        #Number of years to run sim\n",
    "        self.total_time_steps = total_time_steps\n",
    "        #List of increments by which to increase population\n",
    "        self.pop_growth = pop_growth\n",
    "        #Held as constant for now\n",
    "        self.has_avg = has_avg\n",
    "        #Held as constant for now\n",
    "        self.has_std = has_std\n",
    "        #Held as constant for now\n",
    "        self.inflation = inflation\n",
    "        \n",
    "        #STEP 1: \n",
    "        #Fill up land area with lots\n",
    "        self.lots = []\n",
    "        #Will return a list of lots. Becomes lots[-1]\n",
    "        self.create_lots(land, lot_size_avg, lot_size_std, zon_avg, zon_std)\n",
    "       \n",
    "        #STEP 2: Create developers to build residences\n",
    "        new_developers = self.create_developers()\n",
    "        #Start a list of lists of developers to keep track\n",
    "        self.developers = [new_developers]\n",
    "        self.round_of_developing(self.developers[-1], self.lots[-1])\n",
    "        \n",
    "        #Start a list of lists of residences\n",
    "        self.residences = [[residence for lot in self.lots[-1] for residence in lot.residences[-1]]]\n",
    "        #Start a list of lists of units\n",
    "        self.units = [[unit for residence in self.residences[-1] for unit in residence.units[-1]]]\n",
    "        \n",
    "        #STEP 3: Create people to come to the city and move in\n",
    "        \n",
    "        #Pop the last value of population growth\n",
    "        new_households = self.create_households(self.pop_growth.pop(), \n",
    "                               self.has_avg, \n",
    "                               self.has_std)\n",
    "        #Start a list of lists of households to keep track\n",
    "        self.households = [new_households]\n",
    "        #STEP 4: Let each household try to move into a house\n",
    "        self.round_of_moving_in()\n",
    "        \n",
    "        #STEP 5: Print initial statistics\n",
    "        print('Simulation started.')\n",
    "        self.print_stats(0)\n",
    "        \n",
    "def time_step(self, step):\n",
    "    \n",
    "    #Demolish any old residences\n",
    "    #pass\n",
    "    #Kill off any old households\n",
    "    #pass\n",
    "    print('\\n')\n",
    "    print('Updating object records')\n",
    "    #Update all lists of objects:\n",
    "    print('Lots from last step')\n",
    "    self.lots.append([l for l in self.lots[-1]])\n",
    "    print('Units from last step')\n",
    "\n",
    "    print('Updating each unit\\'s records')\n",
    "    #Update each existing unit\n",
    "    [u.update() for u in self.units[-1]]\n",
    "    #Update each existing household\n",
    "    print('Developers from last step')\n",
    "    self.developers.append([d for d in self.developers[-1]])\n",
    "    print(f'Households from last step ({len(self.households[-1])})')\n",
    "    self.households.append([h for h in self.households[-1]])\n",
    "    print('Updating each household\\'s records')\n",
    "    [h.update() for h in self.households[-1]]\n",
    "    \n",
    "    #Inflation increases values or something\n",
    "    \n",
    "    #New developers\n",
    "    #Leave out for now\n",
    "    #Will need to extend [-1] spot of developer list with any new developers\n",
    "    \n",
    "    #New households move to town\n",
    "    print('New households coming to town')\n",
    "    new_households = self.create_households(self.pop_growth.pop(), self.has_avg, self.has_std)\n",
    "    print(f'{len(new_households)} households arrived')\n",
    "    self.households[-1].extend(new_households)\n",
    "    print([len(h_list) for h_list in self.households])\n",
    "    print('Developers are building new residences on vacant lots')\n",
    "    #Build new residences on available land\n",
    "    self.round_of_developing(self.developers[-1], self.lots[-1])\n",
    "    #Manually append the list of all residences\n",
    "    #Not recording residences year by year for now\n",
    "    #althoguh they could be retrieved from the history in each developer\n",
    "    print('appending new residences to master list')\n",
    "    self.residences.append([residence for lot in self.lots[-1] for residence in lot.residences[-1]])\n",
    "    #Need to manually add units to list for sim\n",
    "    print('appending new units to master list')\n",
    "    self.units.append([unit for residence in self.residences[-1] for unit in residence.units[-1]])\n",
    "    #Have homeless try to move into new places\n",
    "    print('people moving in')\n",
    "    self.round_of_moving_in()\n",
    "    \n",
    "    #Have those priced out of their units move out\n",
    "    #Shoudl always be a different group of people who move in/out within a year\n",
    "    print('people moving out')\n",
    "    self.round_of_moving_out()\n",
    "    \n",
    "def run(self):\n",
    "    pass\n",
    "    for _ in tqdm(range(self.total_time_steps)):\n",
    "        # Print out the current time step \n",
    "        print(f\"Time step {_}\")\n",
    "        self.time_step(_)\n",
    "        self.print_stats(_)"
   ]
  },
  {
   "cell_type": "code",
   "execution_count": 89,
   "metadata": {
    "scrolled": false
   },
   "outputs": [],
   "source": [
    "#Attach all these functions to the Simulation object\n",
    "Simulation.create_lots = create_lots\n",
    "Simulation.create_developers = create_developers\n",
    "Simulation.create_households = create_households\n",
    "Simulation.round_of_developing = round_of_developing        \n",
    "Simulation.round_of_moving_in = round_of_moving_in\n",
    "Simulation.round_of_moving_out = round_of_moving_out\n",
    "Simulation.print_stats = print_stats\n",
    "Simulation.time_step = time_step\n",
    "Simulation.run = run\n",
    "\n",
    "#CITY SETTINGS\n",
    "#Size of land area in sqft (for now)\n",
    "land = 1000000000 #one trillion sqft in SF\n",
    "num_lots = 10 #800,000 in SF\n",
    "lot_size_avg = 5000\n",
    "lot_size_std = 50\n",
    "zon_avg = None\n",
    "zon_std = None\n",
    "\n",
    "#Starting population\n",
    "pop_growth = [10000, 10000, 10000, 10000, 10000, 10000, 10000, 10000, 10000, 10000, 100000]\n",
    "\n",
    "has_avg = 1500\n",
    "has_std = 500\n",
    "\n",
    "#Time and money\n",
    "price_sqft = 1\n",
    "inflation = 0.02\n",
    "years = 10"
   ]
  },
  {
   "cell_type": "code",
   "execution_count": 90,
   "metadata": {
    "scrolled": true
   },
   "outputs": [
    {
     "name": "stdout",
     "output_type": "stream",
     "text": [
      "#Prepare units and households for moving.\n",
      "#Step 1: Get units available.\n",
      "#Step 2: Get households seeking unit.\n",
      "#Step 3: Exclude any units with value above the max spending power\n",
      "#Step 4: Exclude any households with spending power less than\n",
      "#Step 5: call the match function to move households into units.\n",
      "Simulation started.\n",
      "Population at time step 0: 100000\n",
      "199637 lots on 1000000000 sqft of land\n",
      "1 developers\n",
      "199637 residences and 935043 units\n",
      "99741 households have housing and 259 households are homeless.\n",
      "CPU times: user 11.9 s, sys: 466 ms, total: 12.4 s\n",
      "Wall time: 12 s\n"
     ]
    }
   ],
   "source": [
    "%%time\n",
    "#CREATE SIM\n",
    "sim = Simulation(land = land, \n",
    "                 num_lots = num_lots, \n",
    "                 lot_size_avg = lot_size_avg, \n",
    "                 lot_size_std = lot_size_std,\n",
    "                 zon_avg = zon_avg, \n",
    "                 zon_std = zon_std,\n",
    "                 pop_growth = pop_growth, \n",
    "                 has_avg = has_avg, \n",
    "                 has_std = has_std, \n",
    "                 total_time_steps = years,\n",
    "                 inflation = inflation\n",
    "                 )\n",
    "#200364 residences and 941973 units\n",
    "#99729 households have housing and 271 households are homeless.\n",
    "#CPU times: user 14.9 s, sys: 226 ms, total: 15.1 s"
   ]
  },
  {
   "cell_type": "code",
   "execution_count": null,
   "metadata": {},
   "outputs": [],
   "source": []
  },
  {
   "cell_type": "code",
   "execution_count": null,
   "metadata": {},
   "outputs": [],
   "source": []
  },
  {
   "cell_type": "code",
   "execution_count": null,
   "metadata": {},
   "outputs": [],
   "source": []
  },
  {
   "cell_type": "code",
   "execution_count": 91,
   "metadata": {},
   "outputs": [
    {
     "data": {
      "application/vnd.jupyter.widget-view+json": {
       "model_id": "35e5e0d039a648d0a465e458cf5ccf5f",
       "version_major": 2,
       "version_minor": 0
      },
      "text/plain": [
       "HBox(children=(IntProgress(value=0, max=10), HTML(value='')))"
      ]
     },
     "metadata": {},
     "output_type": "display_data"
    },
    {
     "name": "stdout",
     "output_type": "stream",
     "text": [
      "Time step 0\n",
      "\n",
      "\n",
      "Updating object records\n",
      "Lots from last step\n",
      "Units from last step\n",
      "Updating each unit's records\n",
      "Developers from last step\n",
      "Households from last step (100000)\n",
      "Updating each household's records\n",
      "New households coming to town\n",
      "10000 households arrived\n",
      "[100000, 110000]\n",
      "Developers are building new residences on vacant lots\n",
      "appending new residences to master list\n",
      "appending new units to master list\n",
      "people moving in\n",
      "#Prepare units and households for moving.\n",
      "#Step 1: Get units available.\n",
      "#Step 2: Get households seeking unit.\n",
      "#Step 3: Exclude any units with value above the max spending power\n",
      "#Step 4: Exclude any households with spending power less than\n",
      "#Step 5: call the match function to move households into units.\n",
      "people moving out\n",
      "0\n",
      "Population at time step 0: 110000\n",
      "199637 lots on 1000000000 sqft of land\n",
      "2 developers\n",
      "395180 residences and 1686793 units\n",
      "109721 households have housing and 279 households are homeless.\n",
      "Time step 1\n",
      "\n",
      "\n",
      "Updating object records\n",
      "Lots from last step\n",
      "Units from last step\n",
      "Updating each unit's records\n",
      "Developers from last step\n",
      "Households from last step (110000)\n",
      "Updating each household's records\n",
      "New households coming to town\n",
      "10000 households arrived\n",
      "[100000, 110000, 120000]\n",
      "Developers are building new residences on vacant lots\n",
      "appending new residences to master list\n",
      "appending new units to master list\n",
      "people moving in\n",
      "#Prepare units and households for moving.\n",
      "#Step 1: Get units available.\n",
      "#Step 2: Get households seeking unit.\n",
      "#Step 3: Exclude any units with value above the max spending power\n",
      "#Step 4: Exclude any households with spending power less than\n",
      "#Step 5: call the match function to move households into units.\n",
      "people moving out\n",
      "0\n",
      "Population at time step 1: 120000\n",
      "199637 lots on 1000000000 sqft of land\n",
      "3 developers\n",
      "570811 residences and 2203216 units\n",
      "119686 households have housing and 314 households are homeless.\n",
      "Time step 2\n",
      "\n",
      "\n",
      "Updating object records\n",
      "Lots from last step\n",
      "Units from last step\n",
      "Updating each unit's records\n",
      "Developers from last step\n",
      "Households from last step (120000)\n",
      "Updating each household's records\n",
      "New households coming to town\n",
      "10000 households arrived\n",
      "[100000, 110000, 120000, 130000]\n",
      "Developers are building new residences on vacant lots\n",
      "appending new residences to master list\n",
      "appending new units to master list\n",
      "people moving in\n",
      "#Prepare units and households for moving.\n",
      "#Step 1: Get units available.\n",
      "#Step 2: Get households seeking unit.\n",
      "#Step 3: Exclude any units with value above the max spending power\n",
      "#Step 4: Exclude any households with spending power less than\n",
      "#Step 5: call the match function to move households into units.\n",
      "people moving out\n",
      "0\n",
      "Population at time step 2: 130000\n",
      "199637 lots on 1000000000 sqft of land\n",
      "4 developers\n",
      "705020 residences and 2509569 units\n",
      "129662 households have housing and 338 households are homeless.\n",
      "Time step 3\n",
      "\n",
      "\n",
      "Updating object records\n",
      "Lots from last step\n",
      "Units from last step\n",
      "Updating each unit's records\n",
      "Developers from last step\n",
      "Households from last step (130000)\n",
      "Updating each household's records\n",
      "New households coming to town\n",
      "10000 households arrived\n",
      "[100000, 110000, 120000, 130000, 140000]\n",
      "Developers are building new residences on vacant lots\n",
      "appending new residences to master list\n",
      "appending new units to master list\n",
      "people moving in\n",
      "#Prepare units and households for moving.\n",
      "#Step 1: Get units available.\n",
      "#Step 2: Get households seeking unit.\n",
      "#Step 3: Exclude any units with value above the max spending power\n",
      "#Step 4: Exclude any households with spending power less than\n",
      "#Step 5: call the match function to move households into units.\n",
      "people moving out\n",
      "0\n",
      "Population at time step 3: 140000\n",
      "199637 lots on 1000000000 sqft of land\n",
      "5 developers\n",
      "788352 residences and 2664889 units\n",
      "139637 households have housing and 363 households are homeless.\n",
      "Time step 4\n",
      "\n",
      "\n",
      "Updating object records\n",
      "Lots from last step\n",
      "Units from last step\n",
      "Updating each unit's records\n",
      "Developers from last step\n",
      "Households from last step (140000)\n",
      "Updating each household's records\n",
      "New households coming to town\n",
      "10000 households arrived\n",
      "[100000, 110000, 120000, 130000, 140000, 150000]\n",
      "Developers are building new residences on vacant lots\n",
      "appending new residences to master list\n",
      "appending new units to master list\n",
      "people moving in\n",
      "#Prepare units and households for moving.\n",
      "#Step 1: Get units available.\n",
      "#Step 2: Get households seeking unit.\n",
      "#Step 3: Exclude any units with value above the max spending power\n",
      "#Step 4: Exclude any households with spending power less than\n",
      "#Step 5: call the match function to move households into units.\n",
      "people moving out\n",
      "0\n",
      "Population at time step 4: 150000\n",
      "199637 lots on 1000000000 sqft of land\n",
      "6 developers\n",
      "829918 residences and 2731826 units\n",
      "149607 households have housing and 393 households are homeless.\n",
      "Time step 5\n",
      "\n",
      "\n",
      "Updating object records\n",
      "Lots from last step\n",
      "Units from last step\n",
      "Updating each unit's records\n",
      "Developers from last step\n",
      "Households from last step (150000)\n",
      "Updating each household's records\n",
      "New households coming to town\n",
      "10000 households arrived\n",
      "[100000, 110000, 120000, 130000, 140000, 150000, 160000]\n",
      "Developers are building new residences on vacant lots\n",
      "appending new residences to master list\n",
      "appending new units to master list\n",
      "people moving in\n",
      "#Prepare units and households for moving.\n",
      "#Step 1: Get units available.\n",
      "#Step 2: Get households seeking unit.\n",
      "#Step 3: Exclude any units with value above the max spending power\n",
      "#Step 4: Exclude any households with spending power less than\n",
      "#Step 5: call the match function to move households into units.\n",
      "people moving out\n",
      "0\n",
      "Population at time step 5: 160000\n",
      "199637 lots on 1000000000 sqft of land\n",
      "7 developers\n",
      "846676 residences and 2756155 units\n",
      "159581 households have housing and 419 households are homeless.\n",
      "Time step 6\n",
      "\n",
      "\n",
      "Updating object records\n",
      "Lots from last step\n",
      "Units from last step\n",
      "Updating each unit's records\n",
      "Developers from last step\n",
      "Households from last step (160000)\n",
      "Updating each household's records\n",
      "New households coming to town\n",
      "10000 households arrived\n",
      "[100000, 110000, 120000, 130000, 140000, 150000, 160000, 170000]\n",
      "Developers are building new residences on vacant lots\n",
      "appending new residences to master list\n",
      "appending new units to master list\n",
      "people moving in\n",
      "#Prepare units and households for moving.\n",
      "#Step 1: Get units available.\n",
      "#Step 2: Get households seeking unit.\n",
      "#Step 3: Exclude any units with value above the max spending power\n",
      "#Step 4: Exclude any households with spending power less than\n",
      "#Step 5: call the match function to move households into units.\n",
      "people moving out\n",
      "0\n",
      "Population at time step 6: 170000\n",
      "199637 lots on 1000000000 sqft of land\n",
      "8 developers\n",
      "852186 residences and 2763475 units\n",
      "169543 households have housing and 457 households are homeless.\n",
      "Time step 7\n",
      "\n",
      "\n",
      "Updating object records\n",
      "Lots from last step\n",
      "Units from last step\n",
      "Updating each unit's records\n",
      "Developers from last step\n",
      "Households from last step (170000)\n",
      "Updating each household's records\n",
      "New households coming to town\n",
      "10000 households arrived\n",
      "[100000, 110000, 120000, 130000, 140000, 150000, 160000, 170000, 180000]\n",
      "Developers are building new residences on vacant lots\n",
      "appending new residences to master list\n",
      "appending new units to master list\n",
      "people moving in\n",
      "#Prepare units and households for moving.\n",
      "#Step 1: Get units available.\n",
      "#Step 2: Get households seeking unit.\n",
      "#Step 3: Exclude any units with value above the max spending power\n",
      "#Step 4: Exclude any households with spending power less than\n",
      "#Step 5: call the match function to move households into units.\n",
      "people moving out\n",
      "0\n",
      "Population at time step 7: 180000\n",
      "199637 lots on 1000000000 sqft of land\n",
      "9 developers\n",
      "853650 residences and 2765303 units\n",
      "179518 households have housing and 482 households are homeless.\n",
      "Time step 8\n",
      "\n",
      "\n",
      "Updating object records\n",
      "Lots from last step\n",
      "Units from last step\n",
      "Updating each unit's records\n",
      "Developers from last step\n",
      "Households from last step (180000)\n",
      "Updating each household's records\n",
      "New households coming to town\n",
      "10000 households arrived\n",
      "[100000, 110000, 120000, 130000, 140000, 150000, 160000, 170000, 180000, 190000]\n",
      "Developers are building new residences on vacant lots\n",
      "appending new residences to master list\n",
      "appending new units to master list\n",
      "people moving in\n",
      "#Prepare units and households for moving.\n",
      "#Step 1: Get units available.\n"
     ]
    },
    {
     "name": "stdout",
     "output_type": "stream",
     "text": [
      "#Step 2: Get households seeking unit.\n",
      "#Step 3: Exclude any units with value above the max spending power\n",
      "#Step 4: Exclude any households with spending power less than\n",
      "#Step 5: call the match function to move households into units.\n",
      "people moving out\n",
      "0\n",
      "Population at time step 8: 190000\n",
      "199637 lots on 1000000000 sqft of land\n",
      "10 developers\n",
      "854001 residences and 2765743 units\n",
      "189498 households have housing and 502 households are homeless.\n",
      "Time step 9\n",
      "\n",
      "\n",
      "Updating object records\n",
      "Lots from last step\n",
      "Units from last step\n",
      "Updating each unit's records\n",
      "Developers from last step\n",
      "Households from last step (190000)\n",
      "Updating each household's records\n",
      "New households coming to town\n",
      "10000 households arrived\n",
      "[100000, 110000, 120000, 130000, 140000, 150000, 160000, 170000, 180000, 190000, 200000]\n",
      "Developers are building new residences on vacant lots\n",
      "appending new residences to master list\n",
      "appending new units to master list\n",
      "people moving in\n",
      "#Prepare units and households for moving.\n",
      "#Step 1: Get units available.\n",
      "#Step 2: Get households seeking unit.\n",
      "#Step 3: Exclude any units with value above the max spending power\n",
      "#Step 4: Exclude any households with spending power less than\n",
      "#Step 5: call the match function to move households into units.\n",
      "people moving out\n",
      "0\n",
      "Population at time step 9: 200000\n",
      "199637 lots on 1000000000 sqft of land\n",
      "11 developers\n",
      "854071 residences and 2765822 units\n",
      "199469 households have housing and 531 households are homeless.\n",
      "\n",
      "CPU times: user 1min 35s, sys: 1.39 s, total: 1min 37s\n",
      "Wall time: 1min 37s\n"
     ]
    }
   ],
   "source": [
    "%%time\n",
    "sim.run()\n"
   ]
  },
  {
   "cell_type": "code",
   "execution_count": null,
   "metadata": {},
   "outputs": [],
   "source": []
  },
  {
   "cell_type": "code",
   "execution_count": 63,
   "metadata": {},
   "outputs": [
    {
     "data": {
      "text/plain": [
       "True"
      ]
     },
     "execution_count": 63,
     "metadata": {},
     "output_type": "execute_result"
    }
   ],
   "source": [
    "ua = []\n",
    "not ua"
   ]
  },
  {
   "cell_type": "code",
   "execution_count": 81,
   "metadata": {},
   "outputs": [],
   "source": [
    "my_list = [[1,2,3]]"
   ]
  },
  {
   "cell_type": "code",
   "execution_count": 82,
   "metadata": {},
   "outputs": [
    {
     "data": {
      "text/plain": [
       "[1, 2, 3]"
      ]
     },
     "execution_count": 82,
     "metadata": {},
     "output_type": "execute_result"
    }
   ],
   "source": [
    "my_list[-1]"
   ]
  },
  {
   "cell_type": "code",
   "execution_count": 83,
   "metadata": {},
   "outputs": [],
   "source": [
    "my_list.append(my_list[-1])"
   ]
  },
  {
   "cell_type": "code",
   "execution_count": 84,
   "metadata": {},
   "outputs": [
    {
     "data": {
      "text/plain": [
       "[[1, 2, 3], [1, 2, 3]]"
      ]
     },
     "execution_count": 84,
     "metadata": {},
     "output_type": "execute_result"
    }
   ],
   "source": [
    "my_list"
   ]
  },
  {
   "cell_type": "code",
   "execution_count": 86,
   "metadata": {},
   "outputs": [],
   "source": [
    "my_list[-1].extend([4, 5, 6])"
   ]
  },
  {
   "cell_type": "code",
   "execution_count": 87,
   "metadata": {},
   "outputs": [
    {
     "data": {
      "text/plain": [
       "[[1, 2, 3, 4, 5, 6], [1, 2, 3, 4, 5, 6]]"
      ]
     },
     "execution_count": 87,
     "metadata": {},
     "output_type": "execute_result"
    }
   ],
   "source": [
    "my_list"
   ]
  },
  {
   "cell_type": "code",
   "execution_count": null,
   "metadata": {},
   "outputs": [],
   "source": [
    "import pandas as pd\n",
    "pd.Series(unit_val_arr).value_counts()"
   ]
  },
  {
   "cell_type": "code",
   "execution_count": null,
   "metadata": {},
   "outputs": [],
   "source": [
    "plt.hist([u.value[-1] for u in sim.units[-1]])"
   ]
  },
  {
   "cell_type": "markdown",
   "metadata": {},
   "source": [
    "# Gather data for viz of sim run\n",
    "Make a history object?\n",
    "Returns pandas series or dataframes?\n",
    "hist.pop_growth(by = district)\n",
    "hist.pop_density(by = district, for = 9\n",
    "hist.homelessness()\n",
    "hist.property_values(by = lot)\n",
    "hist.avg_incomes()\n",
    "hist.construction()\n",
    "\n",
    "\n"
   ]
  },
  {
   "cell_type": "code",
   "execution_count": 92,
   "metadata": {},
   "outputs": [
    {
     "name": "stdout",
     "output_type": "stream",
     "text": [
      "CPU times: user 8 µs, sys: 1 µs, total: 9 µs\n",
      "Wall time: 11 µs\n"
     ]
    }
   ],
   "source": [
    "%%time\n",
    "#10 µs for 10 time steps ending in 852996\n",
    "residences_num = [len(r_list) for r_list in sim.residences]\n"
   ]
  },
  {
   "cell_type": "code",
   "execution_count": 93,
   "metadata": {},
   "outputs": [
    {
     "data": {
      "text/plain": [
       "[199637,\n",
       " 395180,\n",
       " 570811,\n",
       " 705020,\n",
       " 788352,\n",
       " 829918,\n",
       " 846676,\n",
       " 852186,\n",
       " 853650,\n",
       " 854001,\n",
       " 854071]"
      ]
     },
     "execution_count": 93,
     "metadata": {},
     "output_type": "execute_result"
    }
   ],
   "source": [
    "residences_num\n"
   ]
  },
  {
   "cell_type": "code",
   "execution_count": 94,
   "metadata": {},
   "outputs": [
    {
     "name": "stdout",
     "output_type": "stream",
     "text": [
      "CPU times: user 2.03 s, sys: 46.5 ms, total: 2.07 s\n",
      "Wall time: 2.1 s\n"
     ]
    }
   ],
   "source": [
    "%%time\n",
    "#1.72 s\n",
    "residence_size_avg = [(sum([r.size for r in r_list]) / len(r_list)) for r_list in sim.residences]"
   ]
  },
  {
   "cell_type": "code",
   "execution_count": 95,
   "metadata": {},
   "outputs": [
    {
     "data": {
      "text/plain": [
       "[2553.020983084298,\n",
       " 1935.1181335087808,\n",
       " 1560.251722549145,\n",
       " 1348.1768460469207,\n",
       " 1239.173173912161,\n",
       " 1189.704193667326,\n",
       " 1170.3665782424446,\n",
       " 1164.0099191960442,\n",
       " 1162.307328530428,\n",
       " 1161.8983010558536,\n",
       " 1161.8155059708151]"
      ]
     },
     "execution_count": 95,
     "metadata": {},
     "output_type": "execute_result"
    }
   ],
   "source": [
    "residence_size_avg\n"
   ]
  },
  {
   "cell_type": "code",
   "execution_count": 96,
   "metadata": {},
   "outputs": [
    {
     "name": "stdout",
     "output_type": "stream",
     "text": [
      "CPU times: user 11 µs, sys: 1 µs, total: 12 µs\n",
      "Wall time: 16 µs\n"
     ]
    }
   ],
   "source": [
    "%%time\n",
    "#11 µs for 10 time steps ending in 2771285\n",
    "units_num = [len(u_list) for u_list in sim.units]\n"
   ]
  },
  {
   "cell_type": "code",
   "execution_count": 97,
   "metadata": {},
   "outputs": [
    {
     "data": {
      "text/plain": [
       "[935043,\n",
       " 1686793,\n",
       " 2203216,\n",
       " 2509569,\n",
       " 2664889,\n",
       " 2731826,\n",
       " 2756155,\n",
       " 2763475,\n",
       " 2765303,\n",
       " 2765743,\n",
       " 2765822]"
      ]
     },
     "execution_count": 97,
     "metadata": {},
     "output_type": "execute_result"
    }
   ],
   "source": [
    "units_num\n"
   ]
  },
  {
   "cell_type": "code",
   "execution_count": 98,
   "metadata": {},
   "outputs": [
    {
     "name": "stdout",
     "output_type": "stream",
     "text": [
      "CPU times: user 4.36 s, sys: 127 ms, total: 4.48 s\n",
      "Wall time: 4.51 s\n"
     ]
    }
   ],
   "source": [
    "%%time\n",
    "#4.17 s\n",
    "unit_size_avg = [(sum([u.size for u in u_list]) / len(u_list)) for u_list in sim.units]\n"
   ]
  },
  {
   "cell_type": "code",
   "execution_count": 99,
   "metadata": {},
   "outputs": [
    {
     "data": {
      "text/plain": [
       "[533.1644538450968,\n",
       " 442.6352454529576,\n",
       " 393.7443840806504,\n",
       " 368.13890051105005,\n",
       " 355.81449790213617,\n",
       " 350.55487669540054,\n",
       " 348.6128438893943,\n",
       " 348.0181723494175,\n",
       " 347.86693712526574,\n",
       " 347.82999294100824,\n",
       " 347.8233871039578]"
      ]
     },
     "execution_count": 99,
     "metadata": {},
     "output_type": "execute_result"
    }
   ],
   "source": [
    "unit_size_avg\n"
   ]
  },
  {
   "cell_type": "code",
   "execution_count": 45,
   "metadata": {},
   "outputs": [
    {
     "name": "stdout",
     "output_type": "stream",
     "text": [
      "CPU times: user 6 s, sys: 135 ms, total: 6.13 s\n",
      "Wall time: 6.23 s\n"
     ]
    }
   ],
   "source": [
    "%%time\n",
    "#6.23 s\n",
    "unit_value_avg = [(sum([u.value[-1] for u in u_list]) / len(u_list)) for u_list in sim.units]"
   ]
  },
  {
   "cell_type": "code",
   "execution_count": 100,
   "metadata": {},
   "outputs": [
    {
     "data": {
      "text/plain": [
       "[532.5838410649436,\n",
       " 442.225312202636,\n",
       " 393.1180876053114,\n",
       " 367.4927433814945,\n",
       " 355.0698030509275,\n",
       " 349.82364292017854,\n",
       " 347.8996344864709,\n",
       " 347.31002058016924,\n",
       " 347.16075769497746,\n",
       " 347.1296895079602,\n",
       " 347.12290763426296]"
      ]
     },
     "execution_count": 100,
     "metadata": {},
     "output_type": "execute_result"
    }
   ],
   "source": [
    "unit_value_avg\n"
   ]
  },
  {
   "cell_type": "code",
   "execution_count": 102,
   "metadata": {},
   "outputs": [
    {
     "data": {
      "text/plain": [
       "[100000,\n",
       " 110000,\n",
       " 120000,\n",
       " 130000,\n",
       " 140000,\n",
       " 150000,\n",
       " 160000,\n",
       " 170000,\n",
       " 180000,\n",
       " 190000,\n",
       " 200000]"
      ]
     },
     "execution_count": 102,
     "metadata": {},
     "output_type": "execute_result"
    }
   ],
   "source": [
    "#Population growth\n",
    "[len(h_list) for h_list in sim.households]\n",
    "#Also one to show new arrivals each year?"
   ]
  },
  {
   "cell_type": "code",
   "execution_count": 112,
   "metadata": {},
   "outputs": [],
   "source": [
    "households_housed = [len([h for h in h_list if h.housed[-1]]) for h_list in sim.households]\n",
    "\n",
    "# households_homeless\n",
    "\n",
    "#For now is not a list\n",
    "# household_income_avg\n"
   ]
  },
  {
   "cell_type": "code",
   "execution_count": 113,
   "metadata": {},
   "outputs": [
    {
     "data": {
      "text/plain": [
       "[99741,\n",
       " 109721,\n",
       " 119686,\n",
       " 129662,\n",
       " 139637,\n",
       " 149607,\n",
       " 159581,\n",
       " 169543,\n",
       " 179518,\n",
       " 189498,\n",
       " 199469]"
      ]
     },
     "execution_count": 113,
     "metadata": {},
     "output_type": "execute_result"
    }
   ],
   "source": [
    "households_housed"
   ]
  },
  {
   "cell_type": "code",
   "execution_count": 117,
   "metadata": {},
   "outputs": [
    {
     "data": {
      "text/plain": [
       "[11.0,\n",
       " 10.909090909090908,\n",
       " 10.75,\n",
       " 10.538461538461538,\n",
       " 10.285714285714286,\n",
       " 10.0,\n",
       " 9.6875,\n",
       " 9.352941176470589,\n",
       " 9.0,\n",
       " 8.631578947368421,\n",
       " 8.25]"
      ]
     },
     "execution_count": 117,
     "metadata": {},
     "output_type": "execute_result"
    }
   ],
   "source": [
    "#How many entries are in the income list for each household. This is an interesting challenge, \n",
    "#to extract all the incomes for a given year, because these lists are not of equal length.\n",
    "#Add zeros?\n",
    "[sum([len(h.has) for h in h_list]) / len(h_list) for h_list in sim.households]"
   ]
  },
  {
   "cell_type": "code",
   "execution_count": null,
   "metadata": {},
   "outputs": [],
   "source": []
  },
  {
   "cell_type": "markdown",
   "metadata": {},
   "source": [
    "# VARIOUS CHECKS FOR OBJECTS IN SIM"
   ]
  },
  {
   "cell_type": "code",
   "execution_count": null,
   "metadata": {},
   "outputs": [],
   "source": [
    "#Check sizes of all lots\n",
    "#sum([lot.size for lot in sim.lots[-1]])"
   ]
  },
  {
   "cell_type": "code",
   "execution_count": null,
   "metadata": {
    "scrolled": false
   },
   "outputs": [],
   "source": [
    "#Check size of each residence\n",
    "#[residence.size for lot in sim.lots[-1] for residence in lot.residences[-1]]"
   ]
  },
  {
   "cell_type": "code",
   "execution_count": null,
   "metadata": {},
   "outputs": [],
   "source": [
    "#Check size of each unit\n",
    "unit_sizes = [unit.value for lot in sim.lots[-1] for residence in lot.residences[-1] for unit in residence.units[-1]]"
   ]
  },
  {
   "cell_type": "code",
   "execution_count": null,
   "metadata": {},
   "outputs": [],
   "source": [
    "len(unit_sizes)"
   ]
  },
  {
   "cell_type": "code",
   "execution_count": null,
   "metadata": {},
   "outputs": [],
   "source": [
    "set(unit_sizes)"
   ]
  },
  {
   "cell_type": "code",
   "execution_count": null,
   "metadata": {},
   "outputs": [],
   "source": [
    "plt.hist(unit_sizes, bins = 50)"
   ]
  },
  {
   "cell_type": "code",
   "execution_count": null,
   "metadata": {},
   "outputs": [],
   "source": [
    "#Test for bin_items: look at all binned items\n",
    "#[v.value[-1] for key, val in binned_items.items() for v in val]\n",
    "\n",
    "#Look at one bin\n",
    "#[v.value[-1] for v in binned_items[445.3666666666667]]"
   ]
  },
  {
   "cell_type": "code",
   "execution_count": null,
   "metadata": {},
   "outputs": [],
   "source": [
    "#Check area of each residence that isn't carved into units\n",
    "#[(residence.size - sum(unit.size for unit in residence.units[-1])) for lot in sim.lots[-1] for residence in lot.residences[-1]]"
   ]
  },
  {
   "cell_type": "code",
   "execution_count": null,
   "metadata": {},
   "outputs": [],
   "source": [
    "#Check unbuilt land of each lot\n",
    "#avail_area = [lot.size - sum([residence.size for residence in lot.residences[-1]]) for lot in sim.lots[-1]]\n",
    "#Avail area on each lot should be less than min_size for building a new residence\n",
    "#avail_area"
   ]
  },
  {
   "cell_type": "code",
   "execution_count": null,
   "metadata": {},
   "outputs": [],
   "source": [
    "#Check how many residences on each lot\n",
    "#[len(lot.residences[-1]) for lot in sim.lots[-1]]"
   ]
  },
  {
   "cell_type": "code",
   "execution_count": null,
   "metadata": {},
   "outputs": [],
   "source": [
    "#Check how many units in each residence\n",
    "#[len(residence.units[-1]) for lot in sim.lots[-1] for residence in lot.residences[-1]]"
   ]
  },
  {
   "cell_type": "code",
   "execution_count": null,
   "metadata": {},
   "outputs": [],
   "source": [
    "#Check a single lot\n",
    "#vars(sim.lots[-1][0])"
   ]
  },
  {
   "cell_type": "code",
   "execution_count": null,
   "metadata": {},
   "outputs": [],
   "source": [
    "#Check a single residence on a lot\n",
    "#vars(sim.lots[-1][0].residences[-1][0])"
   ]
  },
  {
   "cell_type": "code",
   "execution_count": null,
   "metadata": {},
   "outputs": [],
   "source": [
    "#Check a single unit in a residence\n",
    "#vars(sim.lots[-1][0].residences[-1][0].units[-1][0])"
   ]
  },
  {
   "cell_type": "code",
   "execution_count": null,
   "metadata": {},
   "outputs": [],
   "source": [
    "#THIS IS GREAT CODE DON'T DELETE\n",
    "#Check all unit values\n",
    "#How to quadruple nest a list comprehension:\n",
    "#smallest for biggest in biggest for second biggest in second biggest for third biggest in third biggest\n",
    "unit_values = [unit.value[-1] for lot in sim.lots[-1] for residence in lot.residences[-1] for unit in residence.units[-1]]\n",
    "#unit_values\n",
    "#plt.hist(unit_values)"
   ]
  },
  {
   "cell_type": "code",
   "execution_count": null,
   "metadata": {},
   "outputs": [],
   "source": [
    "#Get total number of units in all residences on all lots\n",
    "len([unit.value[-1] for lot in sim.lots[-1] for residence in lot.residences[-1] for unit in residence.units[-1]])"
   ]
  },
  {
   "cell_type": "code",
   "execution_count": null,
   "metadata": {},
   "outputs": [],
   "source": [
    "#Check incomes for all households\n",
    "#incomes = [household.has[-1] for household in sim.households[-1]]\n",
    "#plt.hist(incomes)"
   ]
  },
  {
   "cell_type": "code",
   "execution_count": null,
   "metadata": {},
   "outputs": [],
   "source": []
  },
  {
   "cell_type": "code",
   "execution_count": null,
   "metadata": {},
   "outputs": [],
   "source": [
    "#Check incomes for currently housed households\n",
    "#incomes_currently_housed = [household.has[-1] for household in sim.households[-1] if household.housed[-1]]\n",
    "#plt.hist(incomes_currently_housed)"
   ]
  },
  {
   "cell_type": "code",
   "execution_count": null,
   "metadata": {},
   "outputs": [],
   "source": [
    "#Check housing history for all households\n",
    "#housing_history = [household.housed for household in sim.households[-1]]\n",
    "#housing_history"
   ]
  },
  {
   "cell_type": "code",
   "execution_count": 58,
   "metadata": {},
   "outputs": [],
   "source": [
    "uvals = [u.value[-1] for u in sim.units[-1] if not u.occ[-1]]"
   ]
  },
  {
   "cell_type": "code",
   "execution_count": 59,
   "metadata": {},
   "outputs": [],
   "source": [
    "hhases = [h.has[-1] for h in sim.households[-1] if not h.housed[-1]]\n",
    "\n"
   ]
  },
  {
   "cell_type": "code",
   "execution_count": 60,
   "metadata": {},
   "outputs": [
    {
     "data": {
      "text/plain": [
       "100.0"
      ]
     },
     "execution_count": 60,
     "metadata": {},
     "output_type": "execute_result"
    }
   ],
   "source": [
    "np.array(uvals).min()\n"
   ]
  },
  {
   "cell_type": "code",
   "execution_count": 62,
   "metadata": {},
   "outputs": [
    {
     "data": {
      "text/plain": [
       "98.72968617823653"
      ]
     },
     "execution_count": 62,
     "metadata": {},
     "output_type": "execute_result"
    }
   ],
   "source": [
    "np.array(hhases).max()\n"
   ]
  },
  {
   "cell_type": "code",
   "execution_count": null,
   "metadata": {},
   "outputs": [],
   "source": [
    "# #Test for instantiation of lots, residences built by developers, units per residence\n",
    "# for lot in sim.lots[-1]:\n",
    "#     print('Lot size:', lot.size)\n",
    "#     print('Number of buildings on lot:', len(lot.residences[-1]))\n",
    "#     for residence in lot.residences[-1]:\n",
    "#         print('Building size:', residence.size)\n",
    "#         print('Building zoned as:', residence.zoned_as)\n",
    "#         print('Units in building:', len(residence.units[-1]))\n",
    "#         print('Sqft per unit:', residence.size / len(residence.units[-1]))\n",
    "#         for unit in residence.units[-1]:\n",
    "#             print('Unit size:', unit.size)\n",
    "#             print('Unit initial value:', unit.value[0])\n",
    "#             print('Unit current value:', unit.value[-1])\n",
    "#             print('Household size:', unit.occ[-1].size)\n",
    "#             print('Household spending power:', unit.occ[-1].size)\n",
    "#     print('\\n')"
   ]
  },
  {
   "cell_type": "code",
   "execution_count": null,
   "metadata": {},
   "outputs": [],
   "source": []
  },
  {
   "cell_type": "code",
   "execution_count": null,
   "metadata": {},
   "outputs": [],
   "source": []
  },
  {
   "cell_type": "code",
   "execution_count": null,
   "metadata": {},
   "outputs": [],
   "source": []
  },
  {
   "cell_type": "code",
   "execution_count": null,
   "metadata": {},
   "outputs": [],
   "source": []
  },
  {
   "cell_type": "code",
   "execution_count": null,
   "metadata": {},
   "outputs": [],
   "source": []
  },
  {
   "cell_type": "code",
   "execution_count": null,
   "metadata": {},
   "outputs": [],
   "source": []
  },
  {
   "cell_type": "code",
   "execution_count": null,
   "metadata": {},
   "outputs": [],
   "source": []
  },
  {
   "cell_type": "code",
   "execution_count": null,
   "metadata": {},
   "outputs": [],
   "source": []
  },
  {
   "cell_type": "code",
   "execution_count": null,
   "metadata": {},
   "outputs": [],
   "source": []
  },
  {
   "cell_type": "code",
   "execution_count": null,
   "metadata": {},
   "outputs": [],
   "source": [
    "#CITY SETTINGS\n",
    "#Size of land area in sqft (for now)\n",
    "land = 1000000 #one trillion sqft in SF\n",
    "num_lots = 1000 #800,000 in SF\n",
    "lot_size_avg = 2000\n",
    "lot_size_std = 500\n",
    "\n",
    "#Starting population\n",
    "pop_start = 1000\n",
    "has_avg = 2000\n",
    "has_std = 500\n",
    "\n",
    "#Time and money\n",
    "inflation = 0.02\n",
    "years = 10\n",
    "\n",
    "#Probability distribution of house sizes\n",
    "#house_size_dist = np.random.normal(scale = house_size_std, loc = avg_house_size, size = households)\n",
    "\n",
    "\n",
    "sim = Simulation(total_time_steps = years, \n",
    "                 land = land, \n",
    "                 num_lots = num_lots, \n",
    "                 lot_size_avg = lot_size_avg, \n",
    "                 lot_size_std = lot_size_std,\n",
    "                 pop_start = pop_start, \n",
    "                 has_avg = has_avg, \n",
    "                 has_std = has_std, \n",
    "                 inflation = inflation,\n",
    "                 )"
   ]
  },
  {
   "cell_type": "code",
   "execution_count": null,
   "metadata": {},
   "outputs": [],
   "source": []
  },
  {
   "cell_type": "code",
   "execution_count": null,
   "metadata": {},
   "outputs": [],
   "source": []
  },
  {
   "cell_type": "markdown",
   "metadata": {},
   "source": [
    "# Viz: Assigning lots at start of sim (throws an error when top of grid is reached)"
   ]
  },
  {
   "cell_type": "code",
   "execution_count": null,
   "metadata": {},
   "outputs": [],
   "source": [
    "#VIZ\n",
    "def draw_land_grid(land):\n",
    "    '''Writes a dict of y values, each with a dict of x values.\n",
    "    Works as a grid of xes and yes.'''\n",
    "    root = int(np.round(np.sqrt(land), 0) + 3)\n",
    "    x_range = root\n",
    "    y_range = root\n",
    "    #Each point in the dict will get switched True when a house is drawn on it\n",
    "    grid = {y: {x: False for x in np.arange(x_range)} for y in np.arange(y_range)}\n",
    "    return grid\n",
    "\n",
    "def assign_loc(lot, x, y, frontage):\n",
    "    '''\n",
    "    Assign a location to a lot.\n",
    "    '''\n",
    "    xes = np.arange(x, x + frontage)\n",
    "    yes = np.arange(y, y + frontage)\n",
    "    loc = [(x, y) for y in yes for x in xes]\n",
    "    lot.loc = loc\n",
    "    \n",
    "def fill_coords(grid, loc):\n",
    "    '''\n",
    "    Fill the coords in the grid dict after assignment of previous lot.\n",
    "    '''\n",
    "    for coord in loc:\n",
    "        #Reset the point to True in the dict of grid\n",
    "        grid[coord[1]][coord[0]] = True\n",
    "\n",
    "def avail(grid, x_, y_, frontage):\n",
    "    #X adjusted to the left for padding\n",
    "    x = x_ - 1\n",
    "    #Y adjusted to the left for padding\n",
    "    y = y_ - 1\n",
    "    x_range = np.arange((x), (x + frontage + 2))\n",
    "    y_range = np.arange((y), (y + frontage + 2))\n",
    "    #List of bools returned from each point checked\n",
    "    bottom = [grid[y][x_i] for x_i in x_range[:-1]]\n",
    "    top = [grid[y + frontage][x_i] for x_i in x_range[1:]]\n",
    "    left = [grid[y_i][x] for y_i in y_range[1:]]\n",
    "    right = [grid[y_i][x + frontage] for y_i in y_range[:-1]]\n",
    "    \n",
    "    #Value of all bools\n",
    "    points = sum(bottom) + sum(top) + sum(left) + sum(right)\n",
    "    \n",
    "    #If even one point in the proposed lot is taken (points != 0)\n",
    "    if points:\n",
    "        return False\n",
    "    #If not a single point in the proposed lot is taken (points == 0)\n",
    "    else:\n",
    "        #print(x, y, 'is avail!')\n",
    "        return True\n",
    "\n",
    "#(Each row is a tuple of (x, bool))\n",
    "def find_loc(grid, lot, next_x, next_y):\n",
    "    '''\n",
    "    #Traverse each row in the land grid via grid dict\n",
    "    '''\n",
    "    #Padding -1 right side\n",
    "    x_range = len(grid[0]) - 1\n",
    "    #Padding -1 top\n",
    "    y_range = len(grid) - 1\n",
    "    \n",
    "    #One side of the square lot\n",
    "    frontage = int(np.round(np.sqrt(lot.size), 0))\n",
    "    \n",
    "     #Traverse the y rows in the grid dict\n",
    "    for y in np.arange(next_y, y_range):\n",
    "        #If row isn't too full for this lot\n",
    "        if x_range - sum([v for k, v in grid[y].items()]) > frontage:\n",
    "            #print('Looking in row', y)\n",
    "            #Traverse the row of x values\n",
    "            for x in np.arange(next_x, x_range):\n",
    "                #print('Looking in x', x)\n",
    "                #If the right side of the lot is at the right edge of the grid, \n",
    "                #and at or below the top, continue\n",
    "                if ((x + frontage) <= (x_range - 1)) and ((y + frontage) <= (y_range - 1)):\n",
    "                    #If all frontage points in the proposed lot return False\n",
    "                    if avail(grid, x, y, frontage):\n",
    "                        #print('Assigning lot at', x, y)\n",
    "                        #House gets assigned these coords\n",
    "                        assign_loc(lot, x, y, frontage)\n",
    "                        #Coords get changed to True in the grid dict\n",
    "                        fill_coords(grid, lot.loc)\n",
    "                        #Break the loop\n",
    "                        #print('Found lot for ', lot.size)\n",
    "                        #Return next x and next y to start on\n",
    "                        #print((x + frontage), y)\n",
    "                        return (x + frontage), y\n",
    "        #If spot isn't found, reset x to 0 before moving up to next y\n",
    "        #(Start at 1, not 0, for padding on left side)\n",
    "        next_x = 1\n"
   ]
  },
  {
   "cell_type": "code",
   "execution_count": null,
   "metadata": {
    "scrolled": true
   },
   "outputs": [],
   "source": [
    "#Draw grid for sim\n",
    "grid = draw_land_grid(land)\n",
    "\n",
    "counter = 0\n",
    "#Padding +1\n",
    "next_x = 1\n",
    "#Padding +1\n",
    "next_y = 1\n",
    "\n",
    "for _ in tqdm(range(len(sim.housing_stock))):\n",
    "    #Draw a lot on the grid\n",
    "    next_x, next_y = find_loc(grid, sim.housing_stock[_], next_x, next_y)\n",
    "    #counter += 1\n",
    "    #print(counter, 'out of', len(sim.housing_stock))"
   ]
  },
  {
   "cell_type": "code",
   "execution_count": null,
   "metadata": {},
   "outputs": [],
   "source": [
    "#What does the grid look like?\n",
    "grid[0]"
   ]
  },
  {
   "cell_type": "code",
   "execution_count": null,
   "metadata": {},
   "outputs": [],
   "source": [
    "  "
   ]
  },
  {
   "cell_type": "code",
   "execution_count": null,
   "metadata": {},
   "outputs": [],
   "source": [
    "sim.housing_stock[10].sold"
   ]
  },
  {
   "cell_type": "code",
   "execution_count": null,
   "metadata": {},
   "outputs": [],
   "source": [
    "sim.run()"
   ]
  },
  {
   "cell_type": "markdown",
   "metadata": {},
   "source": [
    "# Visualizing lots (some overlap)"
   ]
  },
  {
   "cell_type": "code",
   "execution_count": null,
   "metadata": {},
   "outputs": [],
   "source": [
    "#Draw viz of all lots\n",
    "fig = plt.figure(figsize = (14,14))\n",
    "for lot in sim.housing_stock:\n",
    "    if lot.sold:\n",
    "        color = 'blue'\n",
    "    else:\n",
    "        color = np.random.choice(['dimgray', 'darkgray', 'silver', 'slategray', 'powderblue', 'whitesmoke'])\n",
    "    x = [point[0] for point in lot.loc]\n",
    "    y = [point[1] for point in lot.loc]\n",
    "    #ADD IF STATEMENT FOR SALE OF LOT\n",
    "    plt.scatter(x, y, label = lot.size, marker = 's', color = color)\n",
    "plt.show()"
   ]
  },
  {
   "cell_type": "code",
   "execution_count": null,
   "metadata": {},
   "outputs": [],
   "source": [
    "#Draw viz of all lots\n",
    "fig = plt.figure(figsize = (14,14))\n",
    "for lot in sim.housing_stock:\n",
    "    if lot.sold:\n",
    "        color = 'blue'\n",
    "    else:\n",
    "        color = np.random.choice(['dimgray', 'darkgray', 'silver', 'slategray', 'powderblue', 'whitesmoke'])\n",
    "    x = [point[0] for point in lot.loc]\n",
    "    y = [point[1] for point in lot.loc]\n",
    "    #ADD IF STATEMENT FOR SALE OF LOT\n",
    "    plt.scatter(x, y, label = lot.size, marker = 's', color = color)\n",
    "plt.show()"
   ]
  },
  {
   "cell_type": "code",
   "execution_count": null,
   "metadata": {},
   "outputs": [],
   "source": []
  },
  {
   "cell_type": "code",
   "execution_count": null,
   "metadata": {},
   "outputs": [],
   "source": []
  },
  {
   "cell_type": "code",
   "execution_count": null,
   "metadata": {},
   "outputs": [],
   "source": []
  },
  {
   "cell_type": "code",
   "execution_count": null,
   "metadata": {},
   "outputs": [],
   "source": []
  },
  {
   "cell_type": "code",
   "execution_count": null,
   "metadata": {},
   "outputs": [],
   "source": []
  },
  {
   "cell_type": "code",
   "execution_count": null,
   "metadata": {},
   "outputs": [],
   "source": []
  },
  {
   "cell_type": "code",
   "execution_count": null,
   "metadata": {},
   "outputs": [],
   "source": []
  },
  {
   "cell_type": "code",
   "execution_count": null,
   "metadata": {},
   "outputs": [],
   "source": []
  }
 ],
 "metadata": {
  "kernelspec": {
   "display_name": "Python 3",
   "language": "python",
   "name": "python3"
  },
  "language_info": {
   "codemirror_mode": {
    "name": "ipython",
    "version": 3
   },
   "file_extension": ".py",
   "mimetype": "text/x-python",
   "name": "python",
   "nbconvert_exporter": "python",
   "pygments_lexer": "ipython3",
   "version": "3.7.0"
  }
 },
 "nbformat": 4,
 "nbformat_minor": 2
}
