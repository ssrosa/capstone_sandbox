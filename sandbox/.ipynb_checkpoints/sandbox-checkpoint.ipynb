{
 "cells": [
  {
   "cell_type": "markdown",
   "metadata": {},
   "source": [
    "# Capstone Project Sandbox"
   ]
  },
  {
   "cell_type": "code",
   "execution_count": 6,
   "metadata": {},
   "outputs": [],
   "source": [
    "import numpy as np\n",
    "import matplotlib.pyplot as plt"
   ]
  },
  {
   "cell_type": "code",
   "execution_count": 41,
   "metadata": {},
   "outputs": [],
   "source": [
    "#CITY SETTINGS\n",
    "#Size of land area in sqft (for now)\n",
    "land = 1000000 #one trillion sqft in SF\n",
    "households = 1000 #800,000 in SF\n",
    "house_size_avg = 2000\n",
    "house_size_std = 500\n",
    "#Probability distribution of house sizes\n",
    "#house_size_dist = np.random.normal(scale = house_size_std, loc = avg_house_size, size = households)\n",
    "time_steps = 10"
   ]
  },
  {
   "cell_type": "code",
   "execution_count": 21,
   "metadata": {},
   "outputs": [
    {
     "data": {
      "text/plain": [
       "2014846.1369563257"
      ]
     },
     "execution_count": 21,
     "metadata": {},
     "output_type": "execute_result"
    }
   ],
   "source": [
    "house_size_dist.sum()"
   ]
  },
  {
   "cell_type": "code",
   "execution_count": 10,
   "metadata": {
    "collapsed": true
   },
   "outputs": [
    {
     "data": {
      "text/plain": [
       "(array([1.0000e+00, 0.0000e+00, 0.0000e+00, 8.0000e+00, 1.8000e+01,\n",
       "        5.3000e+01, 9.7000e+01, 2.1000e+02, 3.8900e+02, 6.6100e+02,\n",
       "        1.1620e+03, 2.0330e+03, 3.4020e+03, 5.2720e+03, 7.9750e+03,\n",
       "        1.1545e+04, 1.6114e+04, 2.2029e+04, 2.8737e+04, 3.5947e+04,\n",
       "        4.2861e+04, 5.0264e+04, 5.5774e+04, 6.0065e+04, 6.2474e+04,\n",
       "        6.2005e+04, 5.9732e+04, 5.4571e+04, 4.8754e+04, 4.1716e+04,\n",
       "        3.4036e+04, 2.6710e+04, 2.0422e+04, 1.5233e+04, 1.0608e+04,\n",
       "        7.2660e+03, 4.8530e+03, 2.9110e+03, 1.8520e+03, 1.0500e+03,\n",
       "        5.7100e+02, 3.0500e+02, 1.6600e+02, 8.5000e+01, 3.5000e+01,\n",
       "        1.7000e+01, 3.0000e+00, 5.0000e+00, 0.0000e+00, 3.0000e+00]),\n",
       " array([-437.01134376, -339.06168206, -241.11202037, -143.16235868,\n",
       "         -45.21269699,   52.7369647 ,  150.68662639,  248.63628808,\n",
       "         346.58594978,  444.53561147,  542.48527316,  640.43493485,\n",
       "         738.38459654,  836.33425823,  934.28391992, 1032.23358162,\n",
       "        1130.18324331, 1228.132905  , 1326.08256669, 1424.03222838,\n",
       "        1521.98189007, 1619.93155176, 1717.88121345, 1815.83087515,\n",
       "        1913.78053684, 2011.73019853, 2109.67986022, 2207.62952191,\n",
       "        2305.5791836 , 2403.52884529, 2501.47850699, 2599.42816868,\n",
       "        2697.37783037, 2795.32749206, 2893.27715375, 2991.22681544,\n",
       "        3089.17647713, 3187.12613883, 3285.07580052, 3383.02546221,\n",
       "        3480.9751239 , 3578.92478559, 3676.87444728, 3774.82410897,\n",
       "        3872.77377066, 3970.72343236, 4068.67309405, 4166.62275574,\n",
       "        4264.57241743, 4362.52207912, 4460.47174081]),\n",
       " <a list of 50 Patch objects>)"
      ]
     },
     "execution_count": 10,
     "metadata": {},
     "output_type": "execute_result"
    },
    {
     "data": {
      "image/png": "[encoded data removed]",
      "text/plain": [
       "<Figure size 432x288 with 1 Axes>"
      ]
     },
     "metadata": {
      "needs_background": "light"
     },
     "output_type": "display_data"
    }
   ],
   "source": [
    "plt.hist(house_size_dist, bins = 50)"
   ]
  },
  {
   "cell_type": "code",
   "execution_count": 82,
   "metadata": {},
   "outputs": [],
   "source": [
    "class Household(object):\n",
    "    def __init__(self):\n",
    "        #self.is_whatever = True\n",
    "        self.size = None\n",
    "\n",
    "class Simulation(object):\n",
    "    def __init__(self, land, households, house_size_avg, house_size_std, time_steps):\n",
    "        self.housing_stock = []\n",
    "        #self.land_log = [land]\n",
    "        #Create population distribution to simulate variety of house sizes\n",
    "        #For now house size equals lot size\n",
    "        house_size_dist = np.random.normal(scale = house_size_std, loc = avg_house_size, size = households)\n",
    "        #Fill up land area with households\n",
    "        while land > 0:\n",
    "            size = np.random.choice(house_size_dist, replace = False)\n",
    "            #Create a new household only if the house/lot size will fit on the available land left\n",
    "            if size > land:\n",
    "                #Need to break the loop here otherwise it keeps running until a random size is\n",
    "                #drawn that fits the available remaning land.\n",
    "                break\n",
    "            else:\n",
    "                household = Household()\n",
    "                household.size = size\n",
    "                land -= size\n",
    "                #self.land_log.append(land)\n",
    "                self.housing_stock.append(household)"
   ]
  },
  {
   "cell_type": "code",
   "execution_count": 87,
   "metadata": {},
   "outputs": [],
   "source": [
    "sim = Simulation(land = land, \n",
    "           households = households, \n",
    "           house_size_avg = house_size_avg, \n",
    "           house_size_std = house_size_std, \n",
    "           time_steps = time_steps)"
   ]
  },
  {
   "cell_type": "code",
   "execution_count": 88,
   "metadata": {},
   "outputs": [
    {
     "data": {
      "text/plain": [
       "504"
      ]
     },
     "execution_count": 88,
     "metadata": {},
     "output_type": "execute_result"
    }
   ],
   "source": [
    "len(sim.housing_stock)"
   ]
  },
  {
   "cell_type": "code",
   "execution_count": 89,
   "metadata": {},
   "outputs": [],
   "source": [
    "total_housing_area = [house.size for house in sim.housing_stock]"
   ]
  },
  {
   "cell_type": "code",
   "execution_count": 90,
   "metadata": {},
   "outputs": [
    {
     "data": {
      "text/plain": [
       "998708.3767640119"
      ]
     },
     "execution_count": 90,
     "metadata": {},
     "output_type": "execute_result"
    }
   ],
   "source": [
    "sum(total_housing_area)"
   ]
  },
  {
   "cell_type": "code",
   "execution_count": 91,
   "metadata": {},
   "outputs": [
    {
     "data": {
      "text/plain": [
       "(array([ 3.,  0.,  0.,  1.,  0.,  0.,  1.,  1.,  2.,  1.,  3.,  3.,  2.,\n",
       "         3.,  8., 13., 10., 14.,  3., 19., 17., 15., 13., 17., 16., 17.,\n",
       "        31., 28., 32., 23., 23., 13., 10., 23., 29., 12., 16., 16., 16.,\n",
       "         9.,  7.,  4.,  6.,  2.,  4.,  5.,  3.,  4.,  4.,  2.]),\n",
       " array([ 330.68954939,  388.82460426,  446.95965913,  505.09471401,\n",
       "         563.22976888,  621.36482375,  679.49987863,  737.6349335 ,\n",
       "         795.76998837,  853.90504325,  912.04009812,  970.17515299,\n",
       "        1028.31020787, 1086.44526274, 1144.58031761, 1202.71537249,\n",
       "        1260.85042736, 1318.98548223, 1377.12053711, 1435.25559198,\n",
       "        1493.39064685, 1551.52570173, 1609.6607566 , 1667.79581147,\n",
       "        1725.93086635, 1784.06592122, 1842.20097609, 1900.33603097,\n",
       "        1958.47108584, 2016.60614071, 2074.74119559, 2132.87625046,\n",
       "        2191.01130533, 2249.14636021, 2307.28141508, 2365.41646995,\n",
       "        2423.55152483, 2481.6865797 , 2539.82163457, 2597.95668945,\n",
       "        2656.09174432, 2714.22679919, 2772.36185407, 2830.49690894,\n",
       "        2888.63196381, 2946.76701869, 3004.90207356, 3063.03712843,\n",
       "        3121.1721833 , 3179.30723818, 3237.44229305]),\n",
       " <a list of 50 Patch objects>)"
      ]
     },
     "execution_count": 91,
     "metadata": {},
     "output_type": "execute_result"
    },
    {
     "data": {
      "image/png": "[encoded data removed]",
      "text/plain": [
       "<Figure size 432x288 with 1 Axes>"
      ]
     },
     "metadata": {
      "needs_background": "light"
     },
     "output_type": "display_data"
    }
   ],
   "source": [
    "plt.hist(total_housing_area, bins = 50)"
   ]
  },
  {
   "cell_type": "code",
   "execution_count": 70,
   "metadata": {},
   "outputs": [
    {
     "data": {
      "text/plain": [
       "5423.46690956868"
      ]
     },
     "execution_count": 70,
     "metadata": {},
     "output_type": "execute_result"
    }
   ],
   "source": [
    "sim.land_log[-4]"
   ]
  },
  {
   "cell_type": "code",
   "execution_count": null,
   "metadata": {},
   "outputs": [],
   "source": []
  }
 ],
 "metadata": {
  "kernelspec": {
   "display_name": "Python 3",
   "language": "python",
   "name": "python3"
  },
  "language_info": {
   "codemirror_mode": {
    "name": "ipython",
    "version": 3
   },
   "file_extension": ".py",
   "mimetype": "text/x-python",
   "name": "python",
   "nbconvert_exporter": "python",
   "pygments_lexer": "ipython3",
   "version": "3.7.0"
  }
 },
 "nbformat": 4,
 "nbformat_minor": 2
}
