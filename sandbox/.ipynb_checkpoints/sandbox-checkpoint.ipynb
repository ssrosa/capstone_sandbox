{
 "cells": [
  {
   "cell_type": "markdown",
   "metadata": {},
   "source": [
    "# Capstone Project Sandboo"
   ]
  },
  {
   "cell_type": "code",
   "execution_count": 1,
   "metadata": {},
   "outputs": [
    {
     "name": "stderr",
     "output_type": "stream",
     "text": [
      "/Users/ssrosa/anaconda3/lib/python3.7/site-packages/tqdm/autonotebook/__init__.py:14: TqdmExperimentalWarning: Using `tqdm.autonotebook.tqdm` in notebook mode. Use `tqdm.tqdm` instead to force console mode (e.g. in jupyter console)\n",
      "  \" (e.g. in jupyter console)\", TqdmExperimentalWarning)\n",
      "/Users/ssrosa/anaconda3/lib/python3.7/site-packages/drawSvg/raster.py:11: RuntimeWarning: CairoSVG will need to be installed to rasterize images: Install with `pip3 install cairosvg`\n",
      "  warnings.warn(msg, RuntimeWarning)\n"
     ]
    }
   ],
   "source": [
    "import numpy as np\n",
    "import pandas as pd\n",
    "import matplotlib.pyplot as plt\n",
    "from tqdm.autonotebook import tqdm\n",
    "\n",
    "import drawSvg as draw"
   ]
  },
  {
   "cell_type": "code",
   "execution_count": 2,
   "metadata": {},
   "outputs": [],
   "source": [
    "class Council(object):\n",
    "    '''\n",
    "    Haven't decided yet what zoning attribute should be. For now the zone() method\n",
    "    does not pull directly from the zoning attribute but rather requires a separate\n",
    "    zoned_as parameter be passed.\n",
    "    '''\n",
    "    def __init__(self, zoning):\n",
    "        self.zoning = zoning\n",
    "    def zone(self, land, to_zone_as):\n",
    "        land.zoned_as.append(to_zone_as)\n",
    "\n",
    "class District(object):\n",
    "    def __init__(self):\n",
    "        self.zoned_as = []\n",
    "        self.blocks = [[]]\n",
    "    def update(self):\n",
    "        #Append last time step's blocks\n",
    "        self.zoned_as.append(self.zoned_as[-1])\n",
    "        self.blocks.append([b for b in self.blocks[-1]])        \n",
    "        \n",
    "class Block(object):\n",
    "    def __init__(self, size):\n",
    "        self.size = size\n",
    "        self.district = None\n",
    "        self.zoned_as = []\n",
    "        #Coords where block is. Just for viz\n",
    "        self.loc = []\n",
    "        self.residences = [[]]\n",
    "    def update(self):\n",
    "        #Append last time step's residences\n",
    "        self.zoned_as.append(self.zoned_as[-1])\n",
    "        self.residences.append([r for r in self.residences[-1]])\n",
    "\n",
    "class Developer(object):\n",
    "    def __init__(self):\n",
    "        self.residences_built = [[]]\n",
    "        #100sqft - about a 9X12 room\n",
    "        #Hard coded for now\n",
    "        self.MIN_RES_SIZE = 425\n",
    "    def build_on(self, block):\n",
    "        #Remaining empty land on this block:\n",
    "        avail_area = block.size - sum([residence.size for residence in block.residences[-1]])\n",
    "        #If avail area exceeds min residence size that this developer can build\n",
    "        if  avail_area > self.MIN_RES_SIZE:\n",
    "            #Distribution of possible sizes for a new residence\n",
    "            size_dist = np.arange(self.MIN_RES_SIZE, avail_area)\n",
    "            #Initialize new residence object\n",
    "            #Give residence a random size within the realm of possibility\n",
    "            size = np.random.choice(size_dist)\n",
    "            residence = Residence(block, size, block.zoned_as[-1])\n",
    "            #Add residence to last list of residences built on the block\n",
    "            block.residences[-1].append(residence)\n",
    "            #Add residence to last list of residence built by this developer\n",
    "            self.residences_built[-1].append(residence)\n",
    "    def evict_all(self, residence):\n",
    "        [u.occ[-1].move_out() for u in residence.units[-1] if u.occ[-1]]\n",
    "    def demolish(self, residence):\n",
    "        #Make all households move out\n",
    "        self.evict_all(residence)\n",
    "        #Remove this residence from the block's list. (Will remove it from all records moving forward.)\n",
    "        residence.block.residences[-1].remove(residence)\n",
    "        #Remove the block from this residence\n",
    "        residence.block = False\n",
    "\n",
    "class Residence(object):\n",
    "    def __init__(self, block, size, zoned_as):\n",
    "        \n",
    "        #Building cannot be moved, resized, or rezoned.\n",
    "        self.block = block\n",
    "        self.size = size\n",
    "        self.zoned_as = zoned_as\n",
    "        #100sqft - about a 9X12 room\n",
    "        #Hard coded for now\n",
    "        self.min_unit_size = 100\n",
    "        \n",
    "        max_units = self.zoned_as #8 people per unit\n",
    "        # if zoned_as 8, can have 1 unit\n",
    "        # if zoned_as 16, can have 2 units\n",
    "        # if zoned_as 48, cah nave 6 units\n",
    "        # if zoned as 96, can have 12 units\n",
    "        self.units = [[]]\n",
    "        #Not clear at this point whether nested list will be necessary but am including it for now.\n",
    "        max_units = zoned_as\n",
    "        #Units can be larger than 100 sqft\n",
    "        if size / max_units >= self.min_unit_size:\n",
    "            self.unit_size = size / max_units\n",
    "        #But cannot be smaller\n",
    "        else:\n",
    "            self.unit_size = self.min_unit_size\n",
    "        avail_area = self.size\n",
    "        while  avail_area >= self.unit_size:\n",
    "            #Create a new unit object\n",
    "            unit = Unit(self, self.unit_size)\n",
    "            #Add unit object to last item of Residence's units list.\n",
    "            self.units[-1].append(unit)\n",
    "            avail_area -= self.unit_size\n",
    "\n",
    "class Unit(object):\n",
    "    def __init__(self, residence, size):\n",
    "        self.residence = residence\n",
    "        self.size = size\n",
    "        #Value is a list. -1 is current value.\n",
    "        self.value = [(size * price_sqft)]\n",
    "        #Occupant is a list. -1 is current occupant.\n",
    "        self.occ = [False]\n",
    "    def update(self):\n",
    "        self.value.append(self.value[-1])\n",
    "        self.occ.append(self.occ[-1])\n",
    "\n",
    "class Household(object):\n",
    "    '''\n",
    "    '''\n",
    "    def __init__(self, has):\n",
    "        #List of whether the household is homeless or not\n",
    "        self.housed = [False]\n",
    "        #Hold income constant for now but still write as a list\n",
    "        self.has = [has]\n",
    "    \n",
    "    def update(self):\n",
    "        self.housed.append(self.housed[-1])\n",
    "        self.has.append(self.has[-1])\n",
    "    \n",
    "    def can_move_in(self, unit):\n",
    "        #household needs a place to live\n",
    "        #unit not already taken\n",
    "        # household can afford unit \n",
    "        if (not self.housed[-1]) \\\n",
    "        and (not unit.occ[-1]) \\\n",
    "        and (unit.value[-1] <= self.has[-1]):        \n",
    "            return True\n",
    "        else: \n",
    "            return False\n",
    "    def must_move_out(self):\n",
    "        #Household has a place to live\n",
    "        #buts its value has risen above\n",
    "        #household's spending power\n",
    "        #Other conditions can be added later\n",
    "        if (self.housed[-1]) \\\n",
    "        and self.has[-1] < self.housed[-1].value[-1]:\n",
    "            return True\n",
    "        else:\n",
    "            return False\n",
    "        \n",
    "    def move_in(self, unit):\n",
    "        #Household becomes occupant of unit\n",
    "        unit.occ[-1] = self\n",
    "        #Houshold marks itself as housed\n",
    "        self.housed[-1] = unit\n",
    "        #print(f'Household {self.has[-1]} now lives in unit {unit.value[-1]}')\n",
    "    \n",
    "    def move_out(self):\n",
    "        #Unit loses occupant\n",
    "        self.housed[-1].occ[-1] = False\n",
    "        #Household marks itself as unhoused\n",
    "        self.housed[-1] = False\n",
    "\n",
    "def create_councils(self, council_count, zoning):\n",
    "            #Create a council to zone blocks\n",
    "    councils = []\n",
    "    for i in range(council_count):\n",
    "        council = Council(zoning)\n",
    "        councils.append(council)\n",
    "    return councils\n",
    "        \n",
    "def create_blocks(self, land, block_size_avg, block_size_std):\n",
    "    new_blocks = []\n",
    "    #Create a distribution to simulate variety of block sizes\n",
    "    #block_dist = np.random.normal(scale = block_size_std, loc = block_size_avg, size = block_count)\n",
    "    #Create a distribution to simulate variety of zoning\n",
    "    #Empty for now\n",
    "    size = BLOCK_SIZE\n",
    "    while land > 0:\n",
    "        #size = np.round(np.random.choice(block_dist, replace = False), 0)\n",
    "        #Create a new block only if the block size will fit on the available land left\n",
    "        if size > land:\n",
    "            #Need to break the loop here otherwise it keeps running until a random size is\n",
    "            #drawn that fits the available remaining land. Could be tiny.\n",
    "            break\n",
    "        else:\n",
    "            #Instantiate a block with a random size\n",
    "            #HARD CODING block SIZE AS  100000\n",
    "            block = Block(size)\n",
    "            #Reduce available land area by the size of this block\n",
    "            land -= size\n",
    "            #Add this block to the list of blocks in the sim\n",
    "            new_blocks.append(block)\n",
    "    #Append this list to the list of blocks as the last item        \n",
    "    return new_blocks\n",
    "\n",
    "def create_districts(blocks):\n",
    "    '''\n",
    "    Map blocks onto districts evenly.\n",
    "    '''\n",
    "    blocks_to_assign = [b for b in blocks]\n",
    "    districts = []\n",
    "    for i in range(DISTRICTS_COUNT):\n",
    "        district = District()\n",
    "        districts.append(district)\n",
    "    #While there are still blocks to assign\n",
    "    while blocks_to_assign:\n",
    "        #For each district\n",
    "        for d in districts:\n",
    "            #If the list hasn't run out of values while iterating\n",
    "            if blocks_to_assign:\n",
    "                #Give the first block to the district and remove it from the list of blocks\n",
    "                blocks_to_assign[0].district = d\n",
    "                d.blocks[-1].append(blocks_to_assign.pop(0))       \n",
    "            else:\n",
    "                break\n",
    "    return districts\n",
    "    \n",
    "def create_developers(self, dev_count):\n",
    "    '''\n",
    "    Instantiate some number of developer objects.\n",
    "    '''\n",
    "    #For now it's just one developer. Coudl be a list\n",
    "    developers = []\n",
    "    for i in range(dev_count):\n",
    "        developer = Developer()\n",
    "        developers.append(developer)\n",
    "    #Return developers as a list to be stored\n",
    "    return developers\n",
    "\n",
    "def round_of_zoning(self, council, districts):\n",
    "    '''\n",
    "    Takes one council, not a list of councils.\n",
    "\n",
    "    '''\n",
    "    #FOR NOW HARD CODING THE ZONES HERE\n",
    "    zones = [1, 1, 1, 1, 1, 2, 2, 4, 4, 16]\n",
    "    \n",
    "    #Zone each district\n",
    "    for d, z in zip(districts, zones):\n",
    "        council.zone(d, z)\n",
    "        #Zone all the blocks the same way as their district\n",
    "        for b in d.blocks[-1]:\n",
    "            council.zone(b, d.zoned_as[-1])\n",
    "                \n",
    "def round_of_developing(self, developers, blocks):\n",
    "    '''\n",
    "    Iterate over list of developers and call each developer's develop method\n",
    "    '''\n",
    "    [developer.build_on(block) for block in blocks for developer in developers]\n",
    "\n",
    "def create_households(self, pop_growth, has_avg, has_std):\n",
    "    '''\n",
    "    Create some number of households to come to the city.\n",
    "    '''\n",
    "    income_dist = np.random.normal(scale = has_std, loc = has_avg, size = pop_growth)\n",
    "    new_households = [Household(i) for i in income_dist]\n",
    "    #self.households[-1].extend(\n",
    "    #Return the new households as a list\n",
    "    return new_households\n",
    "\n",
    "def round_of_moving_in(self):\n",
    "    '''\n",
    "    Must be called after time_step() has updated unit and household lists,\n",
    "    and before round_of_moving_out.\n",
    "    Prepare lists of units available and unhoused households, then call match()\n",
    "    to iterate over units to place households in them.\n",
    "    (What could be a very slow for loop is optimized by preparing shorter lists\n",
    "    with only the relevant units and households.)\n",
    "    '''\n",
    "    print('Round of moving')\n",
    "    print('#Prepare units and households for moving.')\n",
    "    #Prepare units and households for moving.\n",
    "    print('#Step 1: Get units available.')\n",
    "    #Step 1: Get units available.\n",
    "    ua = sorted([u for u in self.units[-1] if not u.occ[-1]], \\\n",
    "                        key = lambda u: u.value[-1], reverse = True)\n",
    "    print(f'{len(ua)} units available')\n",
    "    print('#Step 2: Get households seeking unit.')\n",
    "    #Step 2: Get households seeking unit.\n",
    "    hh = sorted([h for h in self.households[-1] if not h.housed[-1]], \\\n",
    "                        key = lambda h: h.has[-1], reverse = True)\n",
    "    print(f'{len(hh)} households available')\n",
    "    print(f'#Step 3: Exclude any units with value above the max spending power of {hh[0].has[-1]}')\n",
    "    #Step 3: Exclude any units with value above the max spending power \n",
    "    #of the households. (Wouldn't be able to rent to anyone)\n",
    "    ua = [u for u in ua if u.value[-1] <= hh[0].has[-1]]\n",
    "    #If list is empty, meaning no units are affordable for the richest household\n",
    "    if not ua:\n",
    "        print('No units available.')\n",
    "        return\n",
    "    print(f'{len(ua)} units available')\n",
    "    print(f'#Step 4: Exclude any households with spending power less than {ua[0].value[-1]}')\n",
    "    #Step 4: Exclude any households with spending power less than \n",
    "    #the lowest unit value. (Wouldn't be able to find a place.)\n",
    "    #Keep hh same length as or shorter than ua.\n",
    "    #(No unit can take more than household so there cannot be more hh than ua.)\n",
    "    hh = [h for i, h in enumerate(hh) if (h.has[-1] >= ua[-1].value[-1]) and \\\n",
    "                                                                    (i < len(ua))]\n",
    "    #If list is empty, mmeaning no households can afford what's available\n",
    "    #This should never happen under the above conditional, but leaving it in for now\n",
    "    if not hh:\n",
    "        print('No households looking for units.')\n",
    "        return\n",
    "    print(f'{len(hh)} households available')\n",
    "    print('#Step 5: call the match function to move households into units.')\n",
    "    #Step 5: call the match function to move households into units.\n",
    "    hh_remaining = match(hh, ua)\n",
    "    print(f'{len(hh) - len(hh_remaining)} households out of {len(hh)} found housing')\n",
    "    #These two numbers should be equal\n",
    "    #hh_moved_count = sum([1 if h.housed[-1] else 0 for h in hh])\n",
    "    #ua_moved_into_count = sum([1 if u.occ[-1] else 0 for u in ua])\n",
    "\n",
    "def match(hh_, ua):\n",
    "    '''\n",
    "    Helper function for round of moving. Does the work of matching \n",
    "    household to unit. Iterates over units, trying to match each \n",
    "    to the highest-value household in the list. If there's a match,\n",
    "    the household gets popped and the loop moves on to next unit.\n",
    "    If there's not a match, the loop just moves on to the next unit. \n",
    "    A household can take a unit that ncosts less than or equal to\n",
    "    its spending power. Some rich households may wind up getting \n",
    "    cheap units. Units may go untaken; households may go unhoused.\n",
    "\n",
    "    '''\n",
    "    #New list to avoid popping the original\n",
    "    hh = [h for h in hh_]\n",
    "    #For each unit in list \n",
    "    for u in ua:\n",
    "        #If there are no households left in the list, stop iterating\n",
    "        if not hh:\n",
    "            break\n",
    "        else:\n",
    "            #If highest-value household can take the unit\n",
    "            if hh[0].can_move_in(u):\n",
    "                #Household gets unit\n",
    "                hh[0].move_in(u)\n",
    "                #Household gets removed from list\n",
    "                hh.pop(0)\n",
    "            #Else: no lower-valued households can take this unit. \n",
    "            #It goes unoccupied. Move on to the next unit.\n",
    "            #Simplest fastest way to iterate over all of them!\n",
    "    return hh\n",
    "\n",
    "def round_of_moving_out(self):\n",
    "    '''\n",
    "    Must be called after round_of_moving_in().\n",
    "    A given household should only move_in and move_out once per time step.\n",
    "    '''\n",
    "    #Iterate over all households. If a household is housed but \n",
    "    #can no longer afford its unit, it moves out.\n",
    "    test = [h.move_out() for h in self.households[-1] if h.housed[-1] and \\\n",
    "                        h.must_move_out()]\n",
    "    \n",
    "    #Should be zero if no hh move out\n",
    "    print(len(test))                \n",
    "                \n",
    "def print_stats(self, time_step):\n",
    "    print(f'Population at time step {time_step}: {len(self.households[-1])}')\n",
    "    print(f'{len(self.blocks[-1])} blocks on {LAND} sqft of land')\n",
    "    print(f'{len(self.developers[-1])} developers')\n",
    "    #Get number of residences. FOr now there's no master list for some reason\n",
    "    residences_count = len(self.residences[-1])\n",
    "    units_count = len(self.units[-1])\n",
    "    print(f'{residences_count} residences and {units_count} units')\n",
    "    housing = [True if household.housed[-1] else False for household in self.households[-1]]\n",
    "    housed_count = sum(housing)\n",
    "    homeless_count = len(housing) - housed_count\n",
    "    print(f'{housed_count} households have housing and {homeless_count} households are homeless.')\n",
    "    \n",
    "class Simulation(object):\n",
    "    def __init__(self, \n",
    "                 #For creating blocks\n",
    "                 land, block_count, block_size_avg, block_size_std, zoning,\n",
    "                 #For bringing builders and rulers to the city\n",
    "                 dev_count, council_count,\n",
    "                 #For bringing people to the city\n",
    "                 pop_growth, has_avg, has_std, \n",
    "                 #For running the sim over time\n",
    "                 total_time_steps, inflation):\n",
    "        #Number of years to run sim\n",
    "        self.total_time_steps = total_time_steps\n",
    "        #List of increments by which to increase population\n",
    "        self.pop_growth = pop_growth\n",
    "        #Held as constant for now\n",
    "        self.has_avg = has_avg\n",
    "        #Held as constant for now\n",
    "        self.has_std = has_std\n",
    "        #Held as constant for now\n",
    "        self.inflation = inflation\n",
    "        \n",
    "        #STEP 0:\n",
    "        #Create councils\n",
    "        councils = self.create_councils(council_count, zoning)\n",
    "        self.councils = [councils]\n",
    "        \n",
    "        #STEP 1: \n",
    "        #Fill up land area with blocks\n",
    "        #Will return a list of blocks. Becomes sim.blocks[-1]\n",
    "        blocks = self.create_blocks(land, block_size_avg, block_size_std)\n",
    "        self.blocks = [blocks]\n",
    "    \n",
    "        #Map all blocks onto districts as evenly as possible. \n",
    "        #District count is hard coded as a constant\n",
    "        #This is done randomly, not by a council, as neighborhoods\n",
    "        #would coalesce organically in real life.\n",
    "        districts = create_districts(self.blocks[-1])\n",
    "        self.districts = [districts]\n",
    "        #Council zones all the districts and blocks\n",
    "        #For now its the first council in the list of councils\n",
    "        self.round_of_zoning(councils[0], self.districts[-1])\n",
    "       \n",
    "        #STEP 2: Create developers to build residences\n",
    "        developers = self.create_developers(dev_count)\n",
    "        #Start a list of lists of developers to keep track\n",
    "        self.developers = [developers]\n",
    "        #Have developers build new residences\n",
    "        self.round_of_developing(self.developers[-1], self.blocks[-1])\n",
    "        \n",
    "        #Start a list of lists of residences\n",
    "        self.residences = [[r for b in self.blocks[-1] for r in b.residences[-1]]]\n",
    "        #Start a list of lists of units\n",
    "        self.units = [[u for r in self.residences[-1] for u in r.units[-1]]]\n",
    "        \n",
    "        #STEP 3: Create people to come to the city and move in\n",
    "        \n",
    "        #Pop the last value of population growth\n",
    "        new_households = self.create_households(self.pop_growth.pop(), \n",
    "                               self.has_avg, \n",
    "                               self.has_std)\n",
    "        #Start a list of lists of households to keep track\n",
    "        self.households = [new_households]\n",
    "        #STEP 4: Let each household try to move into a house\n",
    "        self.round_of_moving_in()\n",
    "        \n",
    "        #STEP 5: Print initial statistics\n",
    "        print('Simulation started.')\n",
    "        self.print_stats(0)\n",
    "        \n",
    "def time_step(self, step):\n",
    "    \n",
    "    #Demolish any old residences\n",
    "    #pass\n",
    "    #Kill off any old households\n",
    "    #pass\n",
    "    print('\\n')\n",
    "    print(f'Updating object records for time step {step}')\n",
    "    #Update lists of objects:\n",
    "    print(f'1. Copy list of blocks from time step {step - 1}')\n",
    "    self.blocks.append([b for b in self.blocks[-1]])\n",
    "    print('2. Update each block\\'s own records')\n",
    "    [b.update() for b in self.blocks[-1]]\n",
    "    print('3. Update each unit\\'s own records')\n",
    "    #Update each existing unit\n",
    "    [u.update() for u in self.units[-1]]\n",
    "    #Update each existing household\n",
    "    print(f'4. Copy list of developers from time step {step - 1}')\n",
    "    self.developers.append([d for d in self.developers[-1]])\n",
    "   \n",
    "    print(f'5. Copy list of households from time step {step - 1}: ({len(self.households[-1])})')\n",
    "    #Copy list of households from previous time step\n",
    "    self.households.append([h for h in self.households[-1]])\n",
    "    print(f'6. Update each household\\'s own records')\n",
    "    [h.update() for h in self.households[-1]]\n",
    "    \n",
    "    #Inflation increases values or something\n",
    "    \n",
    "    #New developers\n",
    "    #Leave out for now\n",
    "    #Will need to extend [-1] spot of developer list with any new developers\n",
    "    \n",
    "    #New households move to town\n",
    "    print(f'7.New households coming to town!')\n",
    "    new_households = self.create_households(self.pop_growth.pop(), self.has_avg, self.has_std)\n",
    "    print(f'{len(new_households)} households arrived')\n",
    "    self.households[-1].extend(new_households)\n",
    "    #test to make sure lists of households are updating correctly\n",
    "    #print([len(h_list) for h_list in self.households])\n",
    "    print('8. Developers are building new residences on vacant land')\n",
    "    #Build new residences on available land\n",
    "    self.round_of_developing(self.developers[-1], self.blocks[-1])\n",
    "    #Manually append the list of all residences\n",
    "    print('9. Updating master of list of residences to include new construction')\n",
    "    self.residences.append([r for b in self.blocks[-1] for r in b.residences[-1]])\n",
    "    #Need to manually add units to list for sim\n",
    "    print('appending new units to master list')\n",
    "    self.units.append([u for r in self.residences[-1] for u in r.units[-1]])\n",
    "    #Have homeless try to move into new places\n",
    "    print('people moving in')\n",
    "    self.round_of_moving_in()\n",
    "    \n",
    "    #Have those priced out of their units move out\n",
    "    #Shoudl always be a different group of people who move in/out within a year\n",
    "    print('people moving out')\n",
    "    self.round_of_moving_out()\n",
    "    \n",
    "def run(self):\n",
    "    pass\n",
    "    for _ in tqdm(range(self.total_time_steps)):\n",
    "        # Print out the current time step \n",
    "        print(f\"Time step {_}\")\n",
    "        self.time_step(_)\n",
    "        self.print_stats(_)"
   ]
  },
  {
   "cell_type": "code",
   "execution_count": 3,
   "metadata": {
    "scrolled": false
   },
   "outputs": [],
   "source": [
    "#Attach all these functions to the Simulation object\n",
    "Simulation.create_councils = create_councils\n",
    "Simulation.create_blocks = create_blocks\n",
    "Simulation.create_developers = create_developers\n",
    "Simulation.create_households = create_households\n",
    "Simulation.round_of_zoning = round_of_zoning\n",
    "Simulation.round_of_developing = round_of_developing        \n",
    "Simulation.round_of_moving_in = round_of_moving_in\n",
    "Simulation.round_of_moving_out = round_of_moving_out\n",
    "Simulation.print_stats = print_stats\n",
    "Simulation.time_step = time_step\n",
    "Simulation.run = run\n",
    "\n",
    "#CITY SETTINGS\n",
    "#Size of land area in sqft (for now)\n",
    "LAND = 1020000 #one trillion sqft in SF #1000000000\n",
    "block_count = 10\n",
    "DISTRICTS_COUNT = 10\n",
    "BLOCK_SIZE = 102000\n",
    "#Avg and std not used for now\n",
    "block_size_avg = 10000 #50000\n",
    "block_size_std = 150\n",
    "zoning = [1]\n",
    "\n",
    "#Starting developers\n",
    "DEV_COUNT = 10\n",
    "#Starting councils\n",
    "COUNCIL_COUNT = 1\n",
    "\n",
    "#Starting population\n",
    "pop_growth = [10000, 10000, 10000, 10000, 10000, 10000, 10000, 10000, 10000, 10000, 100000]\n",
    "\n",
    "has_avg = 1500\n",
    "has_std = 500\n",
    "\n",
    "#Time and money\n",
    "price_sqft = 10\n",
    "inflation = 0.02\n",
    "years = 10"
   ]
  },
  {
   "cell_type": "code",
   "execution_count": 4,
   "metadata": {
    "scrolled": true
   },
   "outputs": [
    {
     "name": "stdout",
     "output_type": "stream",
     "text": [
      "Round of moving\n",
      "#Prepare units and households for moving.\n",
      "#Step 1: Get units available.\n",
      "193 units available\n",
      "#Step 2: Get households seeking unit.\n",
      "100000 households available\n",
      "#Step 3: Exclude any units with value above the max spending power of 3873.397671800213\n",
      "73 units available\n",
      "#Step 4: Exclude any households with spending power less than 3502.5\n",
      "73 households available\n",
      "#Step 5: call the match function to move households into units.\n",
      "73 households out of 73 found housing\n",
      "Simulation started.\n",
      "Population at time step 0: 100000\n",
      "10 blocks on 1020000 sqft of land\n",
      "10 developers\n",
      "62 residences and 193 units\n",
      "73 households have housing and 99927 households are homeless.\n",
      "CPU times: user 351 ms, sys: 14.4 ms, total: 366 ms\n",
      "Wall time: 372 ms\n"
     ]
    }
   ],
   "source": [
    "%%time\n",
    "#CREATE SIM\n",
    "sim = Simulation(land = LAND, \n",
    "                 block_count = block_count, \n",
    "                 block_size_avg = block_size_avg, \n",
    "                 block_size_std = block_size_std,\n",
    "                 zoning = zoning,\n",
    "                 dev_count = DEV_COUNT,\n",
    "                 council_count = COUNCIL_COUNT,\n",
    "                 pop_growth = pop_growth, \n",
    "                 has_avg = has_avg, \n",
    "                 has_std = has_std, \n",
    "                 total_time_steps = years,\n",
    "                 inflation = inflation\n",
    "                 )\n"
   ]
  },
  {
   "cell_type": "code",
   "execution_count": 78,
   "metadata": {},
   "outputs": [
    {
     "data": {
      "text/plain": [
       "[39303, 3947, 7432, 31065, 19265, 631]"
      ]
     },
     "execution_count": 78,
     "metadata": {},
     "output_type": "execute_result"
    }
   ],
   "source": [
    "#Residence sizes for one lot\n",
    "r_sizes = [r.size for r in sim.blocks[-1][5].residences[-1]]\n",
    "r_sizes"
   ]
  },
  {
   "cell_type": "code",
   "execution_count": 79,
   "metadata": {},
   "outputs": [
    {
     "data": {
      "text/plain": [
       "101643"
      ]
     },
     "execution_count": 79,
     "metadata": {},
     "output_type": "execute_result"
    }
   ],
   "source": [
    "sum(r_sizes)"
   ]
  },
  {
   "cell_type": "code",
   "execution_count": 77,
   "metadata": {},
   "outputs": [
    {
     "data": {
      "text/plain": [
       "[92, 9, 17, 73, 45, 1]"
      ]
     },
     "execution_count": 77,
     "metadata": {},
     "output_type": "execute_result"
    }
   ],
   "source": [
    "sizes425 = [r.size // 425 for r in sim.blocks[-1][5].residences[-1]]\n",
    "sizes425"
   ]
  },
  {
   "cell_type": "code",
   "execution_count": 80,
   "metadata": {},
   "outputs": [
    {
     "data": {
      "text/plain": [
       "237"
      ]
     },
     "execution_count": 80,
     "metadata": {},
     "output_type": "execute_result"
    }
   ],
   "source": [
    "sum(sizes425)"
   ]
  },
  {
   "cell_type": "code",
   "execution_count": 93,
   "metadata": {},
   "outputs": [
    {
     "data": {
      "text/plain": [
       "18"
      ]
     },
     "execution_count": 93,
     "metadata": {},
     "output_type": "execute_result"
    }
   ],
   "source": [
    "92 // 5"
   ]
  },
  {
   "cell_type": "code",
   "execution_count": 12,
   "metadata": {},
   "outputs": [
    {
     "data": {
      "text/plain": [
       "2"
      ]
     },
     "execution_count": 12,
     "metadata": {},
     "output_type": "execute_result"
    }
   ],
   "source": [
    "92 % 5"
   ]
  },
  {
   "cell_type": "code",
   "execution_count": null,
   "metadata": {},
   "outputs": [],
   "source": []
  },
  {
   "cell_type": "code",
   "execution_count": 5,
   "metadata": {},
   "outputs": [],
   "source": [
    "r_size_orig = 92\n",
    "DEPTH = 5 # Each building can have a 'depth' of 5 from street to middle of block\n",
    "#Trim off any extra points from the size that wouldn't fit into a rectangle\n",
    "r_size = r_size_orig - (r_size_orig % DEPTH) \n",
    "r_points = []\n",
    "#Start at the bottom corner of the grid with 0,0\n",
    "x = 0\n",
    "y = 0\n",
    "#While there are points left to assign\n",
    "while r_size > 0:\n",
    "\n",
    "    if x > (r_size_orig // 5) + 1:\n",
    "        #Too far horizontally, shift up one row\n",
    "        x = 0\n",
    "        y += 1\n",
    "    if y > 4:\n",
    "        #Too far vertically, shift over one column\n",
    "        y = 0\n",
    "        x += 1\n",
    "    r_points.append((x,y))\n",
    "    #Move upward one point to continue\n",
    "    y += 1\n",
    "    #Remove one point from the size\n",
    "    r_size -= 1"
   ]
  },
  {
   "cell_type": "code",
   "execution_count": 10,
   "metadata": {},
   "outputs": [],
   "source": [
    "xes, yes = [r[0] for r in r_points], [r[1] for r in r_points]"
   ]
  },
  {
   "cell_type": "code",
   "execution_count": 11,
   "metadata": {},
   "outputs": [
    {
     "data": {
      "text/plain": [
       "<matplotlib.collections.PathCollection at 0x122062400>"
      ]
     },
     "execution_count": 11,
     "metadata": {},
     "output_type": "execute_result"
    },
    {
     "data": {
      "image/png": "[encoded data removed]",
      "text/plain": [
       "<Figure size 432x288 with 1 Axes>"
      ]
     },
     "metadata": {
      "needs_background": "light"
     },
     "output_type": "display_data"
    }
   ],
   "source": [
    "plt.scatter(xes, yes)"
   ]
  },
  {
   "cell_type": "code",
   "execution_count": null,
   "metadata": {},
   "outputs": [],
   "source": []
  },
  {
   "cell_type": "code",
   "execution_count": 83,
   "metadata": {},
   "outputs": [
    {
     "data": {
      "application/vnd.jupyter.widget-view+json": {
       "model_id": "63a92ace39314f57a4b710f02539cf7a",
       "version_major": 2,
       "version_minor": 0
      },
      "text/plain": [
       "HBox(children=(IntProgress(value=0, max=10), HTML(value='')))"
      ]
     },
     "metadata": {},
     "output_type": "display_data"
    },
    {
     "name": "stdout",
     "output_type": "stream",
     "text": [
      "Time step 0\n",
      "\n",
      "\n",
      "Updating object records\n",
      "Lots from last step\n",
      "Updating each lot's records\n",
      "Units from last step\n",
      "Updating each unit's records\n",
      "Developers from last step\n",
      "Households from last step (100000)\n",
      "Updating each household's records\n",
      "New households coming to town\n",
      "10000 households arrived\n",
      "[100000, 110000]\n",
      "Developers are building new residences on vacant lots\n",
      "appending new residences to master list\n",
      "appending new units to master list\n",
      "people moving in\n",
      "#Prepare units and households for moving.\n",
      "#Step 1: Get units available.\n",
      "#Step 2: Get households seeking unit.\n",
      "#Step 3: Exclude any units with value above the max spending power\n",
      "#Step 4: Exclude any households with spending power less than\n",
      "#Step 5: call the match function to move households into units.\n",
      "people moving out\n",
      "0\n",
      "Population at time step 0: 110000\n",
      "10001 lots on 1000000000 sqft of land\n",
      "2 developers\n",
      "19993 residences and 100654 units\n",
      "5666 households have housing and 104334 households are homeless.\n",
      "Time step 1\n",
      "\n",
      "\n",
      "Updating object records\n",
      "Lots from last step\n",
      "Updating each lot's records\n",
      "Units from last step\n",
      "Updating each unit's records\n",
      "Developers from last step\n",
      "Households from last step (110000)\n",
      "Updating each household's records\n",
      "New households coming to town\n",
      "10000 households arrived\n",
      "[100000, 110000, 120000]\n",
      "Developers are building new residences on vacant lots\n",
      "appending new residences to master list\n",
      "appending new units to master list\n",
      "people moving in\n",
      "#Prepare units and households for moving.\n",
      "#Step 1: Get units available.\n",
      "#Step 2: Get households seeking unit.\n",
      "#Step 3: Exclude any units with value above the max spending power\n",
      "#Step 4: Exclude any households with spending power less than\n",
      "#Step 5: call the match function to move households into units.\n",
      "people moving out\n",
      "0\n",
      "Population at time step 1: 120000\n",
      "10001 lots on 1000000000 sqft of land\n",
      "3 developers\n",
      "29908 residences and 147708 units\n",
      "14383 households have housing and 105617 households are homeless.\n",
      "Time step 2\n",
      "\n",
      "\n",
      "Updating object records\n",
      "Lots from last step\n",
      "Updating each lot's records\n",
      "Units from last step\n",
      "Updating each unit's records\n",
      "Developers from last step\n",
      "Households from last step (120000)\n",
      "Updating each household's records\n",
      "New households coming to town\n",
      "10000 households arrived\n",
      "[100000, 110000, 120000, 130000]\n",
      "Developers are building new residences on vacant lots\n",
      "appending new residences to master list\n",
      "appending new units to master list\n",
      "people moving in\n",
      "#Prepare units and households for moving.\n",
      "#Step 1: Get units available.\n",
      "#Step 2: Get households seeking unit.\n",
      "#Step 3: Exclude any units with value above the max spending power\n",
      "#Step 4: Exclude any households with spending power less than\n",
      "#Step 5: call the match function to move households into units.\n",
      "people moving out\n",
      "0\n",
      "Population at time step 2: 130000\n",
      "10001 lots on 1000000000 sqft of land\n",
      "4 developers\n",
      "39534 residences and 188981 units\n",
      "26933 households have housing and 103067 households are homeless.\n",
      "Time step 3\n",
      "\n",
      "\n",
      "Updating object records\n",
      "Lots from last step\n",
      "Updating each lot's records\n",
      "Units from last step\n",
      "Updating each unit's records\n",
      "Developers from last step\n",
      "Households from last step (130000)\n",
      "Updating each household's records\n",
      "New households coming to town\n",
      "10000 households arrived\n",
      "[100000, 110000, 120000, 130000, 140000]\n",
      "Developers are building new residences on vacant lots\n",
      "appending new residences to master list\n",
      "appending new units to master list\n",
      "people moving in\n",
      "#Prepare units and households for moving.\n",
      "#Step 1: Get units available.\n",
      "#Step 2: Get households seeking unit.\n",
      "#Step 3: Exclude any units with value above the max spending power\n",
      "#Step 4: Exclude any households with spending power less than\n",
      "#Step 5: call the match function to move households into units.\n",
      "people moving out\n",
      "0\n",
      "Population at time step 3: 140000\n",
      "10001 lots on 1000000000 sqft of land\n",
      "5 developers\n",
      "48450 residences and 223108 units\n",
      "42002 households have housing and 97998 households are homeless.\n",
      "Time step 4\n",
      "\n",
      "\n",
      "Updating object records\n",
      "Lots from last step\n",
      "Updating each lot's records\n",
      "Units from last step\n",
      "Updating each unit's records\n",
      "Developers from last step\n",
      "Households from last step (140000)\n",
      "Updating each household's records\n",
      "New households coming to town\n",
      "10000 households arrived\n",
      "[100000, 110000, 120000, 130000, 140000, 150000]\n",
      "Developers are building new residences on vacant lots\n",
      "appending new residences to master list\n",
      "appending new units to master list\n",
      "people moving in\n",
      "#Prepare units and households for moving.\n",
      "#Step 1: Get units available.\n",
      "#Step 2: Get households seeking unit.\n",
      "#Step 3: Exclude any units with value above the max spending power\n",
      "#Step 4: Exclude any households with spending power less than\n",
      "#Step 5: call the match function to move households into units.\n",
      "people moving out\n",
      "0\n",
      "Population at time step 4: 150000\n",
      "10001 lots on 1000000000 sqft of land\n",
      "6 developers\n",
      "56164 residences and 248711 units\n",
      "56369 households have housing and 93631 households are homeless.\n",
      "Time step 5\n",
      "\n",
      "\n",
      "Updating object records\n",
      "Lots from last step\n",
      "Updating each lot's records\n",
      "Units from last step\n",
      "Updating each unit's records\n",
      "Developers from last step\n",
      "Households from last step (150000)\n",
      "Updating each household's records\n",
      "New households coming to town\n",
      "10000 households arrived\n",
      "[100000, 110000, 120000, 130000, 140000, 150000, 160000]\n",
      "Developers are building new residences on vacant lots\n",
      "appending new residences to master list\n",
      "appending new units to master list\n",
      "people moving in\n",
      "#Prepare units and households for moving.\n",
      "#Step 1: Get units available.\n",
      "#Step 2: Get households seeking unit.\n",
      "#Step 3: Exclude any units with value above the max spending power\n",
      "#Step 4: Exclude any households with spending power less than\n",
      "#Step 5: call the match function to move households into units.\n",
      "people moving out\n",
      "0\n",
      "Population at time step 5: 160000\n",
      "10001 lots on 1000000000 sqft of land\n",
      "7 developers\n",
      "62310 residences and 266425 units\n",
      "68437 households have housing and 91563 households are homeless.\n",
      "Time step 6\n",
      "\n",
      "\n",
      "Updating object records\n",
      "Lots from last step\n",
      "Updating each lot's records\n",
      "Units from last step\n",
      "Updating each unit's records\n",
      "Developers from last step\n",
      "Households from last step (160000)\n",
      "Updating each household's records\n",
      "New households coming to town\n",
      "10000 households arrived\n",
      "[100000, 110000, 120000, 130000, 140000, 150000, 160000, 170000]\n",
      "Developers are building new residences on vacant lots\n",
      "appending new residences to master list\n",
      "appending new units to master list\n",
      "people moving in\n",
      "#Prepare units and households for moving.\n",
      "#Step 1: Get units available.\n",
      "#Step 2: Get households seeking unit.\n",
      "#Step 3: Exclude any units with value above the max spending power\n",
      "#Step 4: Exclude any households with spending power less than\n",
      "#Step 5: call the match function to move households into units.\n",
      "people moving out\n",
      "0\n",
      "Population at time step 6: 170000\n",
      "10001 lots on 1000000000 sqft of land\n",
      "8 developers\n",
      "66692 residences and 277366 units\n",
      "76951 households have housing and 93049 households are homeless.\n",
      "Time step 7\n",
      "\n",
      "\n",
      "Updating object records\n",
      "Lots from last step\n",
      "Updating each lot's records\n",
      "Units from last step\n",
      "Updating each unit's records\n",
      "Developers from last step\n",
      "Households from last step (170000)\n",
      "Updating each household's records\n",
      "New households coming to town\n",
      "10000 households arrived\n",
      "[100000, 110000, 120000, 130000, 140000, 150000, 160000, 170000, 180000]\n",
      "Developers are building new residences on vacant lots\n",
      "appending new residences to master list\n",
      "appending new units to master list\n",
      "people moving in\n",
      "#Prepare units and households for moving.\n",
      "#Step 1: Get units available.\n",
      "#Step 2: Get households seeking unit.\n",
      "#Step 3: Exclude any units with value above the max spending power\n",
      "#Step 4: Exclude any households with spending power less than\n",
      "#Step 5: call the match function to move households into units.\n",
      "people moving out\n",
      "0\n",
      "Population at time step 7: 180000\n",
      "10001 lots on 1000000000 sqft of land\n",
      "9 developers\n",
      "69496 residences and 283703 units\n",
      "82587 households have housing and 97413 households are homeless.\n",
      "Time step 8\n",
      "\n",
      "\n",
      "Updating object records\n",
      "Lots from last step\n",
      "Updating each lot's records\n",
      "Units from last step\n",
      "Updating each unit's records\n",
      "Developers from last step\n",
      "Households from last step (180000)\n",
      "Updating each household's records\n",
      "New households coming to town\n",
      "10000 households arrived\n",
      "[100000, 110000, 120000, 130000, 140000, 150000, 160000, 170000, 180000, 190000]\n",
      "Developers are building new residences on vacant lots\n",
      "appending new residences to master list\n",
      "appending new units to master list\n",
      "people moving in\n",
      "#Prepare units and households for moving.\n",
      "#Step 1: Get units available.\n"
     ]
    },
    {
     "name": "stdout",
     "output_type": "stream",
     "text": [
      "#Step 2: Get households seeking unit.\n",
      "#Step 3: Exclude any units with value above the max spending power\n",
      "#Step 4: Exclude any households with spending power less than\n",
      "#Step 5: call the match function to move households into units.\n",
      "people moving out\n",
      "0\n",
      "Population at time step 8: 190000\n",
      "10001 lots on 1000000000 sqft of land\n",
      "10 developers\n",
      "71151 residences and 286899 units\n",
      "85739 households have housing and 104261 households are homeless.\n",
      "Time step 9\n",
      "\n",
      "\n",
      "Updating object records\n",
      "Lots from last step\n",
      "Updating each lot's records\n",
      "Units from last step\n",
      "Updating each unit's records\n",
      "Developers from last step\n",
      "Households from last step (190000)\n",
      "Updating each household's records\n",
      "New households coming to town\n",
      "10000 households arrived\n",
      "[100000, 110000, 120000, 130000, 140000, 150000, 160000, 170000, 180000, 190000, 200000]\n",
      "Developers are building new residences on vacant lots\n",
      "appending new residences to master list\n",
      "appending new units to master list\n",
      "people moving in\n",
      "#Prepare units and households for moving.\n",
      "#Step 1: Get units available.\n",
      "#Step 2: Get households seeking unit.\n",
      "#Step 3: Exclude any units with value above the max spending power\n",
      "#Step 4: Exclude any households with spending power less than\n",
      "#Step 5: call the match function to move households into units.\n",
      "people moving out\n",
      "0\n",
      "Population at time step 9: 200000\n",
      "10001 lots on 1000000000 sqft of land\n",
      "11 developers\n",
      "71995 residences and 288487 units\n",
      "87642 households have housing and 112358 households are homeless.\n",
      "\n",
      "CPU times: user 15 s, sys: 278 ms, total: 15.3 s\n",
      "Wall time: 15.6 s\n"
     ]
    }
   ],
   "source": [
    "%%time\n",
    "sim.run()\n"
   ]
  },
  {
   "cell_type": "markdown",
   "metadata": {},
   "source": [
    "# SVG testing"
   ]
  },
  {
   "cell_type": "code",
   "execution_count": 20,
   "metadata": {},
   "outputs": [],
   "source": [
    "districts = sim.districts[-1]"
   ]
  },
  {
   "cell_type": "code",
   "execution_count": 24,
   "metadata": {},
   "outputs": [
    {
     "data": {
      "text/plain": [
       "[1, 1, 1, 1, 1, 2, 2, 4, 4, 16]"
      ]
     },
     "execution_count": 24,
     "metadata": {},
     "output_type": "execute_result"
    }
   ],
   "source": [
    "[d.zoned_as[-1] for d in districts]"
   ]
  },
  {
   "cell_type": "code",
   "execution_count": null,
   "metadata": {},
   "outputs": [],
   "source": [
    "#d.append(draw.Rectangle(0,0,40,50, fill = ))\n",
    "# d.append(draw.Lines(-80, -45,\n",
    "#                     70, -49,\n",
    "#                     95, 49,\n",
    "#                     -90, 40,\n",
    "#                     close=False,\n",
    "#             fill='#eeee00',\n",
    "#             stroke='black'))\n",
    "\n",
    " # Set number of pixels per geometry unit\n",
    "#d.setRenderSize(400,200)  # Alternative to setPixelScale\n",
    "#d.saveSvg('example.svg')\n",
    "#d.savePng('example.png')\n",
    "\n",
    "# Display in iPython notebook\n",
    "#d.rasterize()  # Display as PNG"
   ]
  },
  {
   "cell_type": "code",
   "execution_count": 7,
   "metadata": {},
   "outputs": [],
   "source": [
    "sizes = [92, 9, 17, 73, 45, 1]"
   ]
  },
  {
   "cell_type": "code",
   "execution_count": 63,
   "metadata": {},
   "outputs": [
    {
     "data": {
      "text/plain": [
       "[<__main__.Block at 0x122b8fdd8>,\n",
       " <__main__.Block at 0x122b8fc50>,\n",
       " <__main__.Block at 0x122b8fa90>,\n",
       " <__main__.Block at 0x122b8fb70>,\n",
       " <__main__.Block at 0x122b8fbe0>,\n",
       " <__main__.Block at 0x122b8fe10>,\n",
       " <__main__.Block at 0x122b8fa58>,\n",
       " <__main__.Block at 0x122b8fda0>,\n",
       " <__main__.Block at 0x122b8fb00>]"
      ]
     },
     "execution_count": 63,
     "metadata": {},
     "output_type": "execute_result"
    }
   ],
   "source": [
    "sim.blocks[-1][1:]"
   ]
  },
  {
   "cell_type": "code",
   "execution_count": 67,
   "metadata": {
    "scrolled": false
   },
   "outputs": [
    {
     "data": {
      "image/svg+xml": [
       "<?xml version=\"1.0\" encoding=\"UTF-8\"?>\n",
       "<svg xmlns=\"http://www.w3.org/2000/svg\" xmlns:xlink=\"http://www.w3.org/1999/xlink\"\n",
       "     width=\"1000\" height=\"1000\" viewBox=\"0 -200 200 200\">\n",
       "<defs>\n",
       "</defs>\n",
       "<path d=\"M0,0 L0,-10 L24,-10 L24,0 Z\" fill=\"white\" stroke=\"black\" stroke-width=\"0.1\" id=\"block\" />\n",
       "<use xlink:href=\"#block\" x=\"25\" y=\"0\" />\n",
       "<use xlink:href=\"#block\" x=\"50\" y=\"0\" />\n",
       "<use xlink:href=\"#block\" x=\"75\" y=\"0\" />\n",
       "<use xlink:href=\"#block\" x=\"100\" y=\"0\" />\n",
       "<use xlink:href=\"#block\" x=\"125\" y=\"0\" />\n",
       "<use xlink:href=\"#block\" x=\"150\" y=\"0\" />\n",
       "<use xlink:href=\"#block\" x=\"175\" y=\"0\" />\n",
       "<use xlink:href=\"#block\" x=\"0\" y=\"-11\" />\n",
       "<use xlink:href=\"#block\" x=\"25\" y=\"-11\" />\n",
       "<use xlink:href=\"#block\" x=\"50\" y=\"-11\" />\n",
       "<use xlink:href=\"#block\" x=\"75\" y=\"-11\" />\n",
       "<use xlink:href=\"#block\" x=\"100\" y=\"-11\" />\n",
       "<use xlink:href=\"#block\" x=\"125\" y=\"-11\" />\n",
       "<use xlink:href=\"#block\" x=\"150\" y=\"-11\" />\n",
       "<use xlink:href=\"#block\" x=\"175\" y=\"-11\" />\n",
       "<use xlink:href=\"#block\" x=\"0\" y=\"-22\" />\n",
       "<use xlink:href=\"#block\" x=\"25\" y=\"-22\" />\n",
       "<use xlink:href=\"#block\" x=\"50\" y=\"-22\" />\n",
       "<use xlink:href=\"#block\" x=\"75\" y=\"-22\" />\n",
       "<use xlink:href=\"#block\" x=\"100\" y=\"-22\" />\n",
       "<use xlink:href=\"#block\" x=\"125\" y=\"-22\" />\n",
       "<use xlink:href=\"#block\" x=\"150\" y=\"-22\" />\n",
       "<use xlink:href=\"#block\" x=\"175\" y=\"-22\" />\n",
       "<use xlink:href=\"#block\" x=\"0\" y=\"-33\" />\n",
       "<use xlink:href=\"#block\" x=\"25\" y=\"-33\" />\n",
       "<use xlink:href=\"#block\" x=\"50\" y=\"-33\" />\n",
       "<use xlink:href=\"#block\" x=\"75\" y=\"-33\" />\n",
       "<use xlink:href=\"#block\" x=\"100\" y=\"-33\" />\n",
       "<use xlink:href=\"#block\" x=\"125\" y=\"-33\" />\n",
       "<use xlink:href=\"#block\" x=\"150\" y=\"-33\" />\n",
       "<use xlink:href=\"#block\" x=\"175\" y=\"-33\" />\n",
       "<use xlink:href=\"#block\" x=\"0\" y=\"-44\" />\n",
       "<use xlink:href=\"#block\" x=\"25\" y=\"-44\" />\n",
       "<use xlink:href=\"#block\" x=\"50\" y=\"-44\" />\n",
       "<use xlink:href=\"#block\" x=\"75\" y=\"-44\" />\n",
       "<use xlink:href=\"#block\" x=\"100\" y=\"-44\" />\n",
       "<use xlink:href=\"#block\" x=\"125\" y=\"-44\" />\n",
       "<use xlink:href=\"#block\" x=\"150\" y=\"-44\" />\n",
       "<use xlink:href=\"#block\" x=\"175\" y=\"-44\" />\n",
       "<use xlink:href=\"#block\" x=\"0\" y=\"-55\" />\n",
       "<use xlink:href=\"#block\" x=\"25\" y=\"-55\" />\n",
       "<use xlink:href=\"#block\" x=\"50\" y=\"-55\" />\n",
       "<use xlink:href=\"#block\" x=\"75\" y=\"-55\" />\n",
       "<use xlink:href=\"#block\" x=\"100\" y=\"-55\" />\n",
       "<use xlink:href=\"#block\" x=\"125\" y=\"-55\" />\n",
       "<use xlink:href=\"#block\" x=\"150\" y=\"-55\" />\n",
       "<use xlink:href=\"#block\" x=\"175\" y=\"-55\" />\n",
       "<use xlink:href=\"#block\" x=\"0\" y=\"-66\" />\n",
       "<use xlink:href=\"#block\" x=\"25\" y=\"-66\" />\n",
       "<use xlink:href=\"#block\" x=\"50\" y=\"-66\" />\n",
       "<use xlink:href=\"#block\" x=\"75\" y=\"-66\" />\n",
       "<use xlink:href=\"#block\" x=\"100\" y=\"-66\" />\n",
       "<use xlink:href=\"#block\" x=\"125\" y=\"-66\" />\n",
       "<use xlink:href=\"#block\" x=\"150\" y=\"-66\" />\n",
       "<use xlink:href=\"#block\" x=\"175\" y=\"-66\" />\n",
       "<use xlink:href=\"#block\" x=\"0\" y=\"-77\" />\n",
       "<use xlink:href=\"#block\" x=\"25\" y=\"-77\" />\n",
       "<use xlink:href=\"#block\" x=\"50\" y=\"-77\" />\n",
       "<use xlink:href=\"#block\" x=\"75\" y=\"-77\" />\n",
       "<use xlink:href=\"#block\" x=\"100\" y=\"-77\" />\n",
       "<use xlink:href=\"#block\" x=\"125\" y=\"-77\" />\n",
       "<use xlink:href=\"#block\" x=\"150\" y=\"-77\" />\n",
       "<use xlink:href=\"#block\" x=\"175\" y=\"-77\" />\n",
       "<use xlink:href=\"#block\" x=\"0\" y=\"-88\" />\n",
       "<use xlink:href=\"#block\" x=\"25\" y=\"-88\" />\n",
       "<use xlink:href=\"#block\" x=\"50\" y=\"-88\" />\n",
       "<use xlink:href=\"#block\" x=\"75\" y=\"-88\" />\n",
       "<use xlink:href=\"#block\" x=\"100\" y=\"-88\" />\n",
       "<use xlink:href=\"#block\" x=\"125\" y=\"-88\" />\n",
       "<use xlink:href=\"#block\" x=\"150\" y=\"-88\" />\n",
       "<use xlink:href=\"#block\" x=\"175\" y=\"-88\" />\n",
       "<use xlink:href=\"#block\" x=\"0\" y=\"-99\" />\n",
       "<use xlink:href=\"#block\" x=\"25\" y=\"-99\" />\n",
       "<use xlink:href=\"#block\" x=\"50\" y=\"-99\" />\n",
       "<use xlink:href=\"#block\" x=\"75\" y=\"-99\" />\n",
       "<use xlink:href=\"#block\" x=\"100\" y=\"-99\" />\n",
       "<use xlink:href=\"#block\" x=\"125\" y=\"-99\" />\n",
       "<use xlink:href=\"#block\" x=\"150\" y=\"-99\" />\n",
       "<use xlink:href=\"#block\" x=\"175\" y=\"-99\" />\n",
       "<use xlink:href=\"#block\" x=\"0\" y=\"-110\" />\n",
       "<use xlink:href=\"#block\" x=\"25\" y=\"-110\" />\n",
       "<use xlink:href=\"#block\" x=\"50\" y=\"-110\" />\n",
       "<use xlink:href=\"#block\" x=\"75\" y=\"-110\" />\n",
       "<use xlink:href=\"#block\" x=\"100\" y=\"-110\" />\n",
       "<use xlink:href=\"#block\" x=\"125\" y=\"-110\" />\n",
       "<use xlink:href=\"#block\" x=\"150\" y=\"-110\" />\n",
       "<use xlink:href=\"#block\" x=\"175\" y=\"-110\" />\n",
       "<use xlink:href=\"#block\" x=\"0\" y=\"-121\" />\n",
       "<use xlink:href=\"#block\" x=\"25\" y=\"-121\" />\n",
       "<use xlink:href=\"#block\" x=\"50\" y=\"-121\" />\n",
       "<use xlink:href=\"#block\" x=\"75\" y=\"-121\" />\n",
       "<use xlink:href=\"#block\" x=\"100\" y=\"-121\" />\n",
       "<use xlink:href=\"#block\" x=\"125\" y=\"-121\" />\n",
       "<use xlink:href=\"#block\" x=\"150\" y=\"-121\" />\n",
       "<use xlink:href=\"#block\" x=\"175\" y=\"-121\" />\n",
       "<use xlink:href=\"#block\" x=\"0\" y=\"-132\" />\n",
       "<use xlink:href=\"#block\" x=\"25\" y=\"-132\" />\n",
       "<use xlink:href=\"#block\" x=\"50\" y=\"-132\" />\n",
       "<use xlink:href=\"#block\" x=\"75\" y=\"-132\" />\n",
       "<use xlink:href=\"#block\" x=\"100\" y=\"-132\" />\n",
       "</svg>"
      ],
      "text/plain": [
       "<drawSvg.drawing.Drawing at 0x122cfc048>"
      ]
     },
     "execution_count": 67,
     "metadata": {},
     "output_type": "execute_result"
    }
   ],
   "source": [
    "drawing = draw.Drawing(200, 200, origin = (0,0))\n",
    "\n",
    "block = draw.Lines((0), (0),\n",
    "                  (0), (0 + 10),\n",
    "                  (0 + 24), (0 + 10),\n",
    "                  (0 + 24), (0),\n",
    "                  fill = 'white',\n",
    "                  close = True,\n",
    "                  stroke = 'black',\n",
    "                  stroke_width = '0.1',\n",
    "                  id = 'block')\n",
    "x = 25\n",
    "y = 0\n",
    "column = 1\n",
    "\n",
    "#Draw first block from which to copy the others\n",
    "drawing.append(block)\n",
    "#Start at index 1 not index 0\n",
    "for b in range(100):\n",
    "    #Reset for new row above previous\n",
    "    if column > 7:\n",
    "        column = 0\n",
    "        x = 0\n",
    "        y += 11\n",
    "    drawing.append(draw.Use('block', x, y))\n",
    "    x += 25\n",
    "    column += 1\n",
    "\n",
    "drawing.setPixelScale(5) "
   ]
  },
  {
   "cell_type": "code",
   "execution_count": null,
   "metadata": {},
   "outputs": [],
   "source": []
  },
  {
   "cell_type": "code",
   "execution_count": null,
   "metadata": {},
   "outputs": [],
   "source": []
  },
  {
   "cell_type": "code",
   "execution_count": null,
   "metadata": {},
   "outputs": [],
   "source": []
  },
  {
   "cell_type": "code",
   "execution_count": null,
   "metadata": {},
   "outputs": [],
   "source": []
  },
  {
   "cell_type": "code",
   "execution_count": null,
   "metadata": {},
   "outputs": [],
   "source": []
  },
  {
   "cell_type": "code",
   "execution_count": null,
   "metadata": {},
   "outputs": [],
   "source": []
  },
  {
   "cell_type": "code",
   "execution_count": 8,
   "metadata": {},
   "outputs": [],
   "source": [
    "rectangular_sizes = [s - (s%5) for s in sizes]"
   ]
  },
  {
   "cell_type": "code",
   "execution_count": 9,
   "metadata": {},
   "outputs": [
    {
     "data": {
      "text/plain": [
       "[90, 5, 15, 70, 45, 0]"
      ]
     },
     "execution_count": 9,
     "metadata": {},
     "output_type": "execute_result"
    }
   ],
   "source": [
    "rectangular_sizes"
   ]
  },
  {
   "cell_type": "code",
   "execution_count": 10,
   "metadata": {},
   "outputs": [
    {
     "data": {
      "text/plain": [
       "[18.0, 1.0, 3.0, 14.0, 9.0, 0.0]"
      ]
     },
     "execution_count": 10,
     "metadata": {},
     "output_type": "execute_result"
    }
   ],
   "source": [
    "widths = [r / 5 for r in rectangular_sizes]\n",
    "widths"
   ]
  },
  {
   "cell_type": "code",
   "execution_count": 11,
   "metadata": {},
   "outputs": [],
   "source": [
    "rectangular_sizes[-1] = 1"
   ]
  },
  {
   "cell_type": "code",
   "execution_count": 12,
   "metadata": {},
   "outputs": [],
   "source": [
    "widths[-1] = 1"
   ]
  },
  {
   "cell_type": "code",
   "execution_count": 13,
   "metadata": {},
   "outputs": [
    {
     "data": {
      "text/plain": [
       "([90, 5, 15, 70, 45, 1], [18.0, 1.0, 3.0, 14.0, 9.0, 1])"
      ]
     },
     "execution_count": 13,
     "metadata": {},
     "output_type": "execute_result"
    }
   ],
   "source": [
    "rectangular_sizes, widths"
   ]
  },
  {
   "cell_type": "code",
   "execution_count": 14,
   "metadata": {
    "scrolled": true
   },
   "outputs": [],
   "source": [
    "x_start = [0]\n",
    "x_start.extend([sum(widths[:i]) for i in range(1, len(widths))])"
   ]
  },
  {
   "cell_type": "code",
   "execution_count": 15,
   "metadata": {},
   "outputs": [
    {
     "data": {
      "text/plain": [
       "[0, 18.0, 19.0, 22.0, 36.0, 45.0]"
      ]
     },
     "execution_count": 15,
     "metadata": {},
     "output_type": "execute_result"
    }
   ],
   "source": [
    "x_start"
   ]
  },
  {
   "cell_type": "code",
   "execution_count": 16,
   "metadata": {},
   "outputs": [
    {
     "data": {
      "text/plain": [
       "22.0"
      ]
     },
     "execution_count": 16,
     "metadata": {},
     "output_type": "execute_result"
    }
   ],
   "source": [
    "sum(widths[:3])"
   ]
  },
  {
   "cell_type": "code",
   "execution_count": 19,
   "metadata": {},
   "outputs": [
    {
     "data": {
      "image/svg+xml": [
       "<?xml version=\"1.0\" encoding=\"UTF-8\"?>\n",
       "<svg xmlns=\"http://www.w3.org/2000/svg\" xmlns:xlink=\"http://www.w3.org/1999/xlink\"\n",
       "     width=\"500\" height=\"500\" viewBox=\"0 -100 100 100\">\n",
       "<defs>\n",
       "</defs>\n",
       "<rect x=\"0\" y=\"-5\" width=\"18.0\" height=\"5\" fill=\"black\" />\n",
       "<rect x=\"18.0\" y=\"-5\" width=\"1.0\" height=\"5\" fill=\"blue\" />\n",
       "<rect x=\"19.0\" y=\"-5\" width=\"3.0\" height=\"5\" fill=\"black\" />\n",
       "<rect x=\"22.0\" y=\"-5\" width=\"14.0\" height=\"5\" fill=\"brown\" />\n",
       "<rect x=\"36.0\" y=\"-5\" width=\"9.0\" height=\"5\" fill=\"purple\" />\n",
       "<rect x=\"45.0\" y=\"-5\" width=\"1\" height=\"5\" fill=\"orange\" />\n",
       "</svg>"
      ],
      "text/plain": [
       "<drawSvg.drawing.Drawing at 0x124f67400>"
      ]
     },
     "execution_count": 19,
     "metadata": {},
     "output_type": "execute_result"
    }
   ],
   "source": [
    "colors = ['red', 'orange', 'yellow', 'green', 'blue', 'purple', 'gray', 'brown', 'black']\n",
    "d = draw.Drawing(100, 100, origin = (0,0))\n",
    "\n",
    "for x, w in zip (x_start, widths):\n",
    "    d.append(draw.Rectangle(x,0,w,5, fill = np.random.choice(colors, replace = False)))\n",
    "d.setPixelScale(5) "
   ]
  },
  {
   "cell_type": "code",
   "execution_count": null,
   "metadata": {},
   "outputs": [],
   "source": []
  },
  {
   "cell_type": "code",
   "execution_count": null,
   "metadata": {},
   "outputs": [],
   "source": []
  },
  {
   "cell_type": "code",
   "execution_count": null,
   "metadata": {},
   "outputs": [],
   "source": []
  },
  {
   "cell_type": "code",
   "execution_count": null,
   "metadata": {},
   "outputs": [],
   "source": []
  },
  {
   "cell_type": "code",
   "execution_count": null,
   "metadata": {},
   "outputs": [],
   "source": []
  },
  {
   "cell_type": "markdown",
   "metadata": {},
   "source": [
    "# History Object\n",
    "Make a history object?\n",
    "Returns pandas series or dataframes?\n",
    "hist.pop_growth(by = district)\n",
    "hist.pop_density(by = district, for = 9\n",
    "hist.homelessness()\n",
    "hist.property_values(by = lot)\n",
    "hist.avg_incomes()\n",
    "hist.construction()\n",
    "\n",
    "\n"
   ]
  },
  {
   "cell_type": "code",
   "execution_count": 13,
   "metadata": {},
   "outputs": [],
   "source": [
    "class History(object):\n",
    "    def __init__(self, simulation):\n",
    "        '''\n",
    "        #More info on 'negative indices':\n",
    "        #Households have 'has' lists of different lengths depending when they entered the sim.\n",
    "        #Negative index allows loop to get the relevant value from a has list for each year.\n",
    "        #.e.g. Year -11, year 0 out of 10, gets the -11th, or the first, value from a has list.\n",
    "        #Year -1, year 10 out of 10, gets the -1th, or last, value from a has list. &c.\n",
    "        '''\n",
    "        self.sim = simulation\n",
    "        \n",
    "        #BY YEAR:\n",
    "        l_range = np.flip(np.negative(np.arange(len(sim.blocks))) - 1)\n",
    "        #Available land area\n",
    "        l_avail = [sum([(b.size - sum([r.size for r in b.residences[i]])) \\\n",
    "                     for b in sim.blocks[i]]) for i in l_range]\n",
    "        \n",
    "        #Number of residences\n",
    "        r_count = [len(r_list) for r_list in sim.residences]\n",
    "        #Average residence size\n",
    "        r_size_mean = [(sum([r.size for r in r_list]) / len(r_list)) for r_list in sim.residences]\n",
    "        \n",
    "        \n",
    "        #Number of units\n",
    "        u_count = [len(u_list) for u_list in sim.units]\n",
    "        #Average unit size\n",
    "        u_size_mean = [(sum([u.size for u in u_list]) / len(u_list)) for u_list in sim.units]\n",
    "        #Negative indices to call on lists of varying lengths\n",
    "        u_range = np.flip(np.negative(np.arange(len(sim.units))) - 1)\n",
    "        #u_range does not go into dataframe\n",
    "        #Average unit value\n",
    "        u_value_mean = [(sum([u.value[i] for u in sim.units[i]]) / len(sim.units[i])) for i in u_range]\n",
    "        \n",
    "        h_count = [len(h_list) for h_list in sim.households]\n",
    "        #hh_range is negative indices by which to call items from has list in each household.\n",
    "        \n",
    "        hh_range = np.flip(np.negative(np.arange(len(sim.households))) - 1)\n",
    "        #hh_range is not included in the dataframe\n",
    "        #Only households who were housed at the end of each year\n",
    "        h_housed = [sum([1 for h in sim.households[i] if h.housed[i]]) for i in hh_range]\n",
    "        #Only households who were unhoused at the end of each year\n",
    "        h_unhoused = [sum([1 for h in sim.households[i] if not h.housed[i]]) for i in hh_range]\n",
    "        #Average income of household by year\n",
    "        h_has_mean = [sum([h.has[i] for h in sim.households[i]])\\\n",
    "                             / len(sim.households[i]) for i in hh_range]\n",
    "        #Average time household spent living in sim by year\n",
    "        #(i.e. average 'age' of household by year)\n",
    "        h_age_mean = [sum([len(h.has[:i]) for h in sim.households[i]]\\\n",
    "                                ) / len(sim.households[i]) for i in hh_range]\n",
    "        \n",
    "        data = np.array([l_avail,\n",
    "                         r_count, r_size_mean,\n",
    "                         u_count, u_size_mean, u_value_mean,\n",
    "                         h_count, h_housed, h_unhoused, h_has_mean, h_age_mean\n",
    "                        ]).T\n",
    "        columns = ['empty_land',\n",
    "                    'r_count', 'r_size_mean',\n",
    "                   'u_count', 'u_size_mean', 'u_value_mean', \n",
    "                   'h_count', 'h_housed', 'h_unhoused', 'h_income_mean', 'h_age_mean']\n",
    "        \n",
    "        \n",
    "        self.all_by_year = pd.DataFrame(data = data, columns = columns).rename_axis('Year')"
   ]
  },
  {
   "cell_type": "code",
   "execution_count": 14,
   "metadata": {},
   "outputs": [
    {
     "name": "stdout",
     "output_type": "stream",
     "text": [
      "CPU times: user 15.2 s, sys: 253 ms, total: 15.4 s\n",
      "Wall time: 15.5 s\n"
     ]
    }
   ],
   "source": [
    "%%time\n",
    "hist = History(sim)\n"
   ]
  },
  {
   "cell_type": "code",
   "execution_count": 8,
   "metadata": {
    "collapsed": true
   },
   "outputs": [
    {
     "data": {
      "text/html": [
       "<div>\n",
       "<style scoped>\n",
       "    .dataframe tbody tr th:only-of-type {\n",
       "        vertical-align: middle;\n",
       "    }\n",
       "\n",
       "    .dataframe tbody tr th {\n",
       "        vertical-align: top;\n",
       "    }\n",
       "\n",
       "    .dataframe thead th {\n",
       "        text-align: right;\n",
       "    }\n",
       "</style>\n",
       "<table border=\"1\" class=\"dataframe\">\n",
       "  <thead>\n",
       "    <tr style=\"text-align: right;\">\n",
       "      <th></th>\n",
       "      <th>empty_land</th>\n",
       "      <th>num_residences</th>\n",
       "      <th>r_size_mean</th>\n",
       "      <th>num_units</th>\n",
       "      <th>u_size_mean</th>\n",
       "      <th>u_value_mean</th>\n",
       "      <th>num_households</th>\n",
       "      <th>h_housed</th>\n",
       "      <th>h_unhoused</th>\n",
       "      <th>h_income_mean</th>\n",
       "      <th>h_age_mean</th>\n",
       "    </tr>\n",
       "    <tr>\n",
       "      <th>Year</th>\n",
       "      <th></th>\n",
       "      <th></th>\n",
       "      <th></th>\n",
       "      <th></th>\n",
       "      <th></th>\n",
       "      <th></th>\n",
       "      <th></th>\n",
       "      <th></th>\n",
       "      <th></th>\n",
       "      <th></th>\n",
       "      <th></th>\n",
       "    </tr>\n",
       "  </thead>\n",
       "  <tbody>\n",
       "    <tr>\n",
       "      <th>0</th>\n",
       "      <td>490277331.0</td>\n",
       "      <td>200278.0</td>\n",
       "      <td>2545.071481</td>\n",
       "      <td>940532.0</td>\n",
       "      <td>530.083530</td>\n",
       "      <td>5300.835296</td>\n",
       "      <td>100000.0</td>\n",
       "      <td>83934.0</td>\n",
       "      <td>16066.0</td>\n",
       "      <td>1496.941822</td>\n",
       "      <td>0.000000</td>\n",
       "    </tr>\n",
       "    <tr>\n",
       "      <th>1</th>\n",
       "      <td>236171293.0</td>\n",
       "      <td>396414.0</td>\n",
       "      <td>1926.843815</td>\n",
       "      <td>1695619.0</td>\n",
       "      <td>439.814417</td>\n",
       "      <td>4398.144168</td>\n",
       "      <td>110000.0</td>\n",
       "      <td>92309.0</td>\n",
       "      <td>17691.0</td>\n",
       "      <td>1497.041025</td>\n",
       "      <td>0.909091</td>\n",
       "    </tr>\n",
       "    <tr>\n",
       "      <th>2</th>\n",
       "      <td>109778242.0</td>\n",
       "      <td>572733.0</td>\n",
       "      <td>1554.338435</td>\n",
       "      <td>2218225.0</td>\n",
       "      <td>390.914008</td>\n",
       "      <td>3909.140083</td>\n",
       "      <td>120000.0</td>\n",
       "      <td>100655.0</td>\n",
       "      <td>19345.0</td>\n",
       "      <td>1496.605339</td>\n",
       "      <td>1.750000</td>\n",
       "    </tr>\n",
       "    <tr>\n",
       "      <th>3</th>\n",
       "      <td>49617384.0</td>\n",
       "      <td>707486.0</td>\n",
       "      <td>1343.322374</td>\n",
       "      <td>2526725.0</td>\n",
       "      <td>365.597872</td>\n",
       "      <td>3655.978723</td>\n",
       "      <td>130000.0</td>\n",
       "      <td>109044.0</td>\n",
       "      <td>20956.0</td>\n",
       "      <td>1496.343235</td>\n",
       "      <td>2.538462</td>\n",
       "    </tr>\n",
       "    <tr>\n",
       "      <th>4</th>\n",
       "      <td>23082398.0</td>\n",
       "      <td>791562.0</td>\n",
       "      <td>1234.163286</td>\n",
       "      <td>2683978.0</td>\n",
       "      <td>353.280392</td>\n",
       "      <td>3532.803920</td>\n",
       "      <td>140000.0</td>\n",
       "      <td>117486.0</td>\n",
       "      <td>22514.0</td>\n",
       "      <td>1496.611621</td>\n",
       "      <td>3.285714</td>\n",
       "    </tr>\n",
       "    <tr>\n",
       "      <th>5</th>\n",
       "      <td>12604588.0</td>\n",
       "      <td>833546.0</td>\n",
       "      <td>1184.571180</td>\n",
       "      <td>2751275.0</td>\n",
       "      <td>348.078890</td>\n",
       "      <td>3480.788904</td>\n",
       "      <td>150000.0</td>\n",
       "      <td>125878.0</td>\n",
       "      <td>24122.0</td>\n",
       "      <td>1497.006561</td>\n",
       "      <td>4.000000</td>\n",
       "    </tr>\n",
       "    <tr>\n",
       "      <th>6</th>\n",
       "      <td>9078864.0</td>\n",
       "      <td>850357.0</td>\n",
       "      <td>1165.299154</td>\n",
       "      <td>2775344.0</td>\n",
       "      <td>346.190379</td>\n",
       "      <td>3461.903785</td>\n",
       "      <td>160000.0</td>\n",
       "      <td>134250.0</td>\n",
       "      <td>25750.0</td>\n",
       "      <td>1496.430751</td>\n",
       "      <td>4.687500</td>\n",
       "    </tr>\n",
       "    <tr>\n",
       "      <th>7</th>\n",
       "      <td>8079243.0</td>\n",
       "      <td>855656.0</td>\n",
       "      <td>1159.250813</td>\n",
       "      <td>2782284.0</td>\n",
       "      <td>345.644589</td>\n",
       "      <td>3456.445891</td>\n",
       "      <td>170000.0</td>\n",
       "      <td>142643.0</td>\n",
       "      <td>27357.0</td>\n",
       "      <td>1496.593091</td>\n",
       "      <td>5.352941</td>\n",
       "    </tr>\n",
       "    <tr>\n",
       "      <th>8</th>\n",
       "      <td>7839669.0</td>\n",
       "      <td>857060.0</td>\n",
       "      <td>1157.631307</td>\n",
       "      <td>2784031.0</td>\n",
       "      <td>345.502725</td>\n",
       "      <td>3455.027252</td>\n",
       "      <td>180000.0</td>\n",
       "      <td>151011.0</td>\n",
       "      <td>28989.0</td>\n",
       "      <td>1496.553050</td>\n",
       "      <td>6.000000</td>\n",
       "    </tr>\n",
       "    <tr>\n",
       "      <th>9</th>\n",
       "      <td>7790721.0</td>\n",
       "      <td>857371.0</td>\n",
       "      <td>1157.268482</td>\n",
       "      <td>2784386.0</td>\n",
       "      <td>345.474116</td>\n",
       "      <td>3454.741162</td>\n",
       "      <td>190000.0</td>\n",
       "      <td>159387.0</td>\n",
       "      <td>30613.0</td>\n",
       "      <td>1496.370462</td>\n",
       "      <td>6.631579</td>\n",
       "    </tr>\n",
       "    <tr>\n",
       "      <th>10</th>\n",
       "      <td>7781636.0</td>\n",
       "      <td>857431.0</td>\n",
       "      <td>1157.198096</td>\n",
       "      <td>2784452.0</td>\n",
       "      <td>345.468778</td>\n",
       "      <td>3454.687782</td>\n",
       "      <td>200000.0</td>\n",
       "      <td>167802.0</td>\n",
       "      <td>32198.0</td>\n",
       "      <td>1496.195966</td>\n",
       "      <td>7.250000</td>\n",
       "    </tr>\n",
       "  </tbody>\n",
       "</table>\n",
       "</div>"
      ],
      "text/plain": [
       "       empty_land  num_residences  r_size_mean  num_units  u_size_mean  \\\n",
       "Year                                                                     \n",
       "0     490277331.0        200278.0  2545.071481   940532.0   530.083530   \n",
       "1     236171293.0        396414.0  1926.843815  1695619.0   439.814417   \n",
       "2     109778242.0        572733.0  1554.338435  2218225.0   390.914008   \n",
       "3      49617384.0        707486.0  1343.322374  2526725.0   365.597872   \n",
       "4      23082398.0        791562.0  1234.163286  2683978.0   353.280392   \n",
       "5      12604588.0        833546.0  1184.571180  2751275.0   348.078890   \n",
       "6       9078864.0        850357.0  1165.299154  2775344.0   346.190379   \n",
       "7       8079243.0        855656.0  1159.250813  2782284.0   345.644589   \n",
       "8       7839669.0        857060.0  1157.631307  2784031.0   345.502725   \n",
       "9       7790721.0        857371.0  1157.268482  2784386.0   345.474116   \n",
       "10      7781636.0        857431.0  1157.198096  2784452.0   345.468778   \n",
       "\n",
       "      u_value_mean  num_households  h_housed  h_unhoused  h_income_mean  \\\n",
       "Year                                                                      \n",
       "0      5300.835296        100000.0   83934.0     16066.0    1496.941822   \n",
       "1      4398.144168        110000.0   92309.0     17691.0    1497.041025   \n",
       "2      3909.140083        120000.0  100655.0     19345.0    1496.605339   \n",
       "3      3655.978723        130000.0  109044.0     20956.0    1496.343235   \n",
       "4      3532.803920        140000.0  117486.0     22514.0    1496.611621   \n",
       "5      3480.788904        150000.0  125878.0     24122.0    1497.006561   \n",
       "6      3461.903785        160000.0  134250.0     25750.0    1496.430751   \n",
       "7      3456.445891        170000.0  142643.0     27357.0    1496.593091   \n",
       "8      3455.027252        180000.0  151011.0     28989.0    1496.553050   \n",
       "9      3454.741162        190000.0  159387.0     30613.0    1496.370462   \n",
       "10     3454.687782        200000.0  167802.0     32198.0    1496.195966   \n",
       "\n",
       "      h_age_mean  \n",
       "Year              \n",
       "0       0.000000  \n",
       "1       0.909091  \n",
       "2       1.750000  \n",
       "3       2.538462  \n",
       "4       3.285714  \n",
       "5       4.000000  \n",
       "6       4.687500  \n",
       "7       5.352941  \n",
       "8       6.000000  \n",
       "9       6.631579  \n",
       "10      7.250000  "
      ]
     },
     "execution_count": 8,
     "metadata": {},
     "output_type": "execute_result"
    }
   ],
   "source": [
    "hist.all_by_year\n"
   ]
  },
  {
   "cell_type": "code",
   "execution_count": 9,
   "metadata": {},
   "outputs": [
    {
     "data": {
      "image/png": "[encoded data removed]",
      "text/plain": [
       "<Figure size 864x576 with 1 Axes>"
      ]
     },
     "metadata": {
      "needs_background": "light"
     },
     "output_type": "display_data"
    }
   ],
   "source": [
    "#Look at numbers of buildings and people by year\n",
    "fig = plt.figure(figsize = (12, 8))\n",
    "#plt.plot(hist.all_by_year['empty_land'], label = 'Land free for building')\n",
    "plt.plot(hist.all_by_year['r_count'], label = 'Number of residences')\n",
    "plt.plot(hist.all_by_year['y_count'], label = 'Number of units')\n",
    "plt.plot(hist.all_by_year['h_count'], label = 'Number of households')\n",
    "plt.plot(hist.all_by_year['h_housed'], label = 'Households, housed')\n",
    "plt.plot(hist.all_by_year['h_unhoused'], label = 'Households, unhoused')\n",
    "plt.xlabel('Year')\n",
    "plt.legend()\n",
    "plt.show()\n"
   ]
  },
  {
   "cell_type": "code",
   "execution_count": 10,
   "metadata": {},
   "outputs": [
    {
     "data": {
      "image/png": "[encoded data removed]",
      "text/plain": [
       "<Figure size 864x576 with 1 Axes>"
      ]
     },
     "metadata": {
      "needs_background": "light"
     },
     "output_type": "display_data"
    }
   ],
   "source": [
    "#Look at numbers of buildings and people by year\n",
    "fig = plt.figure(figsize = (12, 8))\n",
    "plt.plot(hist.all_by_year['empty_land'], label = 'Land free for building')\n",
    "#plt.plot(hist.all_by_year['r_count'], label = 'Number of residences')\n",
    "\n",
    "plt.xlabel('Year')\n",
    "plt.legend()\n",
    "plt.show()"
   ]
  },
  {
   "cell_type": "code",
   "execution_count": 11,
   "metadata": {},
   "outputs": [
    {
     "data": {
      "image/png": "[encoded data removed]",
      "text/plain": [
       "<Figure size 864x576 with 1 Axes>"
      ]
     },
     "metadata": {
      "needs_background": "light"
     },
     "output_type": "display_data"
    }
   ],
   "source": [
    "#Look at numbers of buildings and people by year\n",
    "fig = plt.figure(figsize = (12, 8))\n",
    "#plt.plot(hist.all_by_year['empty_land'], label = 'Land free for building')\n",
    "plt.plot(hist.all_by_year['u_value_mean'], '+', label = 'Mean unit value')\n",
    "plt.plot(hist.all_by_year['h_income_mean'], '+', label = 'Mean household spending power')\n",
    "plt.plot(hist.all_by_year['h_count'], label = 'Number of households')\n",
    "plt.plot(hist.all_by_year['h_housed'], label = 'Households, housed')\n",
    "plt.plot(hist.all_by_year['h_unhoused'], label = 'Households, unhoused')\n",
    "\n",
    "plt.xlabel('Year')\n",
    "plt.legend()\n",
    "plt.show()\n",
    "\n"
   ]
  },
  {
   "cell_type": "code",
   "execution_count": null,
   "metadata": {},
   "outputs": [],
   "source": []
  },
  {
   "cell_type": "code",
   "execution_count": null,
   "metadata": {},
   "outputs": [],
   "source": []
  },
  {
   "cell_type": "code",
   "execution_count": null,
   "metadata": {},
   "outputs": [],
   "source": []
  },
  {
   "cell_type": "code",
   "execution_count": null,
   "metadata": {},
   "outputs": [],
   "source": []
  },
  {
   "cell_type": "code",
   "execution_count": null,
   "metadata": {},
   "outputs": [],
   "source": []
  },
  {
   "cell_type": "markdown",
   "metadata": {},
   "source": [
    "# VARIOUS CHECKS FOR OBJECTS IN SIM"
   ]
  },
  {
   "cell_type": "code",
   "execution_count": null,
   "metadata": {},
   "outputs": [],
   "source": [
    "#Zoning of each district\n",
    "#[d.zoned_as[-1] for d in sim.districts[-1]]\n",
    "\n",
    "#How many blocks per district\n",
    "#[len(d.blocks[-1]) for d in sim.districts[-1]]\n",
    "\n",
    "#CHECK FOR UNIT COUNTS IN DIFFERENT SIZED RESIDENCES\n",
    "#how to write nested comp: smallest for biggest in biggest for second biggest in second biggest for third biggest in third biggest\n",
    "#r_sizes = [r.size for d in sim.districts[-1] for b in d.blocks[-1] for r in b.residences[-1]]\n",
    "#r_unit_count = [len(r.units[-1]) for d in sim.districts[-1] for b in d.blocks[-1] for r in b.residences[-1]]\n",
    "#for size, unit_count in zip(r_sizes, r_unit_count):\n",
    "#    print(size, unit_count)"
   ]
  },
  {
   "cell_type": "code",
   "execution_count": null,
   "metadata": {},
   "outputs": [],
   "source": [
    "#For history object\n",
    "#Test for lengths of these lists. They should all be equal length.\n",
    "# print(len(residences_count))\n",
    "# print(len(residence_size_avg))\n",
    "# print(len(units_count))\n",
    "# print(len(unit_size_avg))\n",
    "# print(len(unit_value_avg))\n",
    "# print(len(household_count))\n",
    "# print(len(households_housed))\n",
    "# print(len(households_unhoused))\n",
    "# print(len(household_age_avg))\n",
    "# print(len(household_has_avg))"
   ]
  },
  {
   "cell_type": "code",
   "execution_count": null,
   "metadata": {},
   "outputs": [],
   "source": [
    "#This is the available area on one lot\n",
    "#(sim.lots[0][0].size - sum([r.size for r in sim.lots[0][0].residences[0]]))\n",
    "\n",
    "#Available area for all lots in one year\n",
    "#[(l.size - sum([r.size for r in l.residences[0]])) \\\n",
    "#     for l in sim.lots[0]]\n",
    "\n",
    "#Total area for one year vs avail area for one year\n",
    "#total = sum([l.size  for l in sim.lots[0]])\n",
    "#avail = sum([(l.size - sum([r.size for r in l.residences[0]])) \\\n",
    "     #for l in sim.lots[0]])"
   ]
  },
  {
   "cell_type": "code",
   "execution_count": null,
   "metadata": {},
   "outputs": [],
   "source": [
    "#Check sizes of all lots\n",
    "#sum([lot.size for lot in sim.lots[-1]])"
   ]
  },
  {
   "cell_type": "code",
   "execution_count": null,
   "metadata": {
    "scrolled": false
   },
   "outputs": [],
   "source": [
    "#Check size of each residence\n",
    "#[residence.size for lot in sim.lots[-1] for residence in lot.residences[-1]]"
   ]
  },
  {
   "cell_type": "code",
   "execution_count": null,
   "metadata": {},
   "outputs": [],
   "source": [
    "#Check size of each unit\n",
    "#unit_sizes = [unit.value for lot in sim.lots[-1] for residence in lot.residences[-1] for unit in residence.units[-1]]"
   ]
  },
  {
   "cell_type": "code",
   "execution_count": null,
   "metadata": {},
   "outputs": [],
   "source": [
    "len(unit_sizes)"
   ]
  },
  {
   "cell_type": "code",
   "execution_count": null,
   "metadata": {},
   "outputs": [],
   "source": [
    "set(unit_sizes)"
   ]
  },
  {
   "cell_type": "code",
   "execution_count": null,
   "metadata": {},
   "outputs": [],
   "source": [
    "plt.hist(unit_sizes, bins = 50)"
   ]
  },
  {
   "cell_type": "code",
   "execution_count": null,
   "metadata": {},
   "outputs": [],
   "source": [
    "#Check area of each residence that isn't carved into units\n",
    "#[(residence.size - sum(unit.size for unit in residence.units[-1])) for lot in sim.lots[-1] for residence in lot.residences[-1]]"
   ]
  },
  {
   "cell_type": "code",
   "execution_count": null,
   "metadata": {},
   "outputs": [],
   "source": [
    "#Check unbuilt land of each lot\n",
    "#avail_area = [lot.size - sum([residence.size for residence in lot.residences[-1]]) for lot in sim.lots[-1]]\n",
    "#Avail area on each lot should be less than min_size for building a new residence\n",
    "#avail_area"
   ]
  },
  {
   "cell_type": "code",
   "execution_count": null,
   "metadata": {},
   "outputs": [],
   "source": [
    "#Check how many residences on each lot\n",
    "#[len(lot.residences[-1]) for lot in sim.lots[-1]]"
   ]
  },
  {
   "cell_type": "code",
   "execution_count": null,
   "metadata": {},
   "outputs": [],
   "source": [
    "#Check how many units in each residence\n",
    "#[len(residence.units[-1]) for lot in sim.lots[-1] for residence in lot.residences[-1]]"
   ]
  },
  {
   "cell_type": "code",
   "execution_count": null,
   "metadata": {},
   "outputs": [],
   "source": [
    "#Check a single lot\n",
    "#vars(sim.lots[-1][0])"
   ]
  },
  {
   "cell_type": "code",
   "execution_count": null,
   "metadata": {},
   "outputs": [],
   "source": [
    "#Check a single residence on a lot\n",
    "#vars(sim.lots[-1][0].residences[-1][0])"
   ]
  },
  {
   "cell_type": "code",
   "execution_count": null,
   "metadata": {},
   "outputs": [],
   "source": [
    "#Check a single unit in a residence\n",
    "#vars(sim.lots[-1][0].residences[-1][0].units[-1][0])"
   ]
  },
  {
   "cell_type": "code",
   "execution_count": null,
   "metadata": {},
   "outputs": [],
   "source": [
    "#THIS IS GREAT CODE DON'T DELETE\n",
    "#Check all unit values\n",
    "#How to quadruple nest a list comprehension:\n",
    "#smallest for biggest in biggest for second biggest in second biggest for third biggest in third biggest\n",
    "unit_values = [unit.value[-1] for lot in sim.lots[-1] for residence in lot.residences[-1] for unit in residence.units[-1]]\n",
    "#unit_values\n",
    "#plt.hist(unit_values)"
   ]
  },
  {
   "cell_type": "code",
   "execution_count": null,
   "metadata": {},
   "outputs": [],
   "source": [
    "#Get total number of units in all residences on all lots\n",
    "len([unit.value[-1] for lot in sim.lots[-1] for residence in lot.residences[-1] for unit in residence.units[-1]])"
   ]
  },
  {
   "cell_type": "code",
   "execution_count": null,
   "metadata": {},
   "outputs": [],
   "source": [
    "#Check incomes for all households\n",
    "#incomes = [household.has[-1] for household in sim.households[-1]]\n",
    "#plt.hist(incomes)"
   ]
  },
  {
   "cell_type": "code",
   "execution_count": null,
   "metadata": {},
   "outputs": [],
   "source": []
  },
  {
   "cell_type": "code",
   "execution_count": null,
   "metadata": {},
   "outputs": [],
   "source": [
    "#Check incomes for currently housed households\n",
    "#incomes_currently_housed = [household.has[-1] for household in sim.households[-1] if household.housed[-1]]\n",
    "#plt.hist(incomes_currently_housed)"
   ]
  },
  {
   "cell_type": "code",
   "execution_count": null,
   "metadata": {},
   "outputs": [],
   "source": [
    "#Check housing history for all households\n",
    "#housing_history = [household.housed for household in sim.households[-1]]\n",
    "#housing_history"
   ]
  },
  {
   "cell_type": "code",
   "execution_count": null,
   "metadata": {},
   "outputs": [],
   "source": [
    "uvals = [u.value[-1] for u in sim.units[-1] if not u.occ[-1]]"
   ]
  },
  {
   "cell_type": "code",
   "execution_count": null,
   "metadata": {},
   "outputs": [],
   "source": [
    "hhases = [h.has[-1] for h in sim.households[-1] if not h.housed[-1]]\n",
    "\n"
   ]
  },
  {
   "cell_type": "code",
   "execution_count": null,
   "metadata": {},
   "outputs": [],
   "source": [
    "np.array(uvals).min()\n"
   ]
  },
  {
   "cell_type": "code",
   "execution_count": null,
   "metadata": {},
   "outputs": [],
   "source": [
    "np.array(hhases).max()\n"
   ]
  },
  {
   "cell_type": "code",
   "execution_count": null,
   "metadata": {},
   "outputs": [],
   "source": [
    "# #Test for instantiation of lots, residences built by developers, units per residence\n",
    "# for lot in sim.lots[-1]:\n",
    "#     print('Lot size:', lot.size)\n",
    "#     print('Number of buildings on lot:', len(lot.residences[-1]))\n",
    "#     for residence in lot.residences[-1]:\n",
    "#         print('Building size:', residence.size)\n",
    "#         print('Building zoned as:', residence.zoned_as)\n",
    "#         print('Units in building:', len(residence.units[-1]))\n",
    "#         print('Sqft per unit:', residence.size / len(residence.units[-1]))\n",
    "#         for unit in residence.units[-1]:\n",
    "#             print('Unit size:', unit.size)\n",
    "#             print('Unit initial value:', unit.value[0])\n",
    "#             print('Unit current value:', unit.value[-1])\n",
    "#             print('Household size:', unit.occ[-1].size)\n",
    "#             print('Household spending power:', unit.occ[-1].size)\n",
    "#     print('\\n')"
   ]
  },
  {
   "cell_type": "code",
   "execution_count": null,
   "metadata": {},
   "outputs": [],
   "source": []
  },
  {
   "cell_type": "code",
   "execution_count": null,
   "metadata": {},
   "outputs": [],
   "source": []
  },
  {
   "cell_type": "code",
   "execution_count": null,
   "metadata": {},
   "outputs": [],
   "source": []
  },
  {
   "cell_type": "code",
   "execution_count": null,
   "metadata": {},
   "outputs": [],
   "source": []
  },
  {
   "cell_type": "code",
   "execution_count": null,
   "metadata": {},
   "outputs": [],
   "source": []
  },
  {
   "cell_type": "code",
   "execution_count": null,
   "metadata": {},
   "outputs": [],
   "source": []
  },
  {
   "cell_type": "code",
   "execution_count": null,
   "metadata": {},
   "outputs": [],
   "source": []
  },
  {
   "cell_type": "code",
   "execution_count": null,
   "metadata": {},
   "outputs": [],
   "source": []
  },
  {
   "cell_type": "code",
   "execution_count": null,
   "metadata": {},
   "outputs": [],
   "source": []
  },
  {
   "cell_type": "code",
   "execution_count": null,
   "metadata": {},
   "outputs": [],
   "source": [
    "#CITY SETTINGS\n",
    "#Size of land area in sqft (for now)\n",
    "land = 1000000 #one trillion sqft in SF\n",
    "lot_count = 1000 #800,000 in SF\n",
    "lot_size_avg = 2000\n",
    "lot_size_std = 500\n",
    "\n",
    "#Starting population\n",
    "pop_start = 1000\n",
    "has_avg = 2000\n",
    "has_std = 500\n",
    "\n",
    "#Time and money\n",
    "inflation = 0.02\n",
    "years = 10\n",
    "\n",
    "#Probability distribution of house sizes\n",
    "#house_size_dist = np.random.normal(scale = house_size_std, loc = avg_house_size, size = households)\n",
    "\n",
    "\n",
    "sim = Simulation(total_time_steps = years, \n",
    "                 land = land, \n",
    "                 lot_count = lot_count, \n",
    "                 lot_size_avg = lot_size_avg, \n",
    "                 lot_size_std = lot_size_std,\n",
    "                 pop_start = pop_start, \n",
    "                 has_avg = has_avg, \n",
    "                 has_std = has_std, \n",
    "                 inflation = inflation,\n",
    "                 )"
   ]
  },
  {
   "cell_type": "code",
   "execution_count": null,
   "metadata": {},
   "outputs": [],
   "source": []
  },
  {
   "cell_type": "code",
   "execution_count": null,
   "metadata": {},
   "outputs": [],
   "source": []
  },
  {
   "cell_type": "markdown",
   "metadata": {},
   "source": [
    "# Viz: Assigning lots at start of sim (throws an error when top of grid is reached)"
   ]
  },
  {
   "cell_type": "code",
   "execution_count": null,
   "metadata": {},
   "outputs": [],
   "source": [
    "#VIZ\n",
    "def draw_land_grid(land):\n",
    "    '''Writes a dict of y values, each with a dict of x values.\n",
    "    Works as a grid of xes and yes.'''\n",
    "    root = int(np.round(np.sqrt(land), 0) + 3)\n",
    "    x_range = root\n",
    "    y_range = root\n",
    "    #Each point in the dict will get switched True when a house is drawn on it\n",
    "    grid = {y: {x: False for x in np.arange(x_range)} for y in np.arange(y_range)}\n",
    "    return grid\n",
    "\n",
    "def assign_loc(lot, x, y, frontage):\n",
    "    '''\n",
    "    Assign a location to a lot.\n",
    "    '''\n",
    "    xes = np.arange(x, x + frontage)\n",
    "    yes = np.arange(y, y + frontage)\n",
    "    loc = [(x, y) for y in yes for x in xes]\n",
    "    lot.loc = loc\n",
    "    \n",
    "def fill_coords(grid, loc):\n",
    "    '''\n",
    "    Fill the coords in the grid dict after assignment of previous lot.\n",
    "    '''\n",
    "    for coord in loc:\n",
    "        #Reset the point to True in the dict of grid\n",
    "        grid[coord[1]][coord[0]] = True\n",
    "\n",
    "def avail(grid, x_, y_, frontage):\n",
    "    #X adjusted to the left for padding\n",
    "    x = x_ - 1\n",
    "    #Y adjusted to the left for padding\n",
    "    y = y_ - 1\n",
    "    x_range = np.arange((x), (x + frontage + 2))\n",
    "    y_range = np.arange((y), (y + frontage + 2))\n",
    "    #List of bools returned from each point checked\n",
    "    bottom = [grid[y][x_i] for x_i in x_range[:-1]]\n",
    "    top = [grid[y + frontage][x_i] for x_i in x_range[1:]]\n",
    "    left = [grid[y_i][x] for y_i in y_range[1:]]\n",
    "    right = [grid[y_i][x + frontage] for y_i in y_range[:-1]]\n",
    "    \n",
    "    #Value of all bools\n",
    "    points = sum(bottom) + sum(top) + sum(left) + sum(right)\n",
    "    \n",
    "    #If even one point in the proposed lot is taken (points != 0)\n",
    "    if points:\n",
    "        return False\n",
    "    #If not a single point in the proposed lot is taken (points == 0)\n",
    "    else:\n",
    "        #print(x, y, 'is avail!')\n",
    "        return True\n",
    "\n",
    "#(Each row is a tuple of (x, bool))\n",
    "def find_loc(grid, lot, next_x, next_y):\n",
    "    '''\n",
    "    #Traverse each row in the land grid via grid dict\n",
    "    '''\n",
    "    #Padding -1 right side\n",
    "    x_range = len(grid[0]) - 1\n",
    "    #Padding -1 top\n",
    "    y_range = len(grid) - 1\n",
    "    \n",
    "    #One side of the square lot\n",
    "    frontage = int(np.round(np.sqrt(lot.size), 0))\n",
    "    \n",
    "     #Traverse the y rows in the grid dict\n",
    "    for y in np.arange(next_y, y_range):\n",
    "        #If row isn't too full for this lot\n",
    "        if x_range - sum([v for k, v in grid[y].items()]) > frontage:\n",
    "            #print('Looking in row', y)\n",
    "            #Traverse the row of x values\n",
    "            for x in np.arange(next_x, x_range):\n",
    "                #print('Looking in x', x)\n",
    "                #If the right side of the lot is at the right edge of the grid, \n",
    "                #and at or below the top, continue\n",
    "                if ((x + frontage) <= (x_range - 1)) and ((y + frontage) <= (y_range - 1)):\n",
    "                    #If all frontage points in the proposed lot return False\n",
    "                    if avail(grid, x, y, frontage):\n",
    "                        #print('Assigning lot at', x, y)\n",
    "                        #House gets assigned these coords\n",
    "                        assign_loc(lot, x, y, frontage)\n",
    "                        #Coords get changed to True in the grid dict\n",
    "                        fill_coords(grid, lot.loc)\n",
    "                        #Break the loop\n",
    "                        #print('Found lot for ', lot.size)\n",
    "                        #Return next x and next y to start on\n",
    "                        #print((x + frontage), y)\n",
    "                        return (x + frontage), y\n",
    "        #If spot isn't found, reset x to 0 before moving up to next y\n",
    "        #(Start at 1, not 0, for padding on left side)\n",
    "        next_x = 1\n"
   ]
  },
  {
   "cell_type": "code",
   "execution_count": null,
   "metadata": {
    "scrolled": true
   },
   "outputs": [],
   "source": [
    "#Draw grid for sim\n",
    "grid = draw_land_grid(land)\n",
    "\n",
    "counter = 0\n",
    "#Padding +1\n",
    "next_x = 1\n",
    "#Padding +1\n",
    "next_y = 1\n",
    "\n",
    "for _ in tqdm(range(len(sim.housing_stock))):\n",
    "    #Draw a lot on the grid\n",
    "    next_x, next_y = find_loc(grid, sim.housing_stock[_], next_x, next_y)\n",
    "    #counter += 1\n",
    "    #print(counter, 'out of', len(sim.housing_stock))"
   ]
  },
  {
   "cell_type": "code",
   "execution_count": null,
   "metadata": {},
   "outputs": [],
   "source": [
    "#What does the grid look like?\n",
    "grid[0]"
   ]
  },
  {
   "cell_type": "code",
   "execution_count": null,
   "metadata": {},
   "outputs": [],
   "source": [
    "  "
   ]
  },
  {
   "cell_type": "code",
   "execution_count": null,
   "metadata": {},
   "outputs": [],
   "source": [
    "sim.housing_stock[10].sold"
   ]
  },
  {
   "cell_type": "code",
   "execution_count": null,
   "metadata": {},
   "outputs": [],
   "source": [
    "sim.run()"
   ]
  },
  {
   "cell_type": "markdown",
   "metadata": {},
   "source": [
    "# Visualizing lots (some overlap)"
   ]
  },
  {
   "cell_type": "code",
   "execution_count": null,
   "metadata": {},
   "outputs": [],
   "source": [
    "#Draw viz of all lots\n",
    "fig = plt.figure(figsize = (14,14))\n",
    "for lot in sim.housing_stock:\n",
    "    if lot.sold:\n",
    "        color = 'blue'\n",
    "    else:\n",
    "        color = np.random.choice(['dimgray', 'darkgray', 'silver', 'slategray', 'powderblue', 'whitesmoke'])\n",
    "    x = [point[0] for point in lot.loc]\n",
    "    y = [point[1] for point in lot.loc]\n",
    "    #ADD IF STATEMENT FOR SALE OF LOT\n",
    "    plt.scatter(x, y, label = lot.size, marker = 's', color = color)\n",
    "plt.show()"
   ]
  },
  {
   "cell_type": "code",
   "execution_count": null,
   "metadata": {},
   "outputs": [],
   "source": [
    "#Draw viz of all lots\n",
    "fig = plt.figure(figsize = (14,14))\n",
    "for lot in sim.housing_stock:\n",
    "    if lot.sold:\n",
    "        color = 'blue'\n",
    "    else:\n",
    "        color = np.random.choice(['dimgray', 'darkgray', 'silver', 'slategray', 'powderblue', 'whitesmoke'])\n",
    "    x = [point[0] for point in lot.loc]\n",
    "    y = [point[1] for point in lot.loc]\n",
    "    #ADD IF STATEMENT FOR SALE OF LOT\n",
    "    plt.scatter(x, y, label = lot.size, marker = 's', color = color)\n",
    "plt.show()"
   ]
  },
  {
   "cell_type": "code",
   "execution_count": null,
   "metadata": {},
   "outputs": [],
   "source": []
  },
  {
   "cell_type": "code",
   "execution_count": null,
   "metadata": {},
   "outputs": [],
   "source": []
  },
  {
   "cell_type": "code",
   "execution_count": null,
   "metadata": {},
   "outputs": [],
   "source": []
  },
  {
   "cell_type": "code",
   "execution_count": null,
   "metadata": {},
   "outputs": [],
   "source": []
  },
  {
   "cell_type": "code",
   "execution_count": null,
   "metadata": {},
   "outputs": [],
   "source": []
  },
  {
   "cell_type": "code",
   "execution_count": null,
   "metadata": {},
   "outputs": [],
   "source": []
  },
  {
   "cell_type": "code",
   "execution_count": null,
   "metadata": {},
   "outputs": [],
   "source": []
  },
  {
   "cell_type": "code",
   "execution_count": null,
   "metadata": {},
   "outputs": [],
   "source": []
  }
 ],
 "metadata": {
  "kernelspec": {
   "display_name": "Python 3",
   "language": "python",
   "name": "python3"
  },
  "language_info": {
   "codemirror_mode": {
    "name": "ipython",
    "version": 3
   },
   "file_extension": ".py",
   "mimetype": "text/x-python",
   "name": "python",
   "nbconvert_exporter": "python",
   "pygments_lexer": "ipython3",
   "version": "3.7.0"
  }
 },
 "nbformat": 4,
 "nbformat_minor": 2
}
