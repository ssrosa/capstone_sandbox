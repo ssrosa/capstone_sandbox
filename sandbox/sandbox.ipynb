{
 "cells": [
  {
   "cell_type": "markdown",
   "metadata": {},
   "source": [
    "# Capstone Project Sandbox"
   ]
  },
  {
   "cell_type": "code",
   "execution_count": 1,
   "metadata": {},
   "outputs": [
    {
     "name": "stderr",
     "output_type": "stream",
     "text": [
      "/Users/ssrosa/anaconda3/lib/python3.7/site-packages/tqdm/autonotebook/__init__.py:14: TqdmExperimentalWarning: Using `tqdm.autonotebook.tqdm` in notebook mode. Use `tqdm.tqdm` instead to force console mode (e.g. in jupyter console)\n",
      "  \" (e.g. in jupyter console)\", TqdmExperimentalWarning)\n"
     ]
    }
   ],
   "source": [
    "import numpy as np\n",
    "import matplotlib.pyplot as plt\n",
    "from tqdm.autonotebook import tqdm"
   ]
  },
  {
   "cell_type": "code",
   "execution_count": 64,
   "metadata": {},
   "outputs": [],
   "source": [
    "import copy"
   ]
  },
  {
   "cell_type": "code",
   "execution_count": 160,
   "metadata": {},
   "outputs": [],
   "source": [
    "class Lot(object):\n",
    "    def __init__(self):\n",
    "        self.size = None\n",
    "        self.zoned_as = None\n",
    "        #Coords where lot is. Just for viz\n",
    "        self.loc = []\n",
    "        self.residences = [[]]\n",
    "\n",
    "class Developer(object):\n",
    "    def __init__(self):\n",
    "        self.residences_built = [[]]\n",
    "        #100sqft - about a 9X12 room\n",
    "        #Hard coded for now\n",
    "        self.min_res_size = 100\n",
    "    def build_on(self, lot):\n",
    "        #Remaining empty land on this lot:\n",
    "        avail_area = lot.size - sum([residence.size for residence in lot.residences[-1]])\n",
    "        #If avail area exceeds min residence size that this developer can build\n",
    "        if  avail_area > self.min_res_size:\n",
    "            #Distribution of possible sizes for a new residence\n",
    "            size_dist = np.arange(self.min_res_size, avail_area)\n",
    "            #Initialize new residence object\n",
    "            #Give residence a random size within the realm of possibility\n",
    "            size = np.random.choice(size_dist)\n",
    "            residence = Residence(size, lot.zoned_as)\n",
    "            #Add residence to last list of residences built on the lot\n",
    "            lot.residences[-1].append(residence)\n",
    "            #Add residence to last list of residence built by this developer\n",
    "            self.residences_built[-1].append(residence)\n",
    "\n",
    "class Residence(object):\n",
    "    def __init__(self, size, zoned_as):\n",
    "        self.size = size\n",
    "        self.zoned_as = zoned_as\n",
    "        #100sqft - about a 9X12 room\n",
    "        #Hard coded for now\n",
    "        self.min_unit_size = 100\n",
    "        \n",
    "        max_units = self.zoned_as // 8 #8 people per unit\n",
    "        # if zoned_as 8, can have 1 unit\n",
    "        # if zoned_as 16, can have 2 units\n",
    "        # if zoned_as 48, cah nave 6 units\n",
    "        # if zoned as 96, can have 12 units\n",
    "        self.units = [[]]\n",
    "        #Not clear at this point whether nested list will be necessary but am including it for now.\n",
    "        max_units = zoned_as / 8\n",
    "        #Units can be larger than 100 sqft\n",
    "        if size / max_units >= self.min_unit_size:\n",
    "            self.unit_size = size / max_units\n",
    "        #But cannot be smaller\n",
    "        else:\n",
    "            self.unit_size = self.min_unit_size\n",
    "        avail_area = self.size\n",
    "        while  avail_area >= self.unit_size:\n",
    "            #Create a new unit object\n",
    "            unit = Unit(self.unit_size)\n",
    "            #Add unit object to last item of Residence's units list.\n",
    "            self.units[-1].append(unit)\n",
    "            avail_area -= self.unit_size\n",
    "\n",
    "    #def demolish():\n",
    "    #check that all residents are moved out from units\n",
    "    #remove residence from lot\n",
    "\n",
    "class Unit(object):\n",
    "    def __init__(self, size):\n",
    "        self.size = size\n",
    "        #Value is a list. -1 is current value.\n",
    "        self.value = [(size * price_sqft)]\n",
    "        #Occupant is a list. -1 is current occupant.\n",
    "        self.occ = [False]\n",
    "    def update(self):\n",
    "        self.value.append(self.value[-1])\n",
    "        self.occ.append(self.occ[-1])\n",
    "\n",
    "class Household(object):\n",
    "    '''\n",
    "    '''\n",
    "    def __init__(self, has):\n",
    "        #List of whether the household is homeless or not\n",
    "        self.housed = [False]\n",
    "        #Hold income constant for now but still write as a list\n",
    "        self.has = [has]\n",
    "    \n",
    "    def update(self):\n",
    "        self.housed.append(self.housed[-1])\n",
    "        self.has.append(self.has[-1])\n",
    "    \n",
    "    def can_move_to(self, unit):\n",
    "        #household needs a place to live\n",
    "        #unit not already taken\n",
    "        # household can afford unit \n",
    "        if (not self.housed[-1]) \\\n",
    "        and (not unit.occ[-1]) \\\n",
    "        and (unit.value[-1] <= self.has[-1]):        \n",
    "            return True\n",
    "        else: \n",
    "            return False\n",
    "    \n",
    "    def move_to(self, unit):\n",
    "        '''\n",
    "        Extra checks to make sure household doesn't get assigned taken unit or mispriced unit.\n",
    "        Changes .housed[-1] to True and adds this household to the list of occupants in the unit.\n",
    "        '''\n",
    "        #Household becomes occupant of unit\n",
    "        unit.occ[-1] = self\n",
    "        #Houshold gets marked as housed\n",
    "        self.housed[-1] = unit\n",
    "        #print(f'Household {self.has[-1]} now lives in unit {unit.value[-1]}')\n",
    "        \n",
    "def create_lots(self, land, lot_size_avg, lot_size_std, zon_avg, zon_std):\n",
    "    new_lots = []\n",
    "    #Create a distribution to simulate variety of lot sizes\n",
    "    lot_dist = np.random.normal(scale = lot_size_std, loc = lot_size_avg, size = num_lots)\n",
    "    #Create a distribution to simulate variety of zoning\n",
    "    #Empty for now\n",
    "    \n",
    "    while land > 0:\n",
    "        size = np.round(np.random.choice(lot_dist, replace = False), 0)\n",
    "        #Create a new lot only if the lot size will fit on the available land left\n",
    "        if size > land:\n",
    "            #Need to break the loop here otherwise it keeps running until a random size is\n",
    "            #drawn that fits the available remaining land.\n",
    "            break\n",
    "        else:\n",
    "            #Instantiate a lot with a random size\n",
    "            lot = Lot()\n",
    "            lot.size = size\n",
    "            #Reduce available land area by the size of this lot\n",
    "            land -= size\n",
    "            #Randomly zone the lot\n",
    "            lot.zoned_as = np.random.choice([8, 16, 48, 96], replace = True)\n",
    "            #Add this lot to the list of lots in the sim\n",
    "            new_lots.append(lot)\n",
    "    #Append this list to the list of lots as the last item        \n",
    "    self.lots.append(new_lots)\n",
    "        \n",
    "def create_developers(self):\n",
    "    '''\n",
    "    Instantiate some number of developer objects.\n",
    "    '''\n",
    "    developer = [Developer()]\n",
    "    self.developers.append(developer)\n",
    "                \n",
    "def round_of_developing(self, developers, lots):\n",
    "    '''\n",
    "    Iterate over list of developers and call each developer's develop method\n",
    "    '''\n",
    "    [developer.build_on(lot) for lot in lots for developer in developers]\n",
    "\n",
    "def create_households(self, pop_growth, has_avg, has_std):\n",
    "    '''\n",
    "    Create some number of households to come to the city.\n",
    "    '''\n",
    "    income_dist = np.random.normal(scale = has_std, loc = has_avg, size = pop_growth)\n",
    "    self.households[-1].extend([Household(i) for i in income_dist])\n",
    "    \n",
    "def round_of_moving(self):\n",
    "    '''\n",
    "    Iterate over list of households and call each household's move method.\n",
    "    '''\n",
    "\n",
    "    #Prepare units and households for moving.\n",
    "    #Step 1: Fet units available.\n",
    "    ua = sorted([u for u in self.units[-1] if not u.occ[-1]], \\\n",
    "                        key = lambda u: u.value[-1], reverse = True)\n",
    "    #Step 2: Get households seeking unit.\n",
    "    hh = sorted([h for h in self.households[-1] if not h.housed[-1]], \\\n",
    "                        key = lambda h: h.has[-1], reverse = True)\n",
    "    #Step 3: Exclude any units with value above the max spending power \n",
    "    #of the households. (Wouldn't be able to rent to anyone)\n",
    "    ua = [u for u in ua if u.value[-1] <= hh[0].has[-1]]\n",
    "    #Step 4: Exclude any households with spending power less than \n",
    "    #the lowest unit value. (Wouldn't be able to find a place.)\n",
    "    #Keep hh same length as or shorter than ua.\n",
    "    #(No unit can take more than household so there cannot be more hh than ua.)\n",
    "    hh = [h for i, h in enumerate(hh) if (h.has[-1] >= ua[-1].value[-1]) and \\\n",
    "                                                                    (i < len(ua))]\n",
    "    #Step 5: call the match function to move households into units.\n",
    "    match(hh, ua)\n",
    "    \n",
    "    #These two numbers should be equal\n",
    "    num_hh_moved = sum([1 if h.housed[-1] else 0 for h in hh])\n",
    "    num_ua_moved_into = sum([1 if u.occ[-1] else 0 for u in ua])\n",
    "\n",
    "def match(hh_, ua):\n",
    "    '''\n",
    "    Helper function for round of moving. Does the work of matching \n",
    "    household to unit. Iterates over units, trying to match each \n",
    "    to the highest-value household in the list. If there's a match,\n",
    "    the household gets popped and the loop moves on to next unit.\n",
    "    If there's not a match, the loop just moves on to the next unit. \n",
    "    A household can take a unit that ncosts less than or equal to\n",
    "    its spending power. Some rich households may wind up getting \n",
    "    cheap units. Units may go untaken; households may go unhoused.\n",
    "\n",
    "    '''\n",
    "    #New list to avoid popping the original\n",
    "    hh = [h for h in hh_]\n",
    "    #For each unit in list \n",
    "    for u in ua:\n",
    "        #If there are households left in the list\n",
    "        if hh:\n",
    "            #If household can take the unit\n",
    "            if hh[0].can_move_to(u):\n",
    "                #Household gets unit\n",
    "                hh[0].move_to(u)\n",
    "                #Household gets removed from list\n",
    "                hh.pop(0)\n",
    "    \n",
    "def print_stats(self, time_step):\n",
    "    print(f'Population at time step {time_step}: {len(self.households[-1])}')\n",
    "    print(f'{len(self.lots[-1])} lots on {land} sqft of land')\n",
    "    print(f'{len(self.developers)} developers')\n",
    "    #Get number of residences. FOr now there's no master list for some reason\n",
    "    num_residences = len(self.residences[-1])\n",
    "    num_units = len(self.units[-1])\n",
    "    print(f'{num_residences} residences and {num_units} units')\n",
    "    housing = [True if household.housed[-1] else False for household in self.households[-1]]\n",
    "    num_housed = sum(housing)\n",
    "    num_homeless = len(housing) - num_housed\n",
    "    print(f'{num_housed} households have housing and {num_homeless} households are homeless.')\n",
    "    \n",
    "class Simulation(object):\n",
    "    def __init__(self, \n",
    "                 #For creating lots\n",
    "                 land, num_lots, lot_size_avg, lot_size_std, zon_avg, zon_std,\n",
    "                 #For bringing people to the city\n",
    "                 pop_growth, has_avg, has_std, \n",
    "                 #For running the sim over time\n",
    "                 total_time_steps, inflation):\n",
    "        #Number of years to run sim\n",
    "        self.total_time_steps = total_time_steps\n",
    "        #List of increments by which to increase population\n",
    "        self.pop_growth = pop_growth\n",
    "        #Held as constant for now\n",
    "        self.has_avg = has_avg\n",
    "        #Held as constant for now\n",
    "        self.has_std = has_std\n",
    "        #Held as constant for now\n",
    "        self.inflation = inflation\n",
    "        \n",
    "        #STEP 1: \n",
    "        #Fill up land area with lots\n",
    "        self.lots = []\n",
    "        #Will return a list of lots. Becomes lots[-1]\n",
    "        self.create_lots(land, lot_size_avg, lot_size_std, zon_avg, zon_std)\n",
    "       \n",
    "        #STEP 2: Create developers to build residences\n",
    "        self.developers = []\n",
    "        self.create_developers()\n",
    "        self.round_of_developing(self.developers[-1], self.lots[-1])\n",
    "        \n",
    "        #Store residences in a list\n",
    "        self.residences = [[residence for lot in self.lots[-1] for residence in lot.residences[-1]]]\n",
    "        #Store units in a list\n",
    "        self.units = [[unit for residence in self.residences[-1] for unit in residence.units[-1]]]\n",
    "        \n",
    "        #STEP 3: Create people to come to the city and move in\n",
    "        self.households = [[]]\n",
    "        #Pop the last value of population growth\n",
    "        self.create_households(self.pop_growth.pop(), \n",
    "                               self.has_avg, \n",
    "                               self.has_std)\n",
    "        \n",
    "        #STEP 4: Let each household try to move into a house\n",
    "       # self.round_of_moving()\n",
    "        \n",
    "        #STEP 5: Print initial statistics\n",
    "        print('Simulation started.')\n",
    "        self.print_stats(0)\n",
    "        \n",
    "def time_step(self, step):\n",
    "    \n",
    "    #Demolish any old residences\n",
    "    #pass\n",
    "    #Kill off any old households\n",
    "    #pass\n",
    "    print('\\n')\n",
    "    print('Updating object records')\n",
    "    print('Lots:')\n",
    "    #Update all lists of objects\n",
    "    self.lots.append(self.lots[-1])\n",
    "    print('Developers:')\n",
    "    self.developers.append(self.developers[-1])\n",
    "    #self.residences.append(self.residences[-1])\n",
    "    #self.units.append(self.units[-1])\n",
    "    #Update each existing unit\n",
    "    print('Updating each unit')\n",
    "    [u.update() for u in self.units[-1]]\n",
    "    print('Updating list of units')\n",
    "    self.households.append(self.households[-1])\n",
    "    #Update each existing household\n",
    "    print('Updating each household')\n",
    "    [h.update() for h in self.households[-1]]\n",
    "    \n",
    "    #Inflation increases values or something\n",
    "    \n",
    "    #New developers\n",
    "    #Leave out for now\n",
    "    #Will need to extend [-1] spot of developer list with any new developers\n",
    "    \n",
    "    #New households move to town\n",
    "    #Note to self: this should automatically extend the [-1] list of households\n",
    "    print('adding households')\n",
    "    self.create_households(self.pop_growth.pop(), self.has_avg, self.has_std)\n",
    "    print('building new residences')\n",
    "    #Build new residences on available land\n",
    "    self.round_of_developing(self.developers[-1], self.lots[-1])\n",
    "    #Manually append the list of all residences\n",
    "    #Not recording residences year by year for now\n",
    "    #althoguh they could be retrieved from the history in each developer\n",
    "    print('appending new residences to master list')\n",
    "    self.residences.append([residence for lot in self.lots[-1] for residence in lot.residences[-1]])\n",
    "    #Need to manually add units to list for sim\n",
    "    print('appending new units to master list')\n",
    "    self.units.append([unit for residence in self.residences[-1] for unit in residence.units[-1]])\n",
    "    #Have homeless try to move into new places\n",
    "    print('people moving')\n",
    "    self.round_of_moving()\n",
    "    \n",
    "def run(self):\n",
    "    pass\n",
    "    for _ in tqdm(range(self.total_time_steps)):\n",
    "        # Print out the current time step \n",
    "        print(f\"Time step {_}\")\n",
    "        self.time_step(_)\n",
    "        self.print_stats(_)"
   ]
  },
  {
   "cell_type": "code",
   "execution_count": 162,
   "metadata": {
    "scrolled": true
   },
   "outputs": [
    {
     "name": "stdout",
     "output_type": "stream",
     "text": [
      "Simulation started.\n",
      "Population at time step 0: 100000\n",
      "199525 lots on 1000000000 sqft of land\n",
      "1 developers\n",
      "199525 residences and 937557 units\n",
      "0 households have housing and 100000 households are homeless.\n"
     ]
    }
   ],
   "source": [
    "#Attach all these functions to the Simulation object\n",
    "Simulation.create_lots = create_lots\n",
    "Simulation.create_developers = create_developers\n",
    "Simulation.create_households = create_households\n",
    "Simulation.round_of_developing = round_of_developing        \n",
    "Simulation.round_of_moving = round_of_moving\n",
    "Simulation.print_stats = print_stats\n",
    "Simulation.time_step = time_step\n",
    "Simulation.run = run\n",
    "\n",
    "#CITY SETTINGS\n",
    "#Size of land area in sqft (for now)\n",
    "land = 1000000000 #one trillion sqft in SF\n",
    "num_lots = 10 #800,000 in SF\n",
    "lot_size_avg = 5000\n",
    "lot_size_std = 50\n",
    "zon_avg = None\n",
    "zon_std = None\n",
    "\n",
    "\n",
    "#Starting population\n",
    "pop_growth = [10000, 10000, 10000, 10000, 10000, 10000, 10000, 10000, 10000, 10000, 100000]\n",
    "#[1000, 900, 800, 700, 600, 500, 400, 300, 200, 100, 1000,]\n",
    "            # 1000, 900, 800, 700, 600, 500, 400, 300, 200, 100, 1000]\n",
    "#[0, 0, 0, 0, 0, 0, 0, 0, 0, 0, 10]\n",
    "#[10, 9, 8, 7, 6, 5, 4, 3, 2, 1, 1, 100]\n",
    "             #,\n",
    "             ##1000, 900, 800, 700, 600, 500, 400, 300, 200, 100, 1000,\n",
    "             #1000, 900, 800, 700, 600, 500, 400, 300, 200, 100, 1000]\n",
    "has_avg = 1500\n",
    "has_std = 500\n",
    "\n",
    "#Time and money\n",
    "price_sqft = 1\n",
    "inflation = 0.02\n",
    "years = 10\n",
    "\n",
    "#CREATE SIM\n",
    "%%time\n",
    "sim = Simulation(land = land, \n",
    "                 num_lots = num_lots, \n",
    "                 lot_size_avg = lot_size_avg, \n",
    "                 lot_size_std = lot_size_std,\n",
    "                 zon_avg = zon_avg, \n",
    "                 zon_std = zon_std,\n",
    "                 pop_growth = pop_growth, \n",
    "                 has_avg = has_avg, \n",
    "                 has_std = has_std, \n",
    "                 total_time_steps = years,\n",
    "                 inflation = inflation\n",
    "                 )"
   ]
  },
  {
   "cell_type": "code",
   "execution_count": 163,
   "metadata": {},
   "outputs": [
    {
     "data": {
      "application/vnd.jupyter.widget-view+json": {
       "model_id": "0db416a132184f6ab9d9a7b9bd148642",
       "version_major": 2,
       "version_minor": 0
      },
      "text/plain": [
       "HBox(children=(IntProgress(value=0, max=10), HTML(value='')))"
      ]
     },
     "metadata": {},
     "output_type": "display_data"
    },
    {
     "name": "stdout",
     "output_type": "stream",
     "text": [
      "Time step 0\n",
      "\n",
      "\n",
      "Updating object records\n",
      "Lots:\n",
      "Developers:\n",
      "Updating each unit\n",
      "Updating list of units\n",
      "Updating each household\n",
      "adding households\n",
      "building new residences\n",
      "appending new residences to master list\n",
      "appending new units to master list\n",
      "people moving\n",
      "Population at time step 0: 110000\n",
      "199525 lots on 1000000000 sqft of land\n",
      "2 developers\n",
      "394937 residences and 1690003 units\n",
      "109707 households have housing and 293 households are homeless.\n",
      "Time step 1\n",
      "\n",
      "\n",
      "Updating object records\n",
      "Lots:\n",
      "Developers:\n",
      "Updating each unit\n",
      "Updating list of units\n",
      "Updating each household\n",
      "adding households\n",
      "building new residences\n",
      "appending new residences to master list\n",
      "appending new units to master list\n",
      "people moving\n",
      "Population at time step 1: 120000\n",
      "199525 lots on 1000000000 sqft of land\n",
      "3 developers\n",
      "570568 residences and 2210229 units\n",
      "119684 households have housing and 316 households are homeless.\n",
      "Time step 2\n",
      "\n",
      "\n",
      "Updating object records\n",
      "Lots:\n",
      "Developers:\n",
      "Updating each unit\n",
      "Updating list of units\n",
      "Updating each household\n",
      "adding households\n",
      "building new residences\n",
      "appending new residences to master list\n",
      "appending new units to master list\n",
      "people moving\n",
      "Population at time step 2: 130000\n",
      "199525 lots on 1000000000 sqft of land\n",
      "4 developers\n",
      "705174 residences and 2518870 units\n",
      "129648 households have housing and 352 households are homeless.\n",
      "Time step 3\n",
      "\n",
      "\n",
      "Updating object records\n",
      "Lots:\n",
      "Developers:\n",
      "Updating each unit\n",
      "Updating list of units\n",
      "Updating each household\n",
      "adding households\n",
      "building new residences\n",
      "appending new residences to master list\n",
      "appending new units to master list\n",
      "people moving\n",
      "Population at time step 3: 140000\n",
      "199525 lots on 1000000000 sqft of land\n",
      "5 developers\n",
      "788972 residences and 2675094 units\n",
      "139621 households have housing and 379 households are homeless.\n",
      "Time step 4\n",
      "\n",
      "\n",
      "Updating object records\n",
      "Lots:\n",
      "Developers:\n",
      "Updating each unit\n",
      "Updating list of units\n",
      "Updating each household\n",
      "adding households\n",
      "building new residences\n",
      "appending new residences to master list\n",
      "appending new units to master list\n",
      "people moving\n",
      "Population at time step 4: 150000\n",
      "199525 lots on 1000000000 sqft of land\n",
      "6 developers\n",
      "830850 residences and 2742978 units\n",
      "149598 households have housing and 402 households are homeless.\n",
      "Time step 5\n",
      "\n",
      "\n",
      "Updating object records\n",
      "Lots:\n",
      "Developers:\n",
      "Updating each unit\n",
      "Updating list of units\n",
      "Updating each household\n",
      "adding households\n",
      "building new residences\n",
      "appending new residences to master list\n",
      "appending new units to master list\n",
      "people moving\n",
      "Population at time step 5: 160000\n",
      "199525 lots on 1000000000 sqft of land\n",
      "7 developers\n",
      "847574 residences and 2766865 units\n",
      "159576 households have housing and 424 households are homeless.\n",
      "Time step 6\n",
      "\n",
      "\n",
      "Updating object records\n",
      "Lots:\n",
      "Developers:\n",
      "Updating each unit\n",
      "Updating list of units\n",
      "Updating each household\n",
      "adding households\n",
      "building new residences\n",
      "appending new residences to master list\n",
      "appending new units to master list\n",
      "people moving\n",
      "Population at time step 6: 170000\n",
      "199525 lots on 1000000000 sqft of land\n",
      "8 developers\n",
      "853001 residences and 2774036 units\n",
      "169542 households have housing and 458 households are homeless.\n",
      "Time step 7\n",
      "\n",
      "\n",
      "Updating object records\n",
      "Lots:\n",
      "Developers:\n",
      "Updating each unit\n",
      "Updating list of units\n",
      "Updating each household\n",
      "adding households\n",
      "building new residences\n",
      "appending new residences to master list\n",
      "appending new units to master list\n",
      "people moving\n",
      "Population at time step 7: 180000\n",
      "199525 lots on 1000000000 sqft of land\n",
      "9 developers\n",
      "854431 residences and 2775818 units\n",
      "179510 households have housing and 490 households are homeless.\n",
      "Time step 8\n",
      "\n",
      "\n",
      "Updating object records\n",
      "Lots:\n",
      "Developers:\n",
      "Updating each unit\n",
      "Updating list of units\n",
      "Updating each household\n",
      "adding households\n",
      "building new residences\n",
      "appending new residences to master list\n",
      "appending new units to master list\n",
      "people moving\n",
      "Population at time step 8: 190000\n",
      "199525 lots on 1000000000 sqft of land\n",
      "10 developers\n",
      "854724 residences and 2776171 units\n",
      "189482 households have housing and 518 households are homeless.\n",
      "Time step 9\n",
      "\n",
      "\n",
      "Updating object records\n",
      "Lots:\n",
      "Developers:\n",
      "Updating each unit\n",
      "Updating list of units\n",
      "Updating each household\n",
      "adding households\n",
      "building new residences\n",
      "appending new residences to master list\n",
      "appending new units to master list\n",
      "people moving\n",
      "Population at time step 9: 200000\n",
      "199525 lots on 1000000000 sqft of land\n",
      "11 developers\n",
      "854795 residences and 2776250 units\n",
      "199463 households have housing and 537 households are homeless.\n",
      "\n",
      "CPU times: user 1min 29s, sys: 1.71 s, total: 1min 30s\n",
      "Wall time: 1min 32s\n"
     ]
    }
   ],
   "source": [
    "%%time\n",
    "sim.run()"
   ]
  },
  {
   "cell_type": "markdown",
   "metadata": {},
   "source": [
    "# RESUME HERE. Sim is functional with 2.7m units and 200k households. Take 1.5mins."
   ]
  },
  {
   "cell_type": "code",
   "execution_count": 129,
   "metadata": {},
   "outputs": [
    {
     "data": {
      "text/plain": [
       "34"
      ]
     },
     "execution_count": 129,
     "metadata": {},
     "output_type": "execute_result"
    }
   ],
   "source": [
    "len(new_hh)"
   ]
  },
  {
   "cell_type": "code",
   "execution_count": 131,
   "metadata": {},
   "outputs": [
    {
     "data": {
      "text/plain": [
       "4507"
      ]
     },
     "execution_count": 131,
     "metadata": {},
     "output_type": "execute_result"
    }
   ],
   "source": [
    "len(hh)"
   ]
  },
  {
   "cell_type": "code",
   "execution_count": 98,
   "metadata": {},
   "outputs": [],
   "source": [
    "sim.households[-1][2].move_to(sim.units[-1][0])"
   ]
  },
  {
   "cell_type": "code",
   "execution_count": 99,
   "metadata": {},
   "outputs": [
    {
     "data": {
      "text/plain": [
       "{'housed': [<__main__.Unit at 0x116f1d198>], 'has': [1309.2095705503789]}"
      ]
     },
     "execution_count": 99,
     "metadata": {},
     "output_type": "execute_result"
    }
   ],
   "source": [
    "vars(sim.households[-1][2])"
   ]
  },
  {
   "cell_type": "code",
   "execution_count": 132,
   "metadata": {},
   "outputs": [
    {
     "data": {
      "text/plain": [
       "4473"
      ]
     },
     "execution_count": 132,
     "metadata": {},
     "output_type": "execute_result"
    }
   ],
   "source": [
    "sum([1 if h.housed[-1] else 0 for h in sim.households[-1]])"
   ]
  },
  {
   "cell_type": "code",
   "execution_count": 107,
   "metadata": {},
   "outputs": [
    {
     "data": {
      "text/plain": [
       "4805"
      ]
     },
     "execution_count": 107,
     "metadata": {},
     "output_type": "execute_result"
    }
   ],
   "source": [
    "sum([1 if u.occ[-1] else 0 for u in sim.units[-1]])"
   ]
  },
  {
   "cell_type": "code",
   "execution_count": 280,
   "metadata": {},
   "outputs": [],
   "source": [
    "#Testing for round of moving and match\n",
    "\n"
   ]
  },
  {
   "cell_type": "code",
   "execution_count": null,
   "metadata": {},
   "outputs": [],
   "source": [
    "#TOY DATA for testing match method\n",
    "# ua = np.array([10, 9, 8, 7, 6, 5, 4, 3, 2, 1])\n",
    "#hh = np.array([10.1, 10, 10, 4, 3, 1, 1, 1, 1, 1, 1])\n",
    "\n",
    "# i = 0\n",
    "# j = 0   \n",
    "# match(hh, ua, i, j)"
   ]
  },
  {
   "cell_type": "code",
   "execution_count": null,
   "metadata": {},
   "outputs": [],
   "source": []
  },
  {
   "cell_type": "code",
   "execution_count": null,
   "metadata": {},
   "outputs": [],
   "source": []
  },
  {
   "cell_type": "code",
   "execution_count": null,
   "metadata": {},
   "outputs": [],
   "source": []
  },
  {
   "cell_type": "code",
   "execution_count": null,
   "metadata": {},
   "outputs": [],
   "source": []
  },
  {
   "cell_type": "code",
   "execution_count": null,
   "metadata": {},
   "outputs": [],
   "source": []
  },
  {
   "cell_type": "code",
   "execution_count": null,
   "metadata": {},
   "outputs": [],
   "source": [
    "import pandas as pd\n",
    "pd.Series(unit_val_arr).value_counts()"
   ]
  },
  {
   "cell_type": "code",
   "execution_count": null,
   "metadata": {},
   "outputs": [],
   "source": [
    "plt.hist([u.value[-1] for u in sim.units[-1]])"
   ]
  },
  {
   "cell_type": "markdown",
   "metadata": {},
   "source": [
    "# Gather data for viz of sim run"
   ]
  },
  {
   "cell_type": "code",
   "execution_count": null,
   "metadata": {},
   "outputs": [],
   "source": [
    "#lots\n",
    "\n",
    "num_residences = [len(res) for res in sim.residences]\n",
    "\n",
    "residence_size_avg = [(sum([r.size for r in res]) / len(res)) for res in sim.residences]\n",
    "\n",
    "units_num = [len(uni) for uni in sim.units]\n",
    "\n",
    "unit_size_avg = [(sum([u.size for u in uni]) / len(uni)) for uni in sim.units]\n",
    "\n",
    "unit_value_avg = [(sum([u.value[-1] for u in uni]) / len(uni)) for uni in sim.units]\n",
    "\n",
    "#Problem in the recording of households\n",
    "households_num = [len(hou) for hou in sim.households]\n",
    "\n",
    "households_housed = [len([h for h in hou if h.housed[]]) for hou in sim.households]\n",
    "\n",
    "# households_homeless\n",
    "\n",
    "#For now is not a list\n",
    "# household_income_avg"
   ]
  },
  {
   "cell_type": "code",
   "execution_count": null,
   "metadata": {},
   "outputs": [],
   "source": [
    "sim.households[0][0].housed"
   ]
  },
  {
   "cell_type": "markdown",
   "metadata": {},
   "source": [
    "# RESUME HERE. Something with lambda to get only the housing bool that you want for a certain yeare"
   ]
  },
  {
   "cell_type": "code",
   "execution_count": null,
   "metadata": {},
   "outputs": [],
   "source": []
  },
  {
   "cell_type": "markdown",
   "metadata": {},
   "source": [
    "# VARIOUS CHECKS FOR OBJECTS IN SIM"
   ]
  },
  {
   "cell_type": "code",
   "execution_count": null,
   "metadata": {},
   "outputs": [],
   "source": [
    "#Check sizes of all lots\n",
    "#sum([lot.size for lot in sim.lots[-1]])"
   ]
  },
  {
   "cell_type": "code",
   "execution_count": null,
   "metadata": {
    "scrolled": false
   },
   "outputs": [],
   "source": [
    "#Check size of each residence\n",
    "#[residence.size for lot in sim.lots[-1] for residence in lot.residences[-1]]"
   ]
  },
  {
   "cell_type": "code",
   "execution_count": null,
   "metadata": {},
   "outputs": [],
   "source": [
    "#Check size of each unit\n",
    "unit_sizes = [unit.value for lot in sim.lots[-1] for residence in lot.residences[-1] for unit in residence.units[-1]]"
   ]
  },
  {
   "cell_type": "code",
   "execution_count": null,
   "metadata": {},
   "outputs": [],
   "source": [
    "len(unit_sizes)"
   ]
  },
  {
   "cell_type": "code",
   "execution_count": null,
   "metadata": {},
   "outputs": [],
   "source": [
    "set(unit_sizes)"
   ]
  },
  {
   "cell_type": "code",
   "execution_count": null,
   "metadata": {},
   "outputs": [],
   "source": [
    "plt.hist(unit_sizes, bins = 50)"
   ]
  },
  {
   "cell_type": "code",
   "execution_count": null,
   "metadata": {},
   "outputs": [],
   "source": [
    "#Test for bin_items: look at all binned items\n",
    "#[v.value[-1] for key, val in binned_items.items() for v in val]\n",
    "\n",
    "#Look at one bin\n",
    "#[v.value[-1] for v in binned_items[445.3666666666667]]"
   ]
  },
  {
   "cell_type": "code",
   "execution_count": null,
   "metadata": {},
   "outputs": [],
   "source": [
    "#Check area of each residence that isn't carved into units\n",
    "#[(residence.size - sum(unit.size for unit in residence.units[-1])) for lot in sim.lots[-1] for residence in lot.residences[-1]]"
   ]
  },
  {
   "cell_type": "code",
   "execution_count": null,
   "metadata": {},
   "outputs": [],
   "source": [
    "#Check unbuilt land of each lot\n",
    "#avail_area = [lot.size - sum([residence.size for residence in lot.residences[-1]]) for lot in sim.lots[-1]]\n",
    "#Avail area on each lot should be less than min_size for building a new residence\n",
    "#avail_area"
   ]
  },
  {
   "cell_type": "code",
   "execution_count": null,
   "metadata": {},
   "outputs": [],
   "source": [
    "#Check how many residences on each lot\n",
    "#[len(lot.residences[-1]) for lot in sim.lots[-1]]"
   ]
  },
  {
   "cell_type": "code",
   "execution_count": null,
   "metadata": {},
   "outputs": [],
   "source": [
    "#Check how many units in each residence\n",
    "#[len(residence.units[-1]) for lot in sim.lots[-1] for residence in lot.residences[-1]]"
   ]
  },
  {
   "cell_type": "code",
   "execution_count": null,
   "metadata": {},
   "outputs": [],
   "source": [
    "#Check a single lot\n",
    "#vars(sim.lots[-1][0])"
   ]
  },
  {
   "cell_type": "code",
   "execution_count": null,
   "metadata": {},
   "outputs": [],
   "source": [
    "#Check a single residence on a lot\n",
    "#vars(sim.lots[-1][0].residences[-1][0])"
   ]
  },
  {
   "cell_type": "code",
   "execution_count": null,
   "metadata": {},
   "outputs": [],
   "source": [
    "#Check a single unit in a residence\n",
    "#vars(sim.lots[-1][0].residences[-1][0].units[-1][0])"
   ]
  },
  {
   "cell_type": "code",
   "execution_count": null,
   "metadata": {},
   "outputs": [],
   "source": [
    "#THIS IS GREAT CODE DON'T DELETE\n",
    "#Check all unit values\n",
    "#How to quadruple nest a list comprehension:\n",
    "#smallest for biggest in biggest for second biggest in second biggest for third biggest in third biggest\n",
    "unit_values = [unit.value[-1] for lot in sim.lots[-1] for residence in lot.residences[-1] for unit in residence.units[-1]]\n",
    "#unit_values\n",
    "#plt.hist(unit_values)"
   ]
  },
  {
   "cell_type": "code",
   "execution_count": null,
   "metadata": {},
   "outputs": [],
   "source": [
    "#Get total number of units in all residences on all lots\n",
    "len([unit.value[-1] for lot in sim.lots[-1] for residence in lot.residences[-1] for unit in residence.units[-1]])"
   ]
  },
  {
   "cell_type": "code",
   "execution_count": null,
   "metadata": {},
   "outputs": [],
   "source": [
    "#Check incomes for all households\n",
    "#incomes = [household.has[-1] for household in sim.households[-1]]\n",
    "#plt.hist(incomes)"
   ]
  },
  {
   "cell_type": "code",
   "execution_count": null,
   "metadata": {},
   "outputs": [],
   "source": []
  },
  {
   "cell_type": "code",
   "execution_count": null,
   "metadata": {},
   "outputs": [],
   "source": [
    "#Check incomes for currently housed households\n",
    "#incomes_currently_housed = [household.has[-1] for household in sim.households[-1] if household.housed[-1]]\n",
    "#plt.hist(incomes_currently_housed)"
   ]
  },
  {
   "cell_type": "code",
   "execution_count": null,
   "metadata": {},
   "outputs": [],
   "source": [
    "#Check housing history for all households\n",
    "#housing_history = [household.housed for household in sim.households[-1]]\n",
    "#housing_history"
   ]
  },
  {
   "cell_type": "code",
   "execution_count": null,
   "metadata": {},
   "outputs": [],
   "source": []
  },
  {
   "cell_type": "code",
   "execution_count": null,
   "metadata": {},
   "outputs": [],
   "source": []
  },
  {
   "cell_type": "code",
   "execution_count": null,
   "metadata": {},
   "outputs": [],
   "source": []
  },
  {
   "cell_type": "code",
   "execution_count": null,
   "metadata": {},
   "outputs": [],
   "source": [
    "# #Test for instantiation of lots, residences built by developers, units per residence\n",
    "# for lot in sim.lots[-1]:\n",
    "#     print('Lot size:', lot.size)\n",
    "#     print('Number of buildings on lot:', len(lot.residences[-1]))\n",
    "#     for residence in lot.residences[-1]:\n",
    "#         print('Building size:', residence.size)\n",
    "#         print('Building zoned as:', residence.zoned_as)\n",
    "#         print('Units in building:', len(residence.units[-1]))\n",
    "#         print('Sqft per unit:', residence.size / len(residence.units[-1]))\n",
    "#         for unit in residence.units[-1]:\n",
    "#             print('Unit size:', unit.size)\n",
    "#             print('Unit initial value:', unit.value[0])\n",
    "#             print('Unit current value:', unit.value[-1])\n",
    "#             print('Household size:', unit.occ[-1].size)\n",
    "#             print('Household spending power:', unit.occ[-1].size)\n",
    "#     print('\\n')"
   ]
  },
  {
   "cell_type": "code",
   "execution_count": null,
   "metadata": {},
   "outputs": [],
   "source": []
  },
  {
   "cell_type": "code",
   "execution_count": null,
   "metadata": {},
   "outputs": [],
   "source": []
  },
  {
   "cell_type": "code",
   "execution_count": null,
   "metadata": {},
   "outputs": [],
   "source": []
  },
  {
   "cell_type": "code",
   "execution_count": null,
   "metadata": {},
   "outputs": [],
   "source": []
  },
  {
   "cell_type": "code",
   "execution_count": null,
   "metadata": {},
   "outputs": [],
   "source": []
  },
  {
   "cell_type": "code",
   "execution_count": null,
   "metadata": {},
   "outputs": [],
   "source": []
  },
  {
   "cell_type": "code",
   "execution_count": null,
   "metadata": {},
   "outputs": [],
   "source": []
  },
  {
   "cell_type": "code",
   "execution_count": null,
   "metadata": {},
   "outputs": [],
   "source": []
  },
  {
   "cell_type": "code",
   "execution_count": null,
   "metadata": {},
   "outputs": [],
   "source": []
  },
  {
   "cell_type": "code",
   "execution_count": null,
   "metadata": {},
   "outputs": [],
   "source": [
    "#CITY SETTINGS\n",
    "#Size of land area in sqft (for now)\n",
    "land = 1000000 #one trillion sqft in SF\n",
    "num_lots = 1000 #800,000 in SF\n",
    "lot_size_avg = 2000\n",
    "lot_size_std = 500\n",
    "\n",
    "#Starting population\n",
    "pop_start = 1000\n",
    "has_avg = 2000\n",
    "has_std = 500\n",
    "\n",
    "#Time and money\n",
    "inflation = 0.02\n",
    "years = 10\n",
    "\n",
    "#Probability distribution of house sizes\n",
    "#house_size_dist = np.random.normal(scale = house_size_std, loc = avg_house_size, size = households)\n",
    "\n",
    "\n",
    "sim = Simulation(total_time_steps = years, \n",
    "                 land = land, \n",
    "                 num_lots = num_lots, \n",
    "                 lot_size_avg = lot_size_avg, \n",
    "                 lot_size_std = lot_size_std,\n",
    "                 pop_start = pop_start, \n",
    "                 has_avg = has_avg, \n",
    "                 has_std = has_std, \n",
    "                 inflation = inflation,\n",
    "                 )"
   ]
  },
  {
   "cell_type": "code",
   "execution_count": null,
   "metadata": {},
   "outputs": [],
   "source": []
  },
  {
   "cell_type": "code",
   "execution_count": null,
   "metadata": {},
   "outputs": [],
   "source": []
  },
  {
   "cell_type": "markdown",
   "metadata": {},
   "source": [
    "# Viz: Assigning lots at start of sim (throws an error when top of grid is reached)"
   ]
  },
  {
   "cell_type": "code",
   "execution_count": null,
   "metadata": {},
   "outputs": [],
   "source": [
    "#VIZ\n",
    "def draw_land_grid(land):\n",
    "    '''Writes a dict of y values, each with a dict of x values.\n",
    "    Works as a grid of xes and yes.'''\n",
    "    root = int(np.round(np.sqrt(land), 0) + 3)\n",
    "    x_range = root\n",
    "    y_range = root\n",
    "    #Each point in the dict will get switched True when a house is drawn on it\n",
    "    grid = {y: {x: False for x in np.arange(x_range)} for y in np.arange(y_range)}\n",
    "    return grid\n",
    "\n",
    "def assign_loc(lot, x, y, frontage):\n",
    "    '''\n",
    "    Assign a location to a lot.\n",
    "    '''\n",
    "    xes = np.arange(x, x + frontage)\n",
    "    yes = np.arange(y, y + frontage)\n",
    "    loc = [(x, y) for y in yes for x in xes]\n",
    "    lot.loc = loc\n",
    "    \n",
    "def fill_coords(grid, loc):\n",
    "    '''\n",
    "    Fill the coords in the grid dict after assignment of previous lot.\n",
    "    '''\n",
    "    for coord in loc:\n",
    "        #Reset the point to True in the dict of grid\n",
    "        grid[coord[1]][coord[0]] = True\n",
    "\n",
    "def avail(grid, x_, y_, frontage):\n",
    "    #X adjusted to the left for padding\n",
    "    x = x_ - 1\n",
    "    #Y adjusted to the left for padding\n",
    "    y = y_ - 1\n",
    "    x_range = np.arange((x), (x + frontage + 2))\n",
    "    y_range = np.arange((y), (y + frontage + 2))\n",
    "    #List of bools returned from each point checked\n",
    "    bottom = [grid[y][x_i] for x_i in x_range[:-1]]\n",
    "    top = [grid[y + frontage][x_i] for x_i in x_range[1:]]\n",
    "    left = [grid[y_i][x] for y_i in y_range[1:]]\n",
    "    right = [grid[y_i][x + frontage] for y_i in y_range[:-1]]\n",
    "    \n",
    "    #Value of all bools\n",
    "    points = sum(bottom) + sum(top) + sum(left) + sum(right)\n",
    "    \n",
    "    #If even one point in the proposed lot is taken (points != 0)\n",
    "    if points:\n",
    "        return False\n",
    "    #If not a single point in the proposed lot is taken (points == 0)\n",
    "    else:\n",
    "        #print(x, y, 'is avail!')\n",
    "        return True\n",
    "\n",
    "#(Each row is a tuple of (x, bool))\n",
    "def find_loc(grid, lot, next_x, next_y):\n",
    "    '''\n",
    "    #Traverse each row in the land grid via grid dict\n",
    "    '''\n",
    "    #Padding -1 right side\n",
    "    x_range = len(grid[0]) - 1\n",
    "    #Padding -1 top\n",
    "    y_range = len(grid) - 1\n",
    "    \n",
    "    #One side of the square lot\n",
    "    frontage = int(np.round(np.sqrt(lot.size), 0))\n",
    "    \n",
    "     #Traverse the y rows in the grid dict\n",
    "    for y in np.arange(next_y, y_range):\n",
    "        #If row isn't too full for this lot\n",
    "        if x_range - sum([v for k, v in grid[y].items()]) > frontage:\n",
    "            #print('Looking in row', y)\n",
    "            #Traverse the row of x values\n",
    "            for x in np.arange(next_x, x_range):\n",
    "                #print('Looking in x', x)\n",
    "                #If the right side of the lot is at the right edge of the grid, \n",
    "                #and at or below the top, continue\n",
    "                if ((x + frontage) <= (x_range - 1)) and ((y + frontage) <= (y_range - 1)):\n",
    "                    #If all frontage points in the proposed lot return False\n",
    "                    if avail(grid, x, y, frontage):\n",
    "                        #print('Assigning lot at', x, y)\n",
    "                        #House gets assigned these coords\n",
    "                        assign_loc(lot, x, y, frontage)\n",
    "                        #Coords get changed to True in the grid dict\n",
    "                        fill_coords(grid, lot.loc)\n",
    "                        #Break the loop\n",
    "                        #print('Found lot for ', lot.size)\n",
    "                        #Return next x and next y to start on\n",
    "                        #print((x + frontage), y)\n",
    "                        return (x + frontage), y\n",
    "        #If spot isn't found, reset x to 0 before moving up to next y\n",
    "        #(Start at 1, not 0, for padding on left side)\n",
    "        next_x = 1\n"
   ]
  },
  {
   "cell_type": "code",
   "execution_count": null,
   "metadata": {
    "scrolled": true
   },
   "outputs": [],
   "source": [
    "#Draw grid for sim\n",
    "grid = draw_land_grid(land)\n",
    "\n",
    "counter = 0\n",
    "#Padding +1\n",
    "next_x = 1\n",
    "#Padding +1\n",
    "next_y = 1\n",
    "\n",
    "for _ in tqdm(range(len(sim.housing_stock))):\n",
    "    #Draw a lot on the grid\n",
    "    next_x, next_y = find_loc(grid, sim.housing_stock[_], next_x, next_y)\n",
    "    #counter += 1\n",
    "    #print(counter, 'out of', len(sim.housing_stock))"
   ]
  },
  {
   "cell_type": "code",
   "execution_count": null,
   "metadata": {},
   "outputs": [],
   "source": [
    "#What does the grid look like?\n",
    "grid[0]"
   ]
  },
  {
   "cell_type": "code",
   "execution_count": null,
   "metadata": {},
   "outputs": [],
   "source": [
    "  "
   ]
  },
  {
   "cell_type": "code",
   "execution_count": null,
   "metadata": {},
   "outputs": [],
   "source": [
    "sim.housing_stock[10].sold"
   ]
  },
  {
   "cell_type": "code",
   "execution_count": null,
   "metadata": {},
   "outputs": [],
   "source": [
    "sim.run()"
   ]
  },
  {
   "cell_type": "markdown",
   "metadata": {},
   "source": [
    "# Visualizing lots (some overlap)"
   ]
  },
  {
   "cell_type": "code",
   "execution_count": null,
   "metadata": {},
   "outputs": [],
   "source": [
    "#Draw viz of all lots\n",
    "fig = plt.figure(figsize = (14,14))\n",
    "for lot in sim.housing_stock:\n",
    "    if lot.sold:\n",
    "        color = 'blue'\n",
    "    else:\n",
    "        color = np.random.choice(['dimgray', 'darkgray', 'silver', 'slategray', 'powderblue', 'whitesmoke'])\n",
    "    x = [point[0] for point in lot.loc]\n",
    "    y = [point[1] for point in lot.loc]\n",
    "    #ADD IF STATEMENT FOR SALE OF LOT\n",
    "    plt.scatter(x, y, label = lot.size, marker = 's', color = color)\n",
    "plt.show()"
   ]
  },
  {
   "cell_type": "code",
   "execution_count": null,
   "metadata": {},
   "outputs": [],
   "source": [
    "#Draw viz of all lots\n",
    "fig = plt.figure(figsize = (14,14))\n",
    "for lot in sim.housing_stock:\n",
    "    if lot.sold:\n",
    "        color = 'blue'\n",
    "    else:\n",
    "        color = np.random.choice(['dimgray', 'darkgray', 'silver', 'slategray', 'powderblue', 'whitesmoke'])\n",
    "    x = [point[0] for point in lot.loc]\n",
    "    y = [point[1] for point in lot.loc]\n",
    "    #ADD IF STATEMENT FOR SALE OF LOT\n",
    "    plt.scatter(x, y, label = lot.size, marker = 's', color = color)\n",
    "plt.show()"
   ]
  },
  {
   "cell_type": "code",
   "execution_count": null,
   "metadata": {},
   "outputs": [],
   "source": []
  },
  {
   "cell_type": "code",
   "execution_count": null,
   "metadata": {},
   "outputs": [],
   "source": []
  },
  {
   "cell_type": "code",
   "execution_count": null,
   "metadata": {},
   "outputs": [],
   "source": []
  },
  {
   "cell_type": "code",
   "execution_count": null,
   "metadata": {},
   "outputs": [],
   "source": []
  },
  {
   "cell_type": "code",
   "execution_count": null,
   "metadata": {},
   "outputs": [],
   "source": []
  },
  {
   "cell_type": "code",
   "execution_count": null,
   "metadata": {},
   "outputs": [],
   "source": []
  },
  {
   "cell_type": "code",
   "execution_count": null,
   "metadata": {},
   "outputs": [],
   "source": []
  },
  {
   "cell_type": "code",
   "execution_count": null,
   "metadata": {},
   "outputs": [],
   "source": []
  },
  {
   "cell_type": "code",
   "execution_count": null,
   "metadata": {},
   "outputs": [],
   "source": [
    "# def match(hh, ua, i, j, indices):\n",
    "#     '''\n",
    "#     Takes in numpy arrays of unit values and household spending power and\n",
    "#     compares them to match units to households.\n",
    "#     A household can take a unit that costs less than or equal to\n",
    "#     its spending power but not more. \n",
    "#     (Some rich households may wind up getting cheap units.)\n",
    "#     (Many poor household just won't get a unit.)\n",
    "#     '''\n",
    "#     #indices = indices\n",
    "#     #COMBINE THESE FIRST THREE LATER AFTER SATISFIED WITH CODE.\n",
    "#     #Case 1: ua index is out of bounds, stop the sequence.\n",
    "#     if (j >= len(ua)):\n",
    "#         print(f'Case 1: End of units reached: j is {j}')\n",
    "#         print(f'len(hh) {len(hh)}, i at {i}, j at {j},')\n",
    "#         print(f'and indices at {indices}')\n",
    "#     #Case 2: hh index is out of bounds, stop the sequence.\n",
    "#     elif (i >= len(hh)):\n",
    "#         print(f'Case 2: End of households reached: i is {i} and len(hh) is {len(hh)}')\n",
    "#         print(f'len(hh) {len(hh)}, i at {i}, j at {j},')\n",
    "#         print(f'and indices at {indices}')\n",
    "#     #Case 3: If the rest of the hh array is zeros, stop the sequence.\n",
    "#     #(Possible if there are more households than units. Some go unhoused.)\n",
    "#     elif (hh[i:].sum() == 0):\n",
    "#         print(f'Case 3: Remaining households are zeros: {hh[i:-1].sum()}')\n",
    "#         print(hh[i:-1])\n",
    "#         print(f'len(hh) {len(hh)}, i at {i}, j at {j},')\n",
    "#         print(f'and indices at {indices}')\n",
    "#     #Case 2: continue the sequence.\n",
    "#     else:\n",
    "#         #Case A: If this h is a 0, just move down one row of h\n",
    "#         #but stay on same row of units\n",
    "#         if not hh[i]:\n",
    "#             i += 1\n",
    "#             print(f'Case A: hh at {i} is zero: {hh[i]}')\n",
    "#         #Case B: If this h isn't zero and it's greater than/equal to the unit,\n",
    "#         #then the household can move into the unit.\n",
    "#         #Move down one row in both arrays.\n",
    "#         elif hh[i] and hh[i] >= ua[j]:\n",
    "#             print(f'Case B: {hh[i]} can live at{ua[j]}')\n",
    "#             i += 1\n",
    "#             j += 1\n",
    "#         #Case C: If this h isn't zero and it's less than the unit,\n",
    "#         #then no households can afford this unit. Move down one row in both arrays.\n",
    "#         #(This unit at index j goes unoccupied.)\n",
    "#         elif hh[i] and hh[i] < ua[j]:\n",
    "#             print(f'Case C: {hh[i]} cannot live at {ua[j]}')\n",
    "#             print(F'Inserting a zero into hh array before index {i}')\n",
    "#             #print('New hh:')\n",
    "#             #print(hh)\n",
    "#             hh = np.insert(hh, i, 0)\n",
    "#             indices.append(i)\n",
    "#             i += 1\n",
    "#             j += 1\n",
    "#      #End of Case 2. Now recursively call match.   \n",
    "#         print(f'Recursively calling match with len(hh) {len(hh)}, i at {i}, j at {j},')\n",
    "#         print(f'and indices at {indices}')\n",
    "#         match(hh, ua, i, j, indices)   \n",
    "#     #Outside the loops, return indices to ride the layers of recursion\n",
    "#     return indices"
   ]
  }
 ],
 "metadata": {
  "kernelspec": {
   "display_name": "Python 3",
   "language": "python",
   "name": "python3"
  },
  "language_info": {
   "codemirror_mode": {
    "name": "ipython",
    "version": 3
   },
   "file_extension": ".py",
   "mimetype": "text/x-python",
   "name": "python",
   "nbconvert_exporter": "python",
   "pygments_lexer": "ipython3",
   "version": "3.7.0"
  }
 },
 "nbformat": 4,
 "nbformat_minor": 2
}
