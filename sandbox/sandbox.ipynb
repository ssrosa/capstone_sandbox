{
 "cells": [
  {
   "cell_type": "markdown",
   "metadata": {},
   "source": [
    "# Capstone Project Sandbox"
   ]
  },
  {
   "cell_type": "code",
   "execution_count": 6,
   "metadata": {},
   "outputs": [],
   "source": [
    "import numpy as np\n",
    "import matplotlib.pyplot as plt"
   ]
  },
  {
   "cell_type": "code",
   "execution_count": 41,
   "metadata": {},
   "outputs": [],
   "source": []
  },
  {
   "cell_type": "code",
   "execution_count": 21,
   "metadata": {},
   "outputs": [
    {
     "data": {
      "text/plain": [
       "2014846.1369563257"
      ]
     },
     "execution_count": 21,
     "metadata": {},
     "output_type": "execute_result"
    }
   ],
   "source": [
    "house_size_dist.sum()"
   ]
  },
  {
   "cell_type": "code",
   "execution_count": 10,
   "metadata": {
    "collapsed": true
   },
   "outputs": [
    {
     "data": {
      "text/plain": [
       "(array([1.0000e+00, 0.0000e+00, 0.0000e+00, 8.0000e+00, 1.8000e+01,\n",
       "        5.3000e+01, 9.7000e+01, 2.1000e+02, 3.8900e+02, 6.6100e+02,\n",
       "        1.1620e+03, 2.0330e+03, 3.4020e+03, 5.2720e+03, 7.9750e+03,\n",
       "        1.1545e+04, 1.6114e+04, 2.2029e+04, 2.8737e+04, 3.5947e+04,\n",
       "        4.2861e+04, 5.0264e+04, 5.5774e+04, 6.0065e+04, 6.2474e+04,\n",
       "        6.2005e+04, 5.9732e+04, 5.4571e+04, 4.8754e+04, 4.1716e+04,\n",
       "        3.4036e+04, 2.6710e+04, 2.0422e+04, 1.5233e+04, 1.0608e+04,\n",
       "        7.2660e+03, 4.8530e+03, 2.9110e+03, 1.8520e+03, 1.0500e+03,\n",
       "        5.7100e+02, 3.0500e+02, 1.6600e+02, 8.5000e+01, 3.5000e+01,\n",
       "        1.7000e+01, 3.0000e+00, 5.0000e+00, 0.0000e+00, 3.0000e+00]),\n",
       " array([-437.01134376, -339.06168206, -241.11202037, -143.16235868,\n",
       "         -45.21269699,   52.7369647 ,  150.68662639,  248.63628808,\n",
       "         346.58594978,  444.53561147,  542.48527316,  640.43493485,\n",
       "         738.38459654,  836.33425823,  934.28391992, 1032.23358162,\n",
       "        1130.18324331, 1228.132905  , 1326.08256669, 1424.03222838,\n",
       "        1521.98189007, 1619.93155176, 1717.88121345, 1815.83087515,\n",
       "        1913.78053684, 2011.73019853, 2109.67986022, 2207.62952191,\n",
       "        2305.5791836 , 2403.52884529, 2501.47850699, 2599.42816868,\n",
       "        2697.37783037, 2795.32749206, 2893.27715375, 2991.22681544,\n",
       "        3089.17647713, 3187.12613883, 3285.07580052, 3383.02546221,\n",
       "        3480.9751239 , 3578.92478559, 3676.87444728, 3774.82410897,\n",
       "        3872.77377066, 3970.72343236, 4068.67309405, 4166.62275574,\n",
       "        4264.57241743, 4362.52207912, 4460.47174081]),\n",
       " <a list of 50 Patch objects>)"
      ]
     },
     "execution_count": 10,
     "metadata": {},
     "output_type": "execute_result"
    },
    {
     "data": {
      "image/png": "[encoded data removed]",
      "text/plain": [
       "<Figure size 432x288 with 1 Axes>"
      ]
     },
     "metadata": {
      "needs_background": "light"
     },
     "output_type": "display_data"
    }
   ],
   "source": [
    "plt.hist(house_size_dist, bins = 50)"
   ]
  },
  {
   "cell_type": "code",
   "execution_count": 18,
   "metadata": {},
   "outputs": [],
   "source": [
    "class Lot(object):\n",
    "    def __init__(self):\n",
    "        self.size = None\n",
    "        #Coords where lot is. Just for viz\n",
    "        self.loc = []\n",
    "        #Simplify model by making land worth $1 per sqft at start\n",
    "        self.value = self.size\n",
    "        self.owned_by = None\n",
    "\n",
    "#    def value_increase(self, by):\n",
    "        #Start with just inflation\n",
    "        #self.value *= 1 + by\n",
    "\n",
    "#Lot.value_increase = value_increase\n",
    "\n",
    "class Household(object):\n",
    "    def __init__(self):\n",
    "        self.lot = None\n",
    "        #Simplify model by holding can_spend constant\n",
    "        self.can_spend = 0\n",
    "\n",
    "def sell():\n",
    "    pass\n",
    "    \n",
    "class Simulation(object):\n",
    "    def __init__(self, land, num_lots, lot_size_avg, lot_size_std,\n",
    "                 pop_start, can_spend_avg, can_spend_std,\n",
    "                 years):\n",
    "        self.housing_stock = []\n",
    "        #self.land_log = [land]\n",
    "        \n",
    "        #Create population distribution to simulate variety of lot sizes\n",
    "        #For now house size equals lot size\n",
    "        lots = np.random.normal(scale = lot_size_std, loc = lot_size_avg, size = num_lots)\n",
    "        \n",
    "        #Fill up land area with lots\n",
    "        while land > 0:\n",
    "            size = np.random.choice(lots, replace = False)\n",
    "            #Create a new household only if the house/lot size will fit on the available land left\n",
    "            if size > land:\n",
    "                #Need to break the loop here otherwise it keeps running until a random size is\n",
    "                #drawn that fits the available remaning land.\n",
    "                break\n",
    "            else:\n",
    "                 #Instantiate a lot with a random size\n",
    "                lot = Lot()\n",
    "                lot.size = size\n",
    "                #Simplify model by making land worth $1/sqft\n",
    "                lot.value = size\n",
    "                land -= size\n",
    "                self.housing_stock.append(lot)"
   ]
  },
  {
   "cell_type": "code",
   "execution_count": 15,
   "metadata": {},
   "outputs": [],
   "source": [
    "#CITY SETTINGS\n",
    "#Size of land area in sqft (for now)\n",
    "land = 1000000 #one trillion sqft in SF\n",
    "num_lots = 1000 #800,000 in SF\n",
    "lot_size_avg = 2000\n",
    "lot_size_std = 500\n",
    "\n",
    "#Starting population\n",
    "pop_start = 1000\n",
    "can_spend_avg = 2000\n",
    "can_spend_std = 500\n",
    "\n",
    "years = 10\n",
    "\n",
    "#Probability distribution of house sizes\n",
    "#house_size_dist = np.random.normal(scale = house_size_std, loc = avg_house_size, size = households)\n",
    "\n",
    "\n",
    "sim = Simulation(land = land, num_lots = num_lots, lot_size_avg = lot_size_avg, lot_size_std = lot_size_std,\n",
    "                 pop_start = pop_start, can_spend_avg = can_spend_avg, can_spend_std = can_spend_std,\n",
    "                 years = years)"
   ]
  },
  {
   "cell_type": "code",
   "execution_count": 33,
   "metadata": {},
   "outputs": [],
   "source": [
    "#Create square grid to draw lots on\n",
    "#Length is sqrt of land, width is sqrt of land\n",
    "root = int(np.round(np.sqrt(land), 0) + 1)\n",
    "x_range = root\n",
    "y_range = root\n",
    "#Grid is list of tuples\n",
    "grid = [(x, y) for y in np.arange(y_range) for x in np.arange(x_range)]\n",
    "#Each point in the dict will get switched True when a house is drawn on it\n",
    "points_taken = {coord: False for coord in grid}"
   ]
  },
  {
   "cell_type": "code",
   "execution_count": null,
   "metadata": {},
   "outputs": [],
   "source": [
    "#Draw a lot\n",
    "\n",
    "#Build lots from left to right, bottom to top\n",
    "#Traverse x axis from left to right looking for untaken points\n",
    "#1 point along the x at a time\n",
    "#If edge is reached, increase y by 1 and restart \n",
    "#Will be simpler if it doesn't have to look for enough y space too"
   ]
  },
  {
   "cell_type": "code",
   "execution_count": null,
   "metadata": {},
   "outputs": [],
   "source": []
  },
  {
   "cell_type": "code",
   "execution_count": 27,
   "metadata": {},
   "outputs": [],
   "source": [
    "#xes = [i[0] for i in grid]\n",
    "#yes = [i[1] for i in grid]\n",
    "#plt.scatter(xes, yes)"
   ]
  },
  {
   "cell_type": "code",
   "execution_count": 36,
   "metadata": {},
   "outputs": [
    {
     "data": {
      "text/plain": [
       "487"
      ]
     },
     "execution_count": 36,
     "metadata": {},
     "output_type": "execute_result"
    }
   ],
   "source": [
    "len(sim.housing_stock)"
   ]
  },
  {
   "cell_type": "code",
   "execution_count": null,
   "metadata": {},
   "outputs": [],
   "source": []
  },
  {
   "cell_type": "code",
   "execution_count": null,
   "metadata": {},
   "outputs": [],
   "source": []
  },
  {
   "cell_type": "code",
   "execution_count": null,
   "metadata": {},
   "outputs": [],
   "source": []
  },
  {
   "cell_type": "code",
   "execution_count": 17,
   "metadata": {},
   "outputs": [
    {
     "data": {
      "text/plain": [
       "1001.0"
      ]
     },
     "execution_count": 17,
     "metadata": {},
     "output_type": "execute_result"
    }
   ],
   "source": [
    "np.round(np.sqrt(land), 0) + 1"
   ]
  },
  {
   "cell_type": "code",
   "execution_count": null,
   "metadata": {},
   "outputs": [],
   "source": []
  },
  {
   "cell_type": "code",
   "execution_count": null,
   "metadata": {},
   "outputs": [],
   "source": []
  },
  {
   "cell_type": "code",
   "execution_count": 10,
   "metadata": {},
   "outputs": [
    {
     "data": {
      "text/plain": [
       "503"
      ]
     },
     "execution_count": 10,
     "metadata": {},
     "output_type": "execute_result"
    }
   ],
   "source": [
    "len(sim.housing_stock)"
   ]
  },
  {
   "cell_type": "code",
   "execution_count": 11,
   "metadata": {},
   "outputs": [],
   "source": [
    "total_housing_area = [house.size for house in sim.housing_stock]"
   ]
  },
  {
   "cell_type": "code",
   "execution_count": 12,
   "metadata": {},
   "outputs": [
    {
     "data": {
      "text/plain": [
       "998189.6217209711"
      ]
     },
     "execution_count": 12,
     "metadata": {},
     "output_type": "execute_result"
    }
   ],
   "source": [
    "sum(total_housing_area)"
   ]
  },
  {
   "cell_type": "code",
   "execution_count": 13,
   "metadata": {},
   "outputs": [
    {
     "data": {
      "text/plain": [
       "(array([ 4.,  0.,  2.,  0.,  2.,  2.,  0.,  2.,  3.,  3.,  1.,  2.,  7.,\n",
       "         7.,  5., 10., 13.,  9.,  7., 14.,  8., 31., 31., 20., 18., 34.,\n",
       "        10., 27., 18., 26., 13., 17., 19., 15., 21., 22., 13.,  9., 13.,\n",
       "        13., 13.,  3.,  5.,  2.,  1.,  3.,  1.,  1.,  0.,  3.]),\n",
       " array([ 422.53871372,  480.04012851,  537.5415433 ,  595.0429581 ,\n",
       "         652.54437289,  710.04578768,  767.54720247,  825.04861726,\n",
       "         882.55003205,  940.05144684,  997.55286163, 1055.05427642,\n",
       "        1112.55569121, 1170.057106  , 1227.5585208 , 1285.05993559,\n",
       "        1342.56135038, 1400.06276517, 1457.56417996, 1515.06559475,\n",
       "        1572.56700954, 1630.06842433, 1687.56983912, 1745.07125391,\n",
       "        1802.5726687 , 1860.0740835 , 1917.57549829, 1975.07691308,\n",
       "        2032.57832787, 2090.07974266, 2147.58115745, 2205.08257224,\n",
       "        2262.58398703, 2320.08540182, 2377.58681661, 2435.08823141,\n",
       "        2492.5896462 , 2550.09106099, 2607.59247578, 2665.09389057,\n",
       "        2722.59530536, 2780.09672015, 2837.59813494, 2895.09954973,\n",
       "        2952.60096452, 3010.10237931, 3067.60379411, 3125.1052089 ,\n",
       "        3182.60662369, 3240.10803848, 3297.60945327]),\n",
       " <a list of 50 Patch objects>)"
      ]
     },
     "execution_count": 13,
     "metadata": {},
     "output_type": "execute_result"
    },
    {
     "data": {
      "image/png": "[encoded data removed]",
      "text/plain": [
       "<Figure size 432x288 with 1 Axes>"
      ]
     },
     "metadata": {
      "needs_background": "light"
     },
     "output_type": "display_data"
    }
   ],
   "source": [
    "plt.hist(total_housing_area, bins = 50)"
   ]
  },
  {
   "cell_type": "code",
   "execution_count": null,
   "metadata": {},
   "outputs": [],
   "source": []
  }
 ],
 "metadata": {
  "kernelspec": {
   "display_name": "Python 3",
   "language": "python",
   "name": "python3"
  },
  "language_info": {
   "codemirror_mode": {
    "name": "ipython",
    "version": 3
   },
   "file_extension": ".py",
   "mimetype": "text/x-python",
   "name": "python",
   "nbconvert_exporter": "python",
   "pygments_lexer": "ipython3",
   "version": "3.7.0"
  }
 },
 "nbformat": 4,
 "nbformat_minor": 2
}
