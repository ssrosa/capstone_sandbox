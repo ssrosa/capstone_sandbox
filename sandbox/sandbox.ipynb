{
 "cells": [
  {
   "cell_type": "markdown",
   "metadata": {},
   "source": [
    "# Capstone Project Sandbox"
   ]
  },
  {
   "cell_type": "code",
   "execution_count": 1,
   "metadata": {},
   "outputs": [],
   "source": [
    "import numpy as np\n",
    "import matplotlib.pyplot as plt"
   ]
  },
  {
   "cell_type": "code",
   "execution_count": 2,
   "metadata": {},
   "outputs": [],
   "source": [
    "class Lot(object):\n",
    "    def __init__(self):\n",
    "        self.size = None\n",
    "        #Coords where lot is. Just for viz\n",
    "        self.loc = []\n",
    "        #Simplify model by making land worth $1 per sqft at start\n",
    "        self.value = self.size\n",
    "        self.owned_by = None\n",
    "\n",
    "#    def value_increase(self, by):\n",
    "        #Start with just inflation\n",
    "        #self.value *= 1 + by\n",
    "\n",
    "#Lot.value_increase = value_increase\n",
    "\n",
    "class Household(object):\n",
    "    def __init__(self):\n",
    "        self.lot = None\n",
    "        #Simplify model by holding can_spend constant\n",
    "        self.can_spend = 0\n",
    "\n",
    "def sell():\n",
    "    pass\n",
    "    \n",
    "class Simulation(object):\n",
    "    def __init__(self, land, num_lots, lot_size_avg, lot_size_std,\n",
    "                 pop_start, can_spend_avg, can_spend_std,\n",
    "                 years):\n",
    "        self.housing_stock = []\n",
    "        #self.land_log = [land]\n",
    "        \n",
    "        #Create population distribution to simulate variety of lot sizes\n",
    "        #For now house size equals lot size\n",
    "        lots = np.random.normal(scale = lot_size_std, loc = lot_size_avg, size = num_lots)\n",
    "        \n",
    "        #Fill up land area with lots\n",
    "        while land > 0:\n",
    "            size = np.round(np.random.choice(lots, replace = False), 0)\n",
    "            #Create a new household only if the house/lot size will fit on the available land left\n",
    "            if size > land:\n",
    "                #Need to break the loop here otherwise it keeps running until a random size is\n",
    "                #drawn that fits the available remaning land.\n",
    "                break\n",
    "            else:\n",
    "                 #Instantiate a lot with a random size\n",
    "                lot = Lot()\n",
    "                lot.size = size\n",
    "                #Simplify model by making land worth $1/sqft\n",
    "                lot.value = size\n",
    "                land -= size\n",
    "                self.housing_stock.append(lot)"
   ]
  },
  {
   "cell_type": "code",
   "execution_count": 270,
   "metadata": {},
   "outputs": [],
   "source": [
    "def draw_land_grid(land):\n",
    "    '''Writes a dict of y values, each with a dict of x values.\n",
    "    Works as a grid of xes and yes.'''\n",
    "    root = int(np.round(np.sqrt(land), 0) + 3)\n",
    "    x_range = root\n",
    "    y_range = root\n",
    "    #Each point in the dict will get switched True when a house is drawn on it\n",
    "    grid = {y: {x: False for x in np.arange(x_range)} for y in np.arange(y_range)}\n",
    "    return grid\n",
    "\n",
    "#(Each row is a tuple of (x, bool))\n",
    "def find_loc(grid, lot, next_x, next_y):\n",
    "    '''\n",
    "    #Traverse each row in the land grid via grid dict\n",
    "    '''\n",
    "    x_range = len(grid[0])\n",
    "    y_range = len(grid)\n",
    "    #One side of the square lot\n",
    "    frontage = int(np.round(np.sqrt(lot.size), 0))\n",
    "    #Traverse the y rows in the grid dict\n",
    "    for y in np.arange(next_y, y_range):\n",
    "        #If row isn't too full for this lot\n",
    "        if x_range - sum([x_i for x_i in grid[y]]) > frontage:\n",
    "        \n",
    "            print('Looking in row', y)\n",
    "            #Traverse the row of x values\n",
    "            for x in np.arange(next_x, x_range):\n",
    "                print('Looking in x', x)\n",
    "                #If the right side of the lot is at the right edge of the grid, \n",
    "                #and at or below the top, continue\n",
    "                if ((x + frontage) <= (x_range - 1)) and ((y + frontage) <= (y_range - 1)):\n",
    "                    #If all frontage points in the proposed lot return False\n",
    "                    if avail(grid, x, y, frontage):\n",
    "                        print('Assigning lot here')\n",
    "                        #House gets assigned these coords\n",
    "                        assign_loc(lot, x, y)\n",
    "                        #Coords get changed to True in the grid dict\n",
    "                        fill_coords(grid, lot.loc)\n",
    "                        #Break the loop\n",
    "                        #print('Found lot for ', lot.size)\n",
    "                        #Return next x and next y to start on\n",
    "                        return (x + frontage), y\n",
    "        #If spot isn't found, reset x to 0 before moving up to next y\n",
    "        next_x = 0\n",
    "    #else:\n",
    "        #print(y, (sum([v for k, v in xes.items()]) > (len(xes) * 0.9)))\n",
    "\n",
    "def assign_loc(lot, x, y):\n",
    "    '''\n",
    "    Assign a location to a lot.\n",
    "    '''\n",
    "    frontage = int(np.round(np.sqrt(lot.size), 0))\n",
    "    xes = np.arange(x, x + frontage)\n",
    "    yes = np.arange(y, y + frontage)\n",
    "    loc = [(x, y) for y in yes for x in xes]\n",
    "    lot.loc = loc\n",
    "    \n",
    "def fill_coords(grid, loc):\n",
    "    '''\n",
    "    Fill the coords in the grid dict after assignment of previous lot.\n",
    "    '''\n",
    "    for coord in loc:\n",
    "        #Reset the point to True in the dict of grid\n",
    "        grid[coord[1]][coord[0]] = True"
   ]
  },
  {
   "cell_type": "code",
   "execution_count": 260,
   "metadata": {},
   "outputs": [],
   "source": [
    "def avail(grid, x, y, frontage):\n",
    "    x_range = np.arange(x, x + frontage)\n",
    "    y_range = np.arange(y, y + frontage)\n",
    "    \n",
    "    #List of bools returned from each point checked\n",
    "    bottom_points = [grid[y][x_i] for x_i in x_range]\n",
    "    left_side_points = [grid[y_i][x] for y_i in y_range]\n",
    "    \n",
    "    #Value of all bools\n",
    "    points = sum(bottom_points) + sum(left_side_points)\n",
    "\n",
    "    #If even one point in the proposed lot is taken (points != 0)\n",
    "    if points:\n",
    "        return False\n",
    "    #If not a single point in the proposed lot is taken (points == 0)\n",
    "    else:\n",
    "        print(x, y, 'is avail!')\n",
    "        return True"
   ]
  },
  {
   "cell_type": "code",
   "execution_count": 265,
   "metadata": {},
   "outputs": [],
   "source": [
    "#CITY SETTINGS\n",
    "#Size of land area in sqft (for now)\n",
    "land = 1000000 #one trillion sqft in SF\n",
    "num_lots = 1000 #800,000 in SF\n",
    "lot_size_avg = 2000\n",
    "lot_size_std = 500\n",
    "\n",
    "#Starting population\n",
    "pop_start = 1000\n",
    "can_spend_avg = 2000\n",
    "can_spend_std = 500\n",
    "\n",
    "years = 10\n",
    "\n",
    "#Probability distribution of house sizes\n",
    "#house_size_dist = np.random.normal(scale = house_size_std, loc = avg_house_size, size = households)\n",
    "\n",
    "\n",
    "sim = Simulation(land = land, num_lots = num_lots, lot_size_avg = lot_size_avg, lot_size_std = lot_size_std,\n",
    "                 pop_start = pop_start, can_spend_avg = can_spend_avg, can_spend_std = can_spend_std,\n",
    "                 years = years)"
   ]
  },
  {
   "cell_type": "code",
   "execution_count": 266,
   "metadata": {},
   "outputs": [],
   "source": [
    "#Draw grid for sim\n",
    "grid = draw_land_grid(land)"
   ]
  },
  {
   "cell_type": "code",
   "execution_count": 271,
   "metadata": {},
   "outputs": [
    {
     "name": "stdout",
     "output_type": "stream",
     "text": [
      "0 0\n"
     ]
    },
    {
     "ename": "TypeError",
     "evalue": "cannot unpack non-iterable NoneType object",
     "output_type": "error",
     "traceback": [
      "\u001b[0;31m---------------------------------------------------------------------------\u001b[0m",
      "\u001b[0;31mTypeError\u001b[0m                                 Traceback (most recent call last)",
      "\u001b[0;32m<ipython-input-271-15329a17a01f>\u001b[0m in \u001b[0;36m<module>\u001b[0;34m()\u001b[0m\n\u001b[1;32m      4\u001b[0m \u001b[0;32mfor\u001b[0m \u001b[0mlot\u001b[0m \u001b[0;32min\u001b[0m \u001b[0msim\u001b[0m\u001b[0;34m.\u001b[0m\u001b[0mhousing_stock\u001b[0m\u001b[0;34m:\u001b[0m\u001b[0;34m\u001b[0m\u001b[0m\n\u001b[1;32m      5\u001b[0m     \u001b[0;31m#Draw a lot on the grid\u001b[0m\u001b[0;34m\u001b[0m\u001b[0;34m\u001b[0m\u001b[0m\n\u001b[0;32m----> 6\u001b[0;31m     \u001b[0mnext_x\u001b[0m\u001b[0;34m,\u001b[0m \u001b[0mnext_y\u001b[0m \u001b[0;34m=\u001b[0m \u001b[0mfind_loc\u001b[0m\u001b[0;34m(\u001b[0m\u001b[0mgrid\u001b[0m\u001b[0;34m,\u001b[0m \u001b[0mlot\u001b[0m\u001b[0;34m,\u001b[0m \u001b[0mnext_x\u001b[0m\u001b[0;34m,\u001b[0m \u001b[0mnext_y\u001b[0m\u001b[0;34m)\u001b[0m\u001b[0;34m\u001b[0m\u001b[0m\n\u001b[0m\u001b[1;32m      7\u001b[0m     \u001b[0mcounter\u001b[0m \u001b[0;34m+=\u001b[0m \u001b[0;36m1\u001b[0m\u001b[0;34m\u001b[0m\u001b[0m\n\u001b[1;32m      8\u001b[0m     \u001b[0mprint\u001b[0m\u001b[0;34m(\u001b[0m\u001b[0mcounter\u001b[0m\u001b[0;34m,\u001b[0m \u001b[0;34m'out of'\u001b[0m\u001b[0;34m,\u001b[0m \u001b[0mlen\u001b[0m\u001b[0;34m(\u001b[0m\u001b[0msim\u001b[0m\u001b[0;34m.\u001b[0m\u001b[0mhousing_stock\u001b[0m\u001b[0;34m)\u001b[0m\u001b[0;34m)\u001b[0m\u001b[0;34m\u001b[0m\u001b[0m\n",
      "\u001b[0;31mTypeError\u001b[0m: cannot unpack non-iterable NoneType object"
     ]
    }
   ],
   "source": [
    "counter = 0\n",
    "next_x = 0\n",
    "next_y = 0\n",
    "for lot in sim.housing_stock:\n",
    "    #Draw a lot on the grid\n",
    "    next_x, next_y = find_loc(grid, lot, next_x, next_y)\n",
    "    counter += 1\n",
    "    print(counter, 'out of', len(sim.housing_stock))"
   ]
  },
  {
   "cell_type": "code",
   "execution_count": 114,
   "metadata": {},
   "outputs": [
    {
     "data": {
      "text/plain": [
       "0"
      ]
     },
     "execution_count": 114,
     "metadata": {},
     "output_type": "execute_result"
    }
   ],
   "source": []
  },
  {
   "cell_type": "code",
   "execution_count": 188,
   "metadata": {},
   "outputs": [
    {
     "name": "stdout",
     "output_type": "stream",
     "text": [
      "CPU times: user 2 µs, sys: 0 ns, total: 2 µs\n",
      "Wall time: 3.81 µs\n"
     ]
    },
    {
     "data": {
      "image/png": "[encoded data removed]",
      "text/plain": [
       "<Figure size 720x720 with 1 Axes>"
      ]
     },
     "metadata": {
      "needs_background": "light"
     },
     "output_type": "display_data"
    }
   ],
   "source": [
    "\n",
    "fig = plt.figure(figsize = (10,10))\n",
    "%time\n",
    "for lot in sim.housing_stock:\n",
    "    x = [point[0] for point in lot.loc]\n",
    "    y = [point[1] for point in lot.loc]\n",
    "    plt.scatter(x, y, label = lot.size)\n",
    "\n",
    "plt.show()"
   ]
  },
  {
   "cell_type": "code",
   "execution_count": null,
   "metadata": {},
   "outputs": [],
   "source": []
  },
  {
   "cell_type": "code",
   "execution_count": null,
   "metadata": {},
   "outputs": [],
   "source": []
  },
  {
   "cell_type": "code",
   "execution_count": null,
   "metadata": {},
   "outputs": [],
   "source": []
  },
  {
   "cell_type": "code",
   "execution_count": null,
   "metadata": {},
   "outputs": [],
   "source": []
  },
  {
   "cell_type": "code",
   "execution_count": null,
   "metadata": {},
   "outputs": [],
   "source": []
  },
  {
   "cell_type": "code",
   "execution_count": null,
   "metadata": {},
   "outputs": [],
   "source": []
  },
  {
   "cell_type": "code",
   "execution_count": null,
   "metadata": {},
   "outputs": [],
   "source": []
  },
  {
   "cell_type": "code",
   "execution_count": null,
   "metadata": {},
   "outputs": [],
   "source": []
  },
  {
   "cell_type": "code",
   "execution_count": null,
   "metadata": {},
   "outputs": [],
   "source": []
  },
  {
   "cell_type": "code",
   "execution_count": null,
   "metadata": {},
   "outputs": [],
   "source": []
  },
  {
   "cell_type": "code",
   "execution_count": null,
   "metadata": {},
   "outputs": [],
   "source": []
  },
  {
   "cell_type": "code",
   "execution_count": null,
   "metadata": {},
   "outputs": [],
   "source": []
  },
  {
   "cell_type": "code",
   "execution_count": 11,
   "metadata": {},
   "outputs": [],
   "source": [
    "total_housing_area = [house.size for house in sim.housing_stock]"
   ]
  },
  {
   "cell_type": "code",
   "execution_count": 12,
   "metadata": {},
   "outputs": [
    {
     "data": {
      "text/plain": [
       "998189.6217209711"
      ]
     },
     "execution_count": 12,
     "metadata": {},
     "output_type": "execute_result"
    }
   ],
   "source": [
    "sum(total_housing_area)"
   ]
  },
  {
   "cell_type": "code",
   "execution_count": 13,
   "metadata": {
    "collapsed": true
   },
   "outputs": [
    {
     "data": {
      "text/plain": [
       "(array([ 4.,  0.,  2.,  0.,  2.,  2.,  0.,  2.,  3.,  3.,  1.,  2.,  7.,\n",
       "         7.,  5., 10., 13.,  9.,  7., 14.,  8., 31., 31., 20., 18., 34.,\n",
       "        10., 27., 18., 26., 13., 17., 19., 15., 21., 22., 13.,  9., 13.,\n",
       "        13., 13.,  3.,  5.,  2.,  1.,  3.,  1.,  1.,  0.,  3.]),\n",
       " array([ 422.53871372,  480.04012851,  537.5415433 ,  595.0429581 ,\n",
       "         652.54437289,  710.04578768,  767.54720247,  825.04861726,\n",
       "         882.55003205,  940.05144684,  997.55286163, 1055.05427642,\n",
       "        1112.55569121, 1170.057106  , 1227.5585208 , 1285.05993559,\n",
       "        1342.56135038, 1400.06276517, 1457.56417996, 1515.06559475,\n",
       "        1572.56700954, 1630.06842433, 1687.56983912, 1745.07125391,\n",
       "        1802.5726687 , 1860.0740835 , 1917.57549829, 1975.07691308,\n",
       "        2032.57832787, 2090.07974266, 2147.58115745, 2205.08257224,\n",
       "        2262.58398703, 2320.08540182, 2377.58681661, 2435.08823141,\n",
       "        2492.5896462 , 2550.09106099, 2607.59247578, 2665.09389057,\n",
       "        2722.59530536, 2780.09672015, 2837.59813494, 2895.09954973,\n",
       "        2952.60096452, 3010.10237931, 3067.60379411, 3125.1052089 ,\n",
       "        3182.60662369, 3240.10803848, 3297.60945327]),\n",
       " <a list of 50 Patch objects>)"
      ]
     },
     "execution_count": 13,
     "metadata": {},
     "output_type": "execute_result"
    },
    {
     "data": {
      "image/png": "[encoded data removed]",
      "text/plain": [
       "<Figure size 432x288 with 1 Axes>"
      ]
     },
     "metadata": {
      "needs_background": "light"
     },
     "output_type": "display_data"
    }
   ],
   "source": [
    "plt.hist(total_housing_area, bins = 50)"
   ]
  },
  {
   "cell_type": "code",
   "execution_count": null,
   "metadata": {},
   "outputs": [],
   "source": []
  }
 ],
 "metadata": {
  "kernelspec": {
   "display_name": "Python 3",
   "language": "python",
   "name": "python3"
  },
  "language_info": {
   "codemirror_mode": {
    "name": "ipython",
    "version": 3
   },
   "file_extension": ".py",
   "mimetype": "text/x-python",
   "name": "python",
   "nbconvert_exporter": "python",
   "pygments_lexer": "ipython3",
   "version": "3.7.0"
  }
 },
 "nbformat": 4,
 "nbformat_minor": 2
}
