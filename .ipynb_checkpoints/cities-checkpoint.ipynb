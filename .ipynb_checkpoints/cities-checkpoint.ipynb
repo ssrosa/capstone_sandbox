{
 "cells": [
  {
   "cell_type": "markdown",
   "metadata": {},
   "source": [
    "# City data"
   ]
  },
  {
   "cell_type": "code",
   "execution_count": 2,
   "metadata": {},
   "outputs": [],
   "source": [
    "import numpy as np\n",
    "import pandas as pd\n",
    "import matplotlib.pyplot as plt"
   ]
  },
  {
   "cell_type": "markdown",
   "metadata": {},
   "source": [
    "## San Francisco"
   ]
  },
  {
   "cell_type": "code",
   "execution_count": 54,
   "metadata": {},
   "outputs": [],
   "source": [
    "ca1850 = pd.read_csv('california_cities_1850.csv')\n",
    "ca1850.drop(['GeoID', 'sumlvl', 'county FIPS', 'Place ID', \n",
    "             'County', 'Incorpora-\\ntion Date (1)'], axis = 1, inplace = True)\n",
    "\n",
    "sf1850 = (ca1850[ca1850['Incorporated City \\nor Town'] == 'San Francisco'])\n",
    "sf1850.drop(['Incorporated City \\nor Town', 'June 1,\\n1850'], axis = 1, inplace = True)\n",
    "sf_census = sf1850.loc[436]\n",
    "years = list(sf_census.index)\n",
    "years = [int(year[-4:]) for year in years]\n",
    "pops = list(sf_census.values)\n",
    "pops = [int(pop.replace(',', '')) for pop in pops]\n",
    "sf_census = pd.Series(pops, index = years)"
   ]
  },
  {
   "cell_type": "code",
   "execution_count": null,
   "metadata": {},
   "outputs": [],
   "source": []
  },
  {
   "cell_type": "code",
   "execution_count": null,
   "metadata": {},
   "outputs": [],
   "source": []
  },
  {
   "cell_type": "code",
   "execution_count": null,
   "metadata": {},
   "outputs": [],
   "source": []
  }
 ],
 "metadata": {
  "kernelspec": {
   "display_name": "Python 3",
   "language": "python",
   "name": "python3"
  },
  "language_info": {
   "codemirror_mode": {
    "name": "ipython",
    "version": 3
   },
   "file_extension": ".py",
   "mimetype": "text/x-python",
   "name": "python",
   "nbconvert_exporter": "python",
   "pygments_lexer": "ipython3",
   "version": "3.7.0"
  }
 },
 "nbformat": 4,
 "nbformat_minor": 2
}
